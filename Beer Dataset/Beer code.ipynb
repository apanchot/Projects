{
 "cells": [
  {
   "cell_type": "markdown",
   "metadata": {},
   "source": [
    "# Group 5"
   ]
  },
  {
   "cell_type": "markdown",
   "metadata": {},
   "source": [
    "### M20190251\t\n",
    "### M20190420\t\n",
    "### M20190215\t\n",
    "### M20190546"
   ]
  },
  {
   "cell_type": "markdown",
   "metadata": {},
   "source": [
    "# Big Data Modeling and Management Assigment\n",
    "\n",
    "\n",
    "## 🍺 The Beer project  🍺 \n",
    "\n",
    "As it was shown in classes, graph databases are a natural way of navegating distinct types of data. For this first project we will be taking a graph database to analyse beer and breweries!   \n",
    "\n",
    "_For reference the dataset used for this project has been extracted from [kaggle](https://www.kaggle.com/ehallmar/beers-breweries-and-beer-reviews), released by Evan Hallmark. Even though the author does not present metada on the origin of the data it is probably a collection of open data from places like [beeradvocate](https://www.beeradvocate.com/)_ \n",
    "\n",
    "#### Problem description\n",
    "\n",
    "Explore the database via python neo4j connector and/or the graphical tool in the NEO4J webpage. Answer the questions. Submit the results by following the instructions\n",
    "\n",
    "#### Connection details to the neo4j database\n",
    "```\n",
    "Host: rhea.isegi.unl.pt:7475  \n",
    "Username: neo4j  \n",
    "Password: F3cfcrnvBev57KZ8mcMk78L9wHgJVZuJ \n",
    "Connect URL : bolt://rhea.isegi.unl.pt:7687\n",
    "```\n",
    "\n",
    "\n",
    "#### Questions\n",
    "\n",
    "\n",
    "0. __Example__ Question _How many beers does the database contain?_\n",
    "1. How many countries are accounted in this database?\n",
    "1. Which entity holds the most reviews:  \n",
    "    1. Beer?  \n",
    "    1. Brewery?\n",
    "    1. Country? \n",
    "1. Find the user/users that have the most shared reviews(reviews or the same beers) with the user CTJman?\n",
    "1. Which Portuguese brand has the most beers?\n",
    "1. Out of those beers, which has the most reviews?\n",
    "1. On average how many different beer styles does each brewery produce?\n",
    "1. Which brewery produces the strongest beers according to ABV?\n",
    "1. If I typically enjoy a beer due to its aroma and appearance, which beer style should I try?\n",
    "1. If you had to pick 3 beers to recommend using only this data, which would you pick?\n",
    "\n",
    "##### Groups  \n",
    "Groups should have 3 to 4 people  \n",
    "You should register your group in the link:\n",
    "- https://liveeduisegiunl-my.sharepoint.com/:x:/g/personal/fpinheiro_novaims_unl_pt/EYtFTvuGwiRCsakM67f3C4oBrafEJ8M1juXlP7OUdNg2PA?rtime=BlYdnK_n10g\n",
    "\n",
    "\n",
    "##### Submission      \n",
    "\n",
    "Submission of the query results to be done to the redis database (explained on the first class), with the exception of question 9.  \n",
    "The following format is expected:\n",
    "```\n",
    "    >>> redis.set(\"GROUP1:0\", \"358873\")\n",
    "```\n",
    "\n",
    "This result should be the anwser of group 1 to question 0\n",
    "\n",
    "The solutions with the code used to produce the results and respective explations should be uploaded to moodle. They should have a clear reference to the group, either on the file name or on the document itself. Preferably one Jupyter notebook per group.\n",
    "\n",
    "Delivery date: Until the **midnight of May 7th**\n",
    "\n",
    "##### Evaluation   \n",
    "\n",
    "This will be 15% of the final grade.   \n",
    "Each solution will be evaluate on 2 components: correctness of results and simplicity of the solution.  \n",
    "All code will go through plagiarism automated checks. Groups with the same code will undergo investigation."
   ]
  },
  {
   "cell_type": "markdown",
   "metadata": {},
   "source": [
    "# Connect to Neo4j Server"
   ]
  },
  {
   "cell_type": "code",
   "execution_count": 49,
   "metadata": {},
   "outputs": [
    {
     "data": {
      "text/plain": [
       "[{'count(*)': 9647597}]"
      ]
     },
     "execution_count": 49,
     "metadata": {},
     "output_type": "execute_result"
    }
   ],
   "source": [
    "import py2neo\n",
    "from pprint import pprint\n",
    "username=\"neo4j\"\n",
    "password=\"F3cfcrnvBev57KZ8mcMk78L9wHgJVZuJ\"\n",
    "host=\"rhea.isegi.unl.pt\"\n",
    "port=\"7474\"\n",
    "\n",
    "secure_graph = py2neo.Graph(f\"http://{username}:{password}@{host}:{port}\")\n",
    "secure_graph.run(\"MATCH () RETURN count(*)\").data()"
   ]
  },
  {
   "cell_type": "markdown",
   "metadata": {},
   "source": [
    "# Connect to Redis"
   ]
  },
  {
   "cell_type": "code",
   "execution_count": null,
   "metadata": {},
   "outputs": [],
   "source": [
    "import redis\n",
    "\n",
    "r = redis.Redis(\n",
    "    host='rhea.isegi.unl.pt',                            # Url where the database is hosted\n",
    "    port='6379',                                         # Server port in which redis is running\n",
    "    password='4k9krMVdstxm9VvsSQQcvB7zZxwmWLqMXwxqctM5', # Password to authenticate on the server\n",
    "    decode_responses=True\n",
    ")\n",
    "\n",
    "server_info = r.info()\n",
    "\n",
    "print(\"Server version \"+ server_info[\"redis_version\"])\n",
    "print(\"Database DB0 stores \"+str(server_info['db0'][\"keys\"])+\" keys\")"
   ]
  },
  {
   "cell_type": "markdown",
   "metadata": {},
   "source": [
    "# Queries"
   ]
  },
  {
   "cell_type": "markdown",
   "metadata": {},
   "source": [
    "## Q 0"
   ]
  },
  {
   "cell_type": "code",
   "execution_count": 4,
   "metadata": {},
   "outputs": [],
   "source": [
    "#MATCH (b:Beers) RETURN count(*)"
   ]
  },
  {
   "cell_type": "code",
   "execution_count": 5,
   "metadata": {},
   "outputs": [
    {
     "name": "stdout",
     "output_type": "stream",
     "text": [
      "[{'count(*)': 358873}]\n"
     ]
    }
   ],
   "source": [
    "result = secure_graph.run(\"\"\"\n",
    "        MATCH (b:Beers)\n",
    "        RETURN count(*)\n",
    "\"\"\").data()\n",
    "pprint(result)"
   ]
  },
  {
   "cell_type": "code",
   "execution_count": null,
   "metadata": {},
   "outputs": [],
   "source": [
    "redis.set(\"GROUP5:0\", \"358873\")"
   ]
  },
  {
   "cell_type": "markdown",
   "metadata": {},
   "source": [
    "## Q 1"
   ]
  },
  {
   "cell_type": "code",
   "execution_count": 6,
   "metadata": {},
   "outputs": [],
   "source": [
    "#MATCH (c:Country) RETURN count(*)"
   ]
  },
  {
   "cell_type": "code",
   "execution_count": 7,
   "metadata": {},
   "outputs": [
    {
     "name": "stdout",
     "output_type": "stream",
     "text": [
      "[{'count(*)': 200}]\n"
     ]
    }
   ],
   "source": [
    "result = secure_graph.run(\"\"\"\n",
    "        MATCH (c:Country)\n",
    "        RETURN count(*)\n",
    "\"\"\").data()\n",
    "pprint(result)"
   ]
  },
  {
   "cell_type": "code",
   "execution_count": null,
   "metadata": {},
   "outputs": [],
   "source": [
    "redis.set(\"GROUP5:1\", \"200\")"
   ]
  },
  {
   "cell_type": "markdown",
   "metadata": {},
   "source": [
    "## Q 2"
   ]
  },
  {
   "cell_type": "markdown",
   "metadata": {},
   "source": [
    "# How do we set the answer to Q2 with 3 separate answers?"
   ]
  },
  {
   "cell_type": "markdown",
   "metadata": {},
   "source": [
    "2.1"
   ]
  },
  {
   "cell_type": "code",
   "execution_count": 8,
   "metadata": {},
   "outputs": [],
   "source": [
    "# MATCH (b:Beers)<-[r:ABOUT]-(s:Reviews)\n",
    "# RETURN count(*) AS cnt\n",
    "# ORDER BY cnt DESC"
   ]
  },
  {
   "cell_type": "code",
   "execution_count": 34,
   "metadata": {},
   "outputs": [
    {
     "name": "stdout",
     "output_type": "stream",
     "text": [
      "[{'b.id': 11757, 'b.name': 'Breakfast Stout', 'cnt': 17160},\n",
      " {'b.id': 2093, 'b.name': '90 Minute IPA', 'cnt': 15947},\n",
      " {'b.id': 7971, 'b.name': 'Pliny The Elder', 'cnt': 14927},\n",
      " {'b.id': 1093, 'b.name': 'Two Hearted Ale', 'cnt': 14915},\n",
      " {'b.id': 29619, 'b.name': 'Sculpin IPA', 'cnt': 14292},\n",
      " {'b.id': 16814, 'b.name': 'Heady Topper', 'cnt': 14282},\n",
      " {'b.id': 17112, 'b.name': 'Hopslam Ale', 'cnt': 13448},\n",
      " {'b.id': 19960, 'b.name': 'KBS (Kentucky Breakfast Stout)', 'cnt': 13331},\n",
      " {'b.id': 10672, 'b.name': 'Bourbon County Brand Stout', 'cnt': 12706},\n",
      " {'b.id': 412, 'b.name': 'Old Rasputin', 'cnt': 12529}]\n"
     ]
    }
   ],
   "source": [
    "result = secure_graph.run(\"\"\"\n",
    "        MATCH (b:Beers)<-[r:ABOUT]-(s:Reviews)\n",
    "        RETURN b.name,b.id,count(*) AS cnt\n",
    "        ORDER BY cnt DESC\n",
    "        LIMIT 10\n",
    "\"\"\").data()\n",
    "pprint(result)"
   ]
  },
  {
   "cell_type": "markdown",
   "metadata": {},
   "source": [
    "There are multiple beers with the same name such as IPA. So we have to count ID separately"
   ]
  },
  {
   "cell_type": "code",
   "execution_count": null,
   "metadata": {},
   "outputs": [],
   "source": [
    "redis.set(\"GROUP5:1\", \"200\")"
   ]
  },
  {
   "cell_type": "markdown",
   "metadata": {},
   "source": [
    "2.2"
   ]
  },
  {
   "cell_type": "code",
   "execution_count": null,
   "metadata": {},
   "outputs": [],
   "source": [
    "# MATCH (b:Breweries)<-[r:ABOUT]-(s:Reviews)\n",
    "# RETURN count(*) AS cnt\n",
    "# ORDER BY cnt DESC"
   ]
  },
  {
   "cell_type": "code",
   "execution_count": 46,
   "metadata": {},
   "outputs": [
    {
     "ename": "KeyboardInterrupt",
     "evalue": "",
     "output_type": "error",
     "traceback": [
      "\u001b[0;31m---------------------------------------------------------------------------\u001b[0m",
      "\u001b[0;31mKeyboardInterrupt\u001b[0m                         Traceback (most recent call last)",
      "\u001b[0;32m<ipython-input-46-e0f11954e4e8>\u001b[0m in \u001b[0;36m<module>\u001b[0;34m\u001b[0m\n\u001b[1;32m      2\u001b[0m     \u001b[0mMatch\u001b[0m \u001b[0;34m(\u001b[0m\u001b[0mn\u001b[0m\u001b[0;34m)\u001b[0m\u001b[0;34m-\u001b[0m\u001b[0;34m[\u001b[0m\u001b[0mr\u001b[0m\u001b[0;34m]\u001b[0m\u001b[0;34m->\u001b[0m\u001b[0;34m(\u001b[0m\u001b[0mm\u001b[0m\u001b[0;34m)\u001b[0m\u001b[0;34m\u001b[0m\u001b[0;34m\u001b[0m\u001b[0m\n\u001b[1;32m      3\u001b[0m     \u001b[0mReturn\u001b[0m \u001b[0mn\u001b[0m\u001b[0;34m,\u001b[0m\u001b[0mr\u001b[0m\u001b[0;34m,\u001b[0m\u001b[0mm\u001b[0m\u001b[0;34m\u001b[0m\u001b[0;34m\u001b[0m\u001b[0m\n\u001b[0;32m----> 4\u001b[0;31m \"\"\").data()\n\u001b[0m\u001b[1;32m      5\u001b[0m \u001b[0mpprint\u001b[0m\u001b[0;34m(\u001b[0m\u001b[0mresult\u001b[0m\u001b[0;34m)\u001b[0m\u001b[0;34m\u001b[0m\u001b[0;34m\u001b[0m\u001b[0m\n",
      "\u001b[0;32m//anaconda3/lib/python3.7/site-packages/py2neo/database.py\u001b[0m in \u001b[0;36mrun\u001b[0;34m(self, cypher, parameters, **kwparameters)\u001b[0m\n\u001b[1;32m    531\u001b[0m         \u001b[0;34m:\u001b[0m\u001b[0;32mreturn\u001b[0m\u001b[0;34m:\u001b[0m\u001b[0;34m\u001b[0m\u001b[0;34m\u001b[0m\u001b[0m\n\u001b[1;32m    532\u001b[0m         \"\"\"\n\u001b[0;32m--> 533\u001b[0;31m         \u001b[0;32mreturn\u001b[0m \u001b[0mself\u001b[0m\u001b[0;34m.\u001b[0m\u001b[0mbegin\u001b[0m\u001b[0;34m(\u001b[0m\u001b[0mautocommit\u001b[0m\u001b[0;34m=\u001b[0m\u001b[0;32mTrue\u001b[0m\u001b[0;34m)\u001b[0m\u001b[0;34m.\u001b[0m\u001b[0mrun\u001b[0m\u001b[0;34m(\u001b[0m\u001b[0mcypher\u001b[0m\u001b[0;34m,\u001b[0m \u001b[0mparameters\u001b[0m\u001b[0;34m,\u001b[0m \u001b[0;34m**\u001b[0m\u001b[0mkwparameters\u001b[0m\u001b[0;34m)\u001b[0m\u001b[0;34m\u001b[0m\u001b[0;34m\u001b[0m\u001b[0m\n\u001b[0m\u001b[1;32m    534\u001b[0m \u001b[0;34m\u001b[0m\u001b[0m\n\u001b[1;32m    535\u001b[0m     \u001b[0;32mdef\u001b[0m \u001b[0mseparate\u001b[0m\u001b[0;34m(\u001b[0m\u001b[0mself\u001b[0m\u001b[0;34m,\u001b[0m \u001b[0msubgraph\u001b[0m\u001b[0;34m)\u001b[0m\u001b[0;34m:\u001b[0m\u001b[0;34m\u001b[0m\u001b[0;34m\u001b[0m\u001b[0m\n",
      "\u001b[0;32m//anaconda3/lib/python3.7/site-packages/py2neo/database.py\u001b[0m in \u001b[0;36mrun\u001b[0;34m(self, cypher, parameters, **kwparameters)\u001b[0m\n\u001b[1;32m    826\u001b[0m                                              \u001b[0mgraph\u001b[0m\u001b[0;34m=\u001b[0m\u001b[0mself\u001b[0m\u001b[0;34m.\u001b[0m\u001b[0mgraph\u001b[0m\u001b[0;34m,\u001b[0m\u001b[0;34m\u001b[0m\u001b[0;34m\u001b[0m\u001b[0m\n\u001b[1;32m    827\u001b[0m                                              \u001b[0mkeys\u001b[0m\u001b[0;34m=\u001b[0m\u001b[0;34m[\u001b[0m\u001b[0;34m]\u001b[0m\u001b[0;34m,\u001b[0m\u001b[0;34m\u001b[0m\u001b[0;34m\u001b[0m\u001b[0m\n\u001b[0;32m--> 828\u001b[0;31m                                              entities=entities))\n\u001b[0m\u001b[1;32m    829\u001b[0m         \u001b[0;32mexcept\u001b[0m \u001b[0mCypherError\u001b[0m \u001b[0;32mas\u001b[0m \u001b[0merror\u001b[0m\u001b[0;34m:\u001b[0m\u001b[0;34m\u001b[0m\u001b[0;34m\u001b[0m\u001b[0m\n\u001b[1;32m    830\u001b[0m             \u001b[0;32mraise\u001b[0m \u001b[0mGraphError\u001b[0m\u001b[0;34m.\u001b[0m\u001b[0mhydrate\u001b[0m\u001b[0;34m(\u001b[0m\u001b[0;34m{\u001b[0m\u001b[0;34m\"code\"\u001b[0m\u001b[0;34m:\u001b[0m \u001b[0merror\u001b[0m\u001b[0;34m.\u001b[0m\u001b[0mcode\u001b[0m\u001b[0;34m,\u001b[0m \u001b[0;34m\"message\"\u001b[0m\u001b[0;34m:\u001b[0m \u001b[0merror\u001b[0m\u001b[0;34m.\u001b[0m\u001b[0mmessage\u001b[0m\u001b[0;34m}\u001b[0m\u001b[0;34m)\u001b[0m\u001b[0;34m\u001b[0m\u001b[0;34m\u001b[0m\u001b[0m\n",
      "\u001b[0;32m//anaconda3/lib/python3.7/site-packages/py2neo/internal/connectors.py\u001b[0m in \u001b[0;36mrun\u001b[0;34m(self, statement, parameters, tx, graph, keys, entities)\u001b[0m\n\u001b[1;32m    367\u001b[0m     \u001b[0;32mdef\u001b[0m \u001b[0mrun\u001b[0m\u001b[0;34m(\u001b[0m\u001b[0mself\u001b[0m\u001b[0;34m,\u001b[0m \u001b[0mstatement\u001b[0m\u001b[0;34m,\u001b[0m \u001b[0mparameters\u001b[0m\u001b[0;34m=\u001b[0m\u001b[0;32mNone\u001b[0m\u001b[0;34m,\u001b[0m \u001b[0mtx\u001b[0m\u001b[0;34m=\u001b[0m\u001b[0;32mNone\u001b[0m\u001b[0;34m,\u001b[0m \u001b[0mgraph\u001b[0m\u001b[0;34m=\u001b[0m\u001b[0;32mNone\u001b[0m\u001b[0;34m,\u001b[0m \u001b[0mkeys\u001b[0m\u001b[0;34m=\u001b[0m\u001b[0;32mNone\u001b[0m\u001b[0;34m,\u001b[0m \u001b[0mentities\u001b[0m\u001b[0;34m=\u001b[0m\u001b[0;32mNone\u001b[0m\u001b[0;34m)\u001b[0m\u001b[0;34m:\u001b[0m\u001b[0;34m\u001b[0m\u001b[0;34m\u001b[0m\u001b[0m\n\u001b[1;32m    368\u001b[0m         \u001b[0mhydrator\u001b[0m \u001b[0;34m=\u001b[0m \u001b[0mJSONHydrator\u001b[0m\u001b[0;34m(\u001b[0m\u001b[0mversion\u001b[0m\u001b[0;34m=\u001b[0m\u001b[0;34m\"rest\"\u001b[0m\u001b[0;34m,\u001b[0m \u001b[0mgraph\u001b[0m\u001b[0;34m=\u001b[0m\u001b[0mgraph\u001b[0m\u001b[0;34m,\u001b[0m \u001b[0mkeys\u001b[0m\u001b[0;34m=\u001b[0m\u001b[0mkeys\u001b[0m\u001b[0;34m,\u001b[0m \u001b[0mentities\u001b[0m\u001b[0;34m=\u001b[0m\u001b[0mentities\u001b[0m\u001b[0;34m)\u001b[0m\u001b[0;34m\u001b[0m\u001b[0;34m\u001b[0m\u001b[0m\n\u001b[0;32m--> 369\u001b[0;31m         \u001b[0mr\u001b[0m \u001b[0;34m=\u001b[0m \u001b[0mself\u001b[0m\u001b[0;34m.\u001b[0m\u001b[0m_post\u001b[0m\u001b[0;34m(\u001b[0m\u001b[0;34m\"/db/data/transaction/%s\"\u001b[0m \u001b[0;34m%\u001b[0m \u001b[0;34m(\u001b[0m\u001b[0mtx\u001b[0m \u001b[0;32mor\u001b[0m \u001b[0;34m\"commit\"\u001b[0m\u001b[0;34m)\u001b[0m\u001b[0;34m,\u001b[0m \u001b[0mstatement\u001b[0m\u001b[0;34m,\u001b[0m \u001b[0mhydrator\u001b[0m\u001b[0;34m.\u001b[0m\u001b[0mdehydrate\u001b[0m\u001b[0;34m(\u001b[0m\u001b[0mparameters\u001b[0m\u001b[0;34m)\u001b[0m\u001b[0;34m)\u001b[0m\u001b[0;34m\u001b[0m\u001b[0;34m\u001b[0m\u001b[0m\n\u001b[0m\u001b[1;32m    370\u001b[0m         \u001b[0;32massert\u001b[0m \u001b[0mr\u001b[0m\u001b[0;34m.\u001b[0m\u001b[0mstatus\u001b[0m \u001b[0;34m==\u001b[0m \u001b[0;36m200\u001b[0m  \u001b[0;31m# TODO: other codes\u001b[0m\u001b[0;34m\u001b[0m\u001b[0;34m\u001b[0m\u001b[0m\n\u001b[1;32m    371\u001b[0m         \u001b[0;32mtry\u001b[0m\u001b[0;34m:\u001b[0m\u001b[0;34m\u001b[0m\u001b[0;34m\u001b[0m\u001b[0m\n",
      "\u001b[0;32m//anaconda3/lib/python3.7/site-packages/py2neo/internal/connectors.py\u001b[0m in \u001b[0;36m_post\u001b[0;34m(self, url, statement, parameters)\u001b[0m\n\u001b[1;32m    358\u001b[0m                                  \u001b[0murl\u001b[0m\u001b[0;34m=\u001b[0m\u001b[0murl\u001b[0m\u001b[0;34m,\u001b[0m\u001b[0;34m\u001b[0m\u001b[0;34m\u001b[0m\u001b[0m\n\u001b[1;32m    359\u001b[0m                                  \u001b[0mheaders\u001b[0m\u001b[0;34m=\u001b[0m\u001b[0mdict\u001b[0m\u001b[0;34m(\u001b[0m\u001b[0mself\u001b[0m\u001b[0;34m.\u001b[0m\u001b[0mheaders\u001b[0m\u001b[0;34m,\u001b[0m \u001b[0;34m**\u001b[0m\u001b[0;34m{\u001b[0m\u001b[0;34m\"Content-Type\"\u001b[0m\u001b[0;34m:\u001b[0m \u001b[0;34m\"application/json\"\u001b[0m\u001b[0;34m}\u001b[0m\u001b[0;34m)\u001b[0m\u001b[0;34m,\u001b[0m\u001b[0;34m\u001b[0m\u001b[0;34m\u001b[0m\u001b[0m\n\u001b[0;32m--> 360\u001b[0;31m                                  body=json_dumps({\"statements\": statements}))\n\u001b[0m\u001b[1;32m    361\u001b[0m \u001b[0;34m\u001b[0m\u001b[0m\n\u001b[1;32m    362\u001b[0m     \u001b[0;32mdef\u001b[0m \u001b[0m_delete\u001b[0m\u001b[0;34m(\u001b[0m\u001b[0mself\u001b[0m\u001b[0;34m,\u001b[0m \u001b[0murl\u001b[0m\u001b[0;34m)\u001b[0m\u001b[0;34m:\u001b[0m\u001b[0;34m\u001b[0m\u001b[0;34m\u001b[0m\u001b[0m\n",
      "\u001b[0;32m//anaconda3/lib/python3.7/site-packages/urllib3/request.py\u001b[0m in \u001b[0;36mrequest\u001b[0;34m(self, method, url, fields, headers, **urlopen_kw)\u001b[0m\n\u001b[1;32m     70\u001b[0m             return self.request_encode_body(method, url, fields=fields,\n\u001b[1;32m     71\u001b[0m                                             \u001b[0mheaders\u001b[0m\u001b[0;34m=\u001b[0m\u001b[0mheaders\u001b[0m\u001b[0;34m,\u001b[0m\u001b[0;34m\u001b[0m\u001b[0;34m\u001b[0m\u001b[0m\n\u001b[0;32m---> 72\u001b[0;31m                                             **urlopen_kw)\n\u001b[0m\u001b[1;32m     73\u001b[0m \u001b[0;34m\u001b[0m\u001b[0m\n\u001b[1;32m     74\u001b[0m     def request_encode_url(self, method, url, fields=None, headers=None,\n",
      "\u001b[0;32m//anaconda3/lib/python3.7/site-packages/urllib3/request.py\u001b[0m in \u001b[0;36mrequest_encode_body\u001b[0;34m(self, method, url, fields, headers, encode_multipart, multipart_boundary, **urlopen_kw)\u001b[0m\n\u001b[1;32m    148\u001b[0m         \u001b[0mextra_kw\u001b[0m\u001b[0;34m.\u001b[0m\u001b[0mupdate\u001b[0m\u001b[0;34m(\u001b[0m\u001b[0murlopen_kw\u001b[0m\u001b[0;34m)\u001b[0m\u001b[0;34m\u001b[0m\u001b[0;34m\u001b[0m\u001b[0m\n\u001b[1;32m    149\u001b[0m \u001b[0;34m\u001b[0m\u001b[0m\n\u001b[0;32m--> 150\u001b[0;31m         \u001b[0;32mreturn\u001b[0m \u001b[0mself\u001b[0m\u001b[0;34m.\u001b[0m\u001b[0murlopen\u001b[0m\u001b[0;34m(\u001b[0m\u001b[0mmethod\u001b[0m\u001b[0;34m,\u001b[0m \u001b[0murl\u001b[0m\u001b[0;34m,\u001b[0m \u001b[0;34m**\u001b[0m\u001b[0mextra_kw\u001b[0m\u001b[0;34m)\u001b[0m\u001b[0;34m\u001b[0m\u001b[0;34m\u001b[0m\u001b[0m\n\u001b[0m",
      "\u001b[0;32m//anaconda3/lib/python3.7/site-packages/urllib3/connectionpool.py\u001b[0m in \u001b[0;36murlopen\u001b[0;34m(self, method, url, body, headers, retries, redirect, assert_same_host, timeout, pool_timeout, release_conn, chunked, body_pos, **response_kw)\u001b[0m\n\u001b[1;32m    614\u001b[0m                                                      \u001b[0mconnection\u001b[0m\u001b[0;34m=\u001b[0m\u001b[0mresponse_conn\u001b[0m\u001b[0;34m,\u001b[0m\u001b[0;34m\u001b[0m\u001b[0;34m\u001b[0m\u001b[0m\n\u001b[1;32m    615\u001b[0m                                                      \u001b[0mretries\u001b[0m\u001b[0;34m=\u001b[0m\u001b[0mretries\u001b[0m\u001b[0;34m,\u001b[0m\u001b[0;34m\u001b[0m\u001b[0;34m\u001b[0m\u001b[0m\n\u001b[0;32m--> 616\u001b[0;31m                                                      **response_kw)\n\u001b[0m\u001b[1;32m    617\u001b[0m \u001b[0;34m\u001b[0m\u001b[0m\n\u001b[1;32m    618\u001b[0m             \u001b[0;31m# Everything went great!\u001b[0m\u001b[0;34m\u001b[0m\u001b[0;34m\u001b[0m\u001b[0;34m\u001b[0m\u001b[0m\n",
      "\u001b[0;32m//anaconda3/lib/python3.7/site-packages/urllib3/response.py\u001b[0m in \u001b[0;36mfrom_httplib\u001b[0;34m(ResponseCls, r, **response_kw)\u001b[0m\n\u001b[1;32m    525\u001b[0m                            \u001b[0mstrict\u001b[0m\u001b[0;34m=\u001b[0m\u001b[0mstrict\u001b[0m\u001b[0;34m,\u001b[0m\u001b[0;34m\u001b[0m\u001b[0;34m\u001b[0m\u001b[0m\n\u001b[1;32m    526\u001b[0m                            \u001b[0moriginal_response\u001b[0m\u001b[0;34m=\u001b[0m\u001b[0mr\u001b[0m\u001b[0;34m,\u001b[0m\u001b[0;34m\u001b[0m\u001b[0;34m\u001b[0m\u001b[0m\n\u001b[0;32m--> 527\u001b[0;31m                            **response_kw)\n\u001b[0m\u001b[1;32m    528\u001b[0m         \u001b[0;32mreturn\u001b[0m \u001b[0mresp\u001b[0m\u001b[0;34m\u001b[0m\u001b[0;34m\u001b[0m\u001b[0m\n\u001b[1;32m    529\u001b[0m \u001b[0;34m\u001b[0m\u001b[0m\n",
      "\u001b[0;32m//anaconda3/lib/python3.7/site-packages/urllib3/response.py\u001b[0m in \u001b[0;36m__init__\u001b[0;34m(self, body, headers, status, version, reason, strict, preload_content, decode_content, original_response, pool, connection, msg, retries, enforce_content_length, request_method, request_url)\u001b[0m\n\u001b[1;32m    207\u001b[0m         \u001b[0;31m# If requested, preload the body.\u001b[0m\u001b[0;34m\u001b[0m\u001b[0;34m\u001b[0m\u001b[0;34m\u001b[0m\u001b[0m\n\u001b[1;32m    208\u001b[0m         \u001b[0;32mif\u001b[0m \u001b[0mpreload_content\u001b[0m \u001b[0;32mand\u001b[0m \u001b[0;32mnot\u001b[0m \u001b[0mself\u001b[0m\u001b[0;34m.\u001b[0m\u001b[0m_body\u001b[0m\u001b[0;34m:\u001b[0m\u001b[0;34m\u001b[0m\u001b[0;34m\u001b[0m\u001b[0m\n\u001b[0;32m--> 209\u001b[0;31m             \u001b[0mself\u001b[0m\u001b[0;34m.\u001b[0m\u001b[0m_body\u001b[0m \u001b[0;34m=\u001b[0m \u001b[0mself\u001b[0m\u001b[0;34m.\u001b[0m\u001b[0mread\u001b[0m\u001b[0;34m(\u001b[0m\u001b[0mdecode_content\u001b[0m\u001b[0;34m=\u001b[0m\u001b[0mdecode_content\u001b[0m\u001b[0;34m)\u001b[0m\u001b[0;34m\u001b[0m\u001b[0;34m\u001b[0m\u001b[0m\n\u001b[0m\u001b[1;32m    210\u001b[0m \u001b[0;34m\u001b[0m\u001b[0m\n\u001b[1;32m    211\u001b[0m     \u001b[0;32mdef\u001b[0m \u001b[0mget_redirect_location\u001b[0m\u001b[0;34m(\u001b[0m\u001b[0mself\u001b[0m\u001b[0;34m)\u001b[0m\u001b[0;34m:\u001b[0m\u001b[0;34m\u001b[0m\u001b[0;34m\u001b[0m\u001b[0m\n",
      "\u001b[0;32m//anaconda3/lib/python3.7/site-packages/urllib3/response.py\u001b[0m in \u001b[0;36mread\u001b[0;34m(self, amt, decode_content, cache_content)\u001b[0m\n\u001b[1;32m    438\u001b[0m             \u001b[0;32mif\u001b[0m \u001b[0mamt\u001b[0m \u001b[0;32mis\u001b[0m \u001b[0;32mNone\u001b[0m\u001b[0;34m:\u001b[0m\u001b[0;34m\u001b[0m\u001b[0;34m\u001b[0m\u001b[0m\n\u001b[1;32m    439\u001b[0m                 \u001b[0;31m# cStringIO doesn't like amt=None\u001b[0m\u001b[0;34m\u001b[0m\u001b[0;34m\u001b[0m\u001b[0;34m\u001b[0m\u001b[0m\n\u001b[0;32m--> 440\u001b[0;31m                 \u001b[0mdata\u001b[0m \u001b[0;34m=\u001b[0m \u001b[0mself\u001b[0m\u001b[0;34m.\u001b[0m\u001b[0m_fp\u001b[0m\u001b[0;34m.\u001b[0m\u001b[0mread\u001b[0m\u001b[0;34m(\u001b[0m\u001b[0;34m)\u001b[0m\u001b[0;34m\u001b[0m\u001b[0;34m\u001b[0m\u001b[0m\n\u001b[0m\u001b[1;32m    441\u001b[0m                 \u001b[0mflush_decoder\u001b[0m \u001b[0;34m=\u001b[0m \u001b[0;32mTrue\u001b[0m\u001b[0;34m\u001b[0m\u001b[0;34m\u001b[0m\u001b[0m\n\u001b[1;32m    442\u001b[0m             \u001b[0;32melse\u001b[0m\u001b[0;34m:\u001b[0m\u001b[0;34m\u001b[0m\u001b[0;34m\u001b[0m\u001b[0m\n",
      "\u001b[0;32m//anaconda3/lib/python3.7/http/client.py\u001b[0m in \u001b[0;36mread\u001b[0;34m(self, amt)\u001b[0m\n\u001b[1;32m    462\u001b[0m \u001b[0;34m\u001b[0m\u001b[0m\n\u001b[1;32m    463\u001b[0m             \u001b[0;32mif\u001b[0m \u001b[0mself\u001b[0m\u001b[0;34m.\u001b[0m\u001b[0mchunked\u001b[0m\u001b[0;34m:\u001b[0m\u001b[0;34m\u001b[0m\u001b[0;34m\u001b[0m\u001b[0m\n\u001b[0;32m--> 464\u001b[0;31m                 \u001b[0;32mreturn\u001b[0m \u001b[0mself\u001b[0m\u001b[0;34m.\u001b[0m\u001b[0m_readall_chunked\u001b[0m\u001b[0;34m(\u001b[0m\u001b[0;34m)\u001b[0m\u001b[0;34m\u001b[0m\u001b[0;34m\u001b[0m\u001b[0m\n\u001b[0m\u001b[1;32m    465\u001b[0m \u001b[0;34m\u001b[0m\u001b[0m\n\u001b[1;32m    466\u001b[0m             \u001b[0;32mif\u001b[0m \u001b[0mself\u001b[0m\u001b[0;34m.\u001b[0m\u001b[0mlength\u001b[0m \u001b[0;32mis\u001b[0m \u001b[0;32mNone\u001b[0m\u001b[0;34m:\u001b[0m\u001b[0;34m\u001b[0m\u001b[0;34m\u001b[0m\u001b[0m\n",
      "\u001b[0;32m//anaconda3/lib/python3.7/http/client.py\u001b[0m in \u001b[0;36m_readall_chunked\u001b[0;34m(self)\u001b[0m\n\u001b[1;32m    572\u001b[0m                 \u001b[0;32mif\u001b[0m \u001b[0mchunk_left\u001b[0m \u001b[0;32mis\u001b[0m \u001b[0;32mNone\u001b[0m\u001b[0;34m:\u001b[0m\u001b[0;34m\u001b[0m\u001b[0;34m\u001b[0m\u001b[0m\n\u001b[1;32m    573\u001b[0m                     \u001b[0;32mbreak\u001b[0m\u001b[0;34m\u001b[0m\u001b[0;34m\u001b[0m\u001b[0m\n\u001b[0;32m--> 574\u001b[0;31m                 \u001b[0mvalue\u001b[0m\u001b[0;34m.\u001b[0m\u001b[0mappend\u001b[0m\u001b[0;34m(\u001b[0m\u001b[0mself\u001b[0m\u001b[0;34m.\u001b[0m\u001b[0m_safe_read\u001b[0m\u001b[0;34m(\u001b[0m\u001b[0mchunk_left\u001b[0m\u001b[0;34m)\u001b[0m\u001b[0;34m)\u001b[0m\u001b[0;34m\u001b[0m\u001b[0;34m\u001b[0m\u001b[0m\n\u001b[0m\u001b[1;32m    575\u001b[0m                 \u001b[0mself\u001b[0m\u001b[0;34m.\u001b[0m\u001b[0mchunk_left\u001b[0m \u001b[0;34m=\u001b[0m \u001b[0;36m0\u001b[0m\u001b[0;34m\u001b[0m\u001b[0;34m\u001b[0m\u001b[0m\n\u001b[1;32m    576\u001b[0m             \u001b[0;32mreturn\u001b[0m \u001b[0;34mb''\u001b[0m\u001b[0;34m.\u001b[0m\u001b[0mjoin\u001b[0m\u001b[0;34m(\u001b[0m\u001b[0mvalue\u001b[0m\u001b[0;34m)\u001b[0m\u001b[0;34m\u001b[0m\u001b[0;34m\u001b[0m\u001b[0m\n",
      "\u001b[0;32m//anaconda3/lib/python3.7/http/client.py\u001b[0m in \u001b[0;36m_safe_read\u001b[0;34m(self, amt)\u001b[0m\n\u001b[1;32m    618\u001b[0m         \u001b[0ms\u001b[0m \u001b[0;34m=\u001b[0m \u001b[0;34m[\u001b[0m\u001b[0;34m]\u001b[0m\u001b[0;34m\u001b[0m\u001b[0;34m\u001b[0m\u001b[0m\n\u001b[1;32m    619\u001b[0m         \u001b[0;32mwhile\u001b[0m \u001b[0mamt\u001b[0m \u001b[0;34m>\u001b[0m \u001b[0;36m0\u001b[0m\u001b[0;34m:\u001b[0m\u001b[0;34m\u001b[0m\u001b[0;34m\u001b[0m\u001b[0m\n\u001b[0;32m--> 620\u001b[0;31m             \u001b[0mchunk\u001b[0m \u001b[0;34m=\u001b[0m \u001b[0mself\u001b[0m\u001b[0;34m.\u001b[0m\u001b[0mfp\u001b[0m\u001b[0;34m.\u001b[0m\u001b[0mread\u001b[0m\u001b[0;34m(\u001b[0m\u001b[0mmin\u001b[0m\u001b[0;34m(\u001b[0m\u001b[0mamt\u001b[0m\u001b[0;34m,\u001b[0m \u001b[0mMAXAMOUNT\u001b[0m\u001b[0;34m)\u001b[0m\u001b[0;34m)\u001b[0m\u001b[0;34m\u001b[0m\u001b[0;34m\u001b[0m\u001b[0m\n\u001b[0m\u001b[1;32m    621\u001b[0m             \u001b[0;32mif\u001b[0m \u001b[0;32mnot\u001b[0m \u001b[0mchunk\u001b[0m\u001b[0;34m:\u001b[0m\u001b[0;34m\u001b[0m\u001b[0;34m\u001b[0m\u001b[0m\n\u001b[1;32m    622\u001b[0m                 \u001b[0;32mraise\u001b[0m \u001b[0mIncompleteRead\u001b[0m\u001b[0;34m(\u001b[0m\u001b[0;34mb''\u001b[0m\u001b[0;34m.\u001b[0m\u001b[0mjoin\u001b[0m\u001b[0;34m(\u001b[0m\u001b[0ms\u001b[0m\u001b[0;34m)\u001b[0m\u001b[0;34m,\u001b[0m \u001b[0mamt\u001b[0m\u001b[0;34m)\u001b[0m\u001b[0;34m\u001b[0m\u001b[0;34m\u001b[0m\u001b[0m\n",
      "\u001b[0;32m//anaconda3/lib/python3.7/socket.py\u001b[0m in \u001b[0;36mreadinto\u001b[0;34m(self, b)\u001b[0m\n\u001b[1;32m    587\u001b[0m         \u001b[0;32mwhile\u001b[0m \u001b[0;32mTrue\u001b[0m\u001b[0;34m:\u001b[0m\u001b[0;34m\u001b[0m\u001b[0;34m\u001b[0m\u001b[0m\n\u001b[1;32m    588\u001b[0m             \u001b[0;32mtry\u001b[0m\u001b[0;34m:\u001b[0m\u001b[0;34m\u001b[0m\u001b[0;34m\u001b[0m\u001b[0m\n\u001b[0;32m--> 589\u001b[0;31m                 \u001b[0;32mreturn\u001b[0m \u001b[0mself\u001b[0m\u001b[0;34m.\u001b[0m\u001b[0m_sock\u001b[0m\u001b[0;34m.\u001b[0m\u001b[0mrecv_into\u001b[0m\u001b[0;34m(\u001b[0m\u001b[0mb\u001b[0m\u001b[0;34m)\u001b[0m\u001b[0;34m\u001b[0m\u001b[0;34m\u001b[0m\u001b[0m\n\u001b[0m\u001b[1;32m    590\u001b[0m             \u001b[0;32mexcept\u001b[0m \u001b[0mtimeout\u001b[0m\u001b[0;34m:\u001b[0m\u001b[0;34m\u001b[0m\u001b[0;34m\u001b[0m\u001b[0m\n\u001b[1;32m    591\u001b[0m                 \u001b[0mself\u001b[0m\u001b[0;34m.\u001b[0m\u001b[0m_timeout_occurred\u001b[0m \u001b[0;34m=\u001b[0m \u001b[0;32mTrue\u001b[0m\u001b[0;34m\u001b[0m\u001b[0;34m\u001b[0m\u001b[0m\n",
      "\u001b[0;31mKeyboardInterrupt\u001b[0m: "
     ]
    }
   ],
   "source": [
    "result = secure_graph.run(\"\"\"\n",
    "    Match (n)-[r]->(m)\n",
    "    Return n,r,m\n",
    "\"\"\").data()\n",
    "pprint(result)"
   ]
  },
  {
   "cell_type": "code",
   "execution_count": 33,
   "metadata": {
    "scrolled": true
   },
   "outputs": [
    {
     "name": "stdout",
     "output_type": "stream",
     "text": [
      "[]\n"
     ]
    }
   ],
   "source": [
    "Match (n)-[r]->(m)\n",
    "Return n,r,m"
   ]
  },
  {
   "cell_type": "code",
   "execution_count": null,
   "metadata": {},
   "outputs": [],
   "source": [
    "redis.set(\"GROUP5:1\", \"200\")"
   ]
  },
  {
   "cell_type": "markdown",
   "metadata": {},
   "source": [
    "2.3"
   ]
  },
  {
   "cell_type": "code",
   "execution_count": null,
   "metadata": {},
   "outputs": [],
   "source": [
    "# MATCH (c:Country)<-[r:ABOUT]-(s:Reviews)\n",
    "# RETURN count(*) AS cnt\n",
    "# ORDER BY cnt DESC"
   ]
  },
  {
   "cell_type": "code",
   "execution_count": 48,
   "metadata": {},
   "outputs": [
    {
     "name": "stdout",
     "output_type": "stream",
     "text": [
      "[]\n"
     ]
    }
   ],
   "source": [
    "\n",
    "result = secure_graph.run(\"\"\"\n",
    "        MATCH (b:Breweries)-[:Mde]->(be:Beers)<-[r:ABOUT]-(s:Reviews)\n",
    "        RETURN b.name, count(*) AS cnt\n",
    "        ORDER BY cnt DESC\n",
    "        LIMIT 10\n",
    "\"\"\").data()\n",
    "pprint(result)"
   ]
  },
  {
   "cell_type": "markdown",
   "metadata": {},
   "source": [
    "## Q 3"
   ]
  },
  {
   "cell_type": "code",
   "execution_count": 50,
   "metadata": {},
   "outputs": [],
   "source": [
    "# MATCH (u:Username)-[:MADE]->(:Reviews)-[:ABOUT]->(:Beers)<-[:ABOUT]-(:Reviews)<-[:MADE]-(v:Username)\n",
    "# WHERE v.user_name =~ 'CTJman'\n",
    "# RETURN u.user_name, count(*) as cnt\n",
    "# ORDER BY cnt DESC\n",
    "# LIMIT 30"
   ]
  },
  {
   "cell_type": "code",
   "execution_count": 51,
   "metadata": {},
   "outputs": [
    {
     "name": "stdout",
     "output_type": "stream",
     "text": [
      "[{'cnt': 1428, 'u.user_name': 'acurtis'},\n",
      " {'cnt': 1257, 'u.user_name': 'Texasfan549'},\n",
      " {'cnt': 1205, 'u.user_name': 'kjkinsey'},\n",
      " {'cnt': 1191, 'u.user_name': 'oline73'},\n",
      " {'cnt': 1161, 'u.user_name': 'chippo33'},\n",
      " {'cnt': 1156, 'u.user_name': 'mendvicdog'},\n",
      " {'cnt': 1142, 'u.user_name': 'spycow'},\n",
      " {'cnt': 1122, 'u.user_name': 'djrn2'},\n",
      " {'cnt': 1082, 'u.user_name': 'duceswild'},\n",
      " {'cnt': 1077, 'u.user_name': 'SocalKicks'}]\n"
     ]
    }
   ],
   "source": [
    "result = secure_graph.run(\"\"\"\n",
    "        MATCH (u:Username)-[:MADE]->(:Reviews)-[:ABOUT]->(:Beers)<-[:ABOUT]-(:Reviews)<-[:MADE]-(v:Username)\n",
    "        WHERE v.user_name =~ 'CTJman'\n",
    "        RETURN u.user_name, count(*) as cnt\n",
    "        ORDER BY cnt DESC\n",
    "        LIMIT 10\n",
    "\"\"\").data()\n",
    "pprint(result)"
   ]
  },
  {
   "cell_type": "code",
   "execution_count": 55,
   "metadata": {},
   "outputs": [
    {
     "name": "stdout",
     "output_type": "stream",
     "text": [
      "[{'cnt': 1428, 'u.user_name': 'acurtis'},\n",
      " {'cnt': 1257, 'u.user_name': 'Texasfan549'},\n",
      " {'cnt': 1205, 'u.user_name': 'kjkinsey'},\n",
      " {'cnt': 1191, 'u.user_name': 'oline73'},\n",
      " {'cnt': 1161, 'u.user_name': 'chippo33'},\n",
      " {'cnt': 1156, 'u.user_name': 'mendvicdog'},\n",
      " {'cnt': 1142, 'u.user_name': 'spycow'},\n",
      " {'cnt': 1122, 'u.user_name': 'djrn2'},\n",
      " {'cnt': 1082, 'u.user_name': 'duceswild'},\n",
      " {'cnt': 1077, 'u.user_name': 'SocalKicks'}]\n"
     ]
    }
   ],
   "source": [
    "result = secure_graph.run(\"\"\"\n",
    "        MATCH (u:Username)-[]->()-[]->()<-[]-()<-[]-(v:Username)\n",
    "        WHERE v.user_name =~ 'CTJman'\n",
    "        RETURN u.user_name, count(*) as cnt\n",
    "        ORDER BY cnt DESC\n",
    "        LIMIT 10\n",
    "\"\"\").data()\n",
    "pprint(result)"
   ]
  },
  {
   "cell_type": "code",
   "execution_count": null,
   "metadata": {},
   "outputs": [],
   "source": [
    "redis.set(\"GROUP5:3\", \"acurtis\")"
   ]
  },
  {
   "cell_type": "markdown",
   "metadata": {},
   "source": [
    "** Auxiliar query: to know the number of Beers reviewed by CTJman **\n",
    "** No count from the previous query can be higher than 2155, that is the result from this query **"
   ]
  },
  {
   "cell_type": "code",
   "execution_count": null,
   "metadata": {},
   "outputs": [],
   "source": [
    "# MATCH (u:Username)-[r:MADE]->()\n",
    "# WHERE u.user_name =~ 'CTJman'\n",
    "# RETURN count(*) AS cnt\n",
    "# ORDER BY cnt DESC"
   ]
  },
  {
   "cell_type": "code",
   "execution_count": 56,
   "metadata": {},
   "outputs": [
    {
     "name": "stdout",
     "output_type": "stream",
     "text": [
      "[{'cnt': 2155, 'u.user_name': 'CTJman'}]\n"
     ]
    }
   ],
   "source": [
    "result = secure_graph.run(\"\"\"\n",
    "        MATCH (u:Username)-[]->()\n",
    "        WHERE u.user_name =~ 'CTJman'\n",
    "        RETURN u.user_name,count(*) AS cnt\n",
    "        ORDER BY cnt DESC\n",
    "\"\"\").data()\n",
    "pprint(result)"
   ]
  },
  {
   "cell_type": "markdown",
   "metadata": {},
   "source": [
    "## Q 4"
   ]
  },
  {
   "cell_type": "code",
   "execution_count": null,
   "metadata": {},
   "outputs": [],
   "source": [
    "# MATCH (b:Beers)-[:BREWED_AT]->(br:Breweries)-[:FROM]->(c:Country)\n",
    "# WHERE c.country_digit =~ 'PT'\n",
    "# RETURN br.name, count(b.name) as cnt\n",
    "# ORDER BY cnt DESC\n",
    "# LIMIT 10"
   ]
  },
  {
   "cell_type": "code",
   "execution_count": 57,
   "metadata": {},
   "outputs": [
    {
     "name": "stdout",
     "output_type": "stream",
     "text": [
      "[{'br.name': 'Dois Corvos Cervejeira', 'cnt': 40},\n",
      " {'br.name': 'Unicer União Cervejeira S.A.', 'cnt': 22},\n",
      " {'br.name': 'Letra - Cerveja Artesanal Minhota', 'cnt': 20},\n",
      " {'br.name': 'Sociedade Central de Cervejas', 'cnt': 20},\n",
      " {'br.name': 'Post Scriptum Brewery', 'cnt': 18},\n",
      " {'br.name': 'Cerveja Independente Musa', 'cnt': 16},\n",
      " {'br.name': 'Cervejaria Praxis', 'cnt': 15},\n",
      " {'br.name': 'Passarola Brewing', 'cnt': 14},\n",
      " {'br.name': 'Mean Sardine Brewery', 'cnt': 14},\n",
      " {'br.name': 'Faustino – Microcervejeira, Lda.', 'cnt': 13}]\n"
     ]
    }
   ],
   "source": [
    "result = secure_graph.run(\"\"\"\n",
    "        MATCH (b:Beers)-[:BREWED_AT]->(br:Breweries)-[:FROM]->(c:Country)\n",
    "        WHERE c.country_digit =~ 'PT'\n",
    "        RETURN br.name, count(b.id) as cnt\n",
    "        ORDER BY cnt DESC\n",
    "        LIMIT 10\n",
    "\"\"\").data()\n",
    "pprint(result)"
   ]
  },
  {
   "cell_type": "code",
   "execution_count": null,
   "metadata": {},
   "outputs": [],
   "source": [
    "redis.set(\"GROUP5:4\", \"Dois Corvos Cervejeira\")"
   ]
  },
  {
   "cell_type": "markdown",
   "metadata": {},
   "source": [
    "## Q 5"
   ]
  },
  {
   "cell_type": "code",
   "execution_count": null,
   "metadata": {},
   "outputs": [],
   "source": [
    "# MATCH (r:Reviews)-[:ABOUT]->(b:Beers)-[:BREWED_AT]->(br:Breweries)-[:FROM]->(c:Country)\n",
    "# WHERE c.country_digit =~ 'PT'\n",
    "# RETURN b.name, count(r) as cnt\n",
    "# ORDER BY cnt DESC\n",
    "# LIMIT 1"
   ]
  },
  {
   "cell_type": "code",
   "execution_count": 58,
   "metadata": {},
   "outputs": [
    {
     "name": "stdout",
     "output_type": "stream",
     "text": [
      "[{'b.name': 'Super Bock', 'cnt': 391},\n",
      " {'b.name': 'Sagres Cerveja', 'cnt': 279},\n",
      " {'b.name': 'Super Bock Stout', 'cnt': 82},\n",
      " {'b.name': 'Sagres Cerveja Preta (Dark)', 'cnt': 77},\n",
      " {'b.name': 'Bohemia', 'cnt': 67},\n",
      " {'b.name': 'Super Bock Abadia', 'cnt': 37},\n",
      " {'b.name': 'Sagres Mini', 'cnt': 21},\n",
      " {'b.name': 'Tagus', 'cnt': 20},\n",
      " {'b.name': 'Cristal', 'cnt': 19},\n",
      " {'b.name': 'Sovina IPA', 'cnt': 16}]\n"
     ]
    }
   ],
   "source": [
    "result = secure_graph.run(\"\"\"\n",
    "        MATCH (r:Reviews)-[:ABOUT]->(b:Beers)-[:BREWED_AT]->(br:Breweries)-[:FROM]->(c:Country)\n",
    "        WHERE c.country_digit =~ 'PT'\n",
    "        RETURN b.name, count(r) as cnt\n",
    "        ORDER BY cnt DESC\n",
    "        LIMIT 10\n",
    "\"\"\").data()\n",
    "pprint(result)"
   ]
  },
  {
   "cell_type": "code",
   "execution_count": null,
   "metadata": {},
   "outputs": [],
   "source": [
    "redis.set(\"GROUP5:5\", \"Super Bock\")"
   ]
  },
  {
   "cell_type": "markdown",
   "metadata": {},
   "source": [
    "## Q 6"
   ]
  },
  {
   "cell_type": "code",
   "execution_count": 36,
   "metadata": {
    "scrolled": true
   },
   "outputs": [],
   "source": [
    "# CALL {\n",
    "# \tMATCH (s:Style)<-[:OF_TYPE]-(b:Beers)-[:BREWED_AT]->(br:Breweries)\n",
    "# \tRETURN br.name, COUNT(DISTINCT s) as cnt\n",
    "#     }\n",
    "# RETURN avg(cnt) as styles_per_brewery_avg"
   ]
  },
  {
   "cell_type": "code",
   "execution_count": 35,
   "metadata": {},
   "outputs": [
    {
     "name": "stdout",
     "output_type": "stream",
     "text": [
      "[{'styles_per_brewery_avg': 10.669977315921768}]\n"
     ]
    }
   ],
   "source": [
    "result = secure_graph.run(\"\"\"\n",
    "        CALL {\n",
    "            MATCH (s:Style)<-[:OF_TYPE]-(b:Beers)-[:BREWED_AT]->(br:Breweries)\n",
    "            RETURN br.name, COUNT(DISTINCT s) as cnt\n",
    "            }\n",
    "        RETURN avg(cnt) as styles_per_brewery_avg\n",
    "\"\"\").data()\n",
    "pprint(result)"
   ]
  },
  {
   "cell_type": "code",
   "execution_count": null,
   "metadata": {},
   "outputs": [],
   "source": [
    "redis.set(\"GROUP5:6\", \"10.669977315921768\")"
   ]
  },
  {
   "cell_type": "markdown",
   "metadata": {},
   "source": [
    "## Q 7"
   ]
  },
  {
   "cell_type": "code",
   "execution_count": null,
   "metadata": {},
   "outputs": [],
   "source": [
    "# CALL {\n",
    "# \tMATCH (b:Beers)-[:BREWED_AT]->(br:Breweries)\n",
    "# \tWHERE b.abv <> 'Unknown'\n",
    "# \tRETURN b.name, br.name AS brewery, toFloat(b.abv) AS abv\n",
    "# }\n",
    "# RETURN brewery, AVG(abv) AS average_abv\n",
    "# ORDER BY average_abv DESC\n",
    "# LIMIT 1"
   ]
  },
  {
   "cell_type": "code",
   "execution_count": 60,
   "metadata": {},
   "outputs": [
    {
     "name": "stdout",
     "output_type": "stream",
     "text": [
      "[{'average_abv': 25.57777777777778, 'brewery': '1648 Brewing Company Ltd'},\n",
      " {'average_abv': 22.515384615384612, 'brewery': 'Schorschbräu'},\n",
      " {'average_abv': 21.0, 'brewery': \"Brouwerij 't Koelschip\"},\n",
      " {'average_abv': 16.327272727272724, 'brewery': 'Brewmeister'},\n",
      " {'average_abv': 16.03333333333333, 'brewery': 'Dansk Mjød A/S'},\n",
      " {'average_abv': 15.4, 'brewery': 'Falstaff'},\n",
      " {'average_abv': 15.2, 'brewery': 'Shoes Brewery'},\n",
      " {'average_abv': 15.0, 'brewery': \"Krauski's Brewskis\"},\n",
      " {'average_abv': 15.0, 'brewery': 'Bluewood Brewing'},\n",
      " {'average_abv': 14.65, 'brewery': \"The 'Ole Spotted Dog Brewery\"}]\n"
     ]
    }
   ],
   "source": [
    "result = secure_graph.run(\"\"\"\n",
    "        CALL {\n",
    "            MATCH (b:Beers)-[:BREWED_AT]->(br:Breweries)\n",
    "            WHERE b.abv <> 'Unknown'\n",
    "            RETURN br.name AS brewery, toFloat(b.abv) AS abv\n",
    "        }\n",
    "        RETURN brewery, AVG(abv) AS average_abv\n",
    "        ORDER BY average_abv DESC\n",
    "        LIMIT 10\n",
    "\"\"\").data()\n",
    "pprint(result)"
   ]
  },
  {
   "cell_type": "code",
   "execution_count": null,
   "metadata": {},
   "outputs": [],
   "source": [
    "redis.set(\"GROUP5:7\", \"1648 Brewing Company Ltd\")"
   ]
  },
  {
   "cell_type": "markdown",
   "metadata": {},
   "source": [
    "## Q 8"
   ]
  },
  {
   "cell_type": "code",
   "execution_count": null,
   "metadata": {},
   "outputs": [],
   "source": [
    "# CALL {\n",
    "# \tMATCH (r:Reviews)-[:ABOUT]->(b:Beers)-[:OF_TYPE]->(s:Style)\n",
    "# \tWHERE (r.smell <> 'Unknown') AND (r.look <> 'Unknown')\n",
    "# \tRETURN DISTINCT s.name as style, avg(toFloat(r.look)) AS look, avg(toFloat(r.smell)) AS smell\n",
    "# }\n",
    "# RETURN style, look + smell AS grade\n",
    "# ORDER BY grade DESC\n",
    "# LIMIT 1"
   ]
  },
  {
   "cell_type": "code",
   "execution_count": 62,
   "metadata": {},
   "outputs": [
    {
     "name": "stdout",
     "output_type": "stream",
     "text": [
      "[{'grade': 8.797210377972094, 'style': 'New England IPA'},\n",
      " {'grade': 8.549276679112484, 'style': 'American Imperial Stout'},\n",
      " {'grade': 8.405840786677885, 'style': 'Belgian Gueuze'},\n",
      " {'grade': 8.388351336357367, 'style': 'American Imperial Porter'},\n",
      " {'grade': 8.379684481648294, 'style': 'Russian Imperial Stout'},\n",
      " {'grade': 8.290219065548538, 'style': 'Belgian Quadrupel (Quad)'},\n",
      " {'grade': 8.27398094474596, 'style': 'Belgian Fruit Lambic'},\n",
      " {'grade': 8.252046966446425, 'style': 'American Imperial IPA'},\n",
      " {'grade': 8.22986003110421, 'style': 'Robust Porter'},\n",
      " {'grade': 8.227780661614998, 'style': 'American Wild Ale'}]\n"
     ]
    }
   ],
   "source": [
    "result = secure_graph.run(\"\"\"\n",
    "        CALL {\n",
    "            MATCH (r:Reviews)-[:ABOUT]->(b:Beers)-[:OF_TYPE]->(s:Style)\n",
    "            WHERE (r.smell <> 'Unknown') AND (r.look <> 'Unknown')\n",
    "            RETURN DISTINCT s.name as style, avg(toFloat(r.look)) AS look, avg(toFloat(r.smell)) AS smell\n",
    "        }\n",
    "        RETURN style, look + smell AS grade\n",
    "        ORDER BY grade DESC\n",
    "        LIMIT 10\n",
    "\"\"\").data()\n",
    "pprint(result)"
   ]
  },
  {
   "cell_type": "code",
   "execution_count": null,
   "metadata": {},
   "outputs": [],
   "source": [
    "redis.set(\"GROUP5:8\", \"New England IPA\")"
   ]
  },
  {
   "cell_type": "markdown",
   "metadata": {},
   "source": [
    "## Q 9"
   ]
  },
  {
   "cell_type": "markdown",
   "metadata": {},
   "source": [
    "** First Option: suggest beers by the best 'overall' rating **\n",
    "** Here I selected only beers with more than 10 reviews **"
   ]
  },
  {
   "cell_type": "code",
   "execution_count": null,
   "metadata": {},
   "outputs": [],
   "source": [
    "# CALL {\n",
    "# \tMATCH (r:Reviews)-[:ABOUT]->(b:Beers)\n",
    "# \tWHERE (r.overall <> 'Unknown') AND size(()-[:ABOUT]->(b)) > 9\n",
    "# \tRETURN DISTINCT b.name as beer, avg(toFloat(r.overall)) AS overall\n",
    "# }\n",
    "# RETURN beer, overall\n",
    "# ORDER BY overall DESC\n",
    "# LIMIT 3"
   ]
  },
  {
   "cell_type": "code",
   "execution_count": 43,
   "metadata": {},
   "outputs": [
    {
     "name": "stdout",
     "output_type": "stream",
     "text": [
      "[{'beer': 'Boogie Board', 'overall': 5.0},\n",
      " {'beer': 'Barely Wine Barley Wine (Buffalo Trace Barrel Aged)',\n",
      "  'overall': 5.0},\n",
      " {'beer': 'Pilot Series Pineapple Kölsch', 'overall': 5.0},\n",
      " {'beer': 'Counter Clockweisse', 'overall': 5.0},\n",
      " {'beer': 'Empower', 'overall': 5.0},\n",
      " {'beer': 'Double Barrel Hannahpu - Mayan Chocolate Doughnut DB Hunahpu '\n",
      "          'Imperial Stout',\n",
      "  'overall': 5.0},\n",
      " {'beer': 'Prancer', 'overall': 5.0},\n",
      " {'beer': 'Dog Eat Dog', 'overall': 5.0},\n",
      " {'beer': 'Nebolution', 'overall': 5.0},\n",
      " {'beer': 'Hannahpu - Mayan Chocolate Doughnut Hunahpu Imperial Stout',\n",
      "  'overall': 4.9375}]\n"
     ]
    }
   ],
   "source": [
    "result = secure_graph.run(\"\"\"\n",
    "        CALL {\n",
    "            MATCH (r:Reviews)-[:ABOUT]->(b:Beers)\n",
    "            WHERE (r.overall <> 'Unknown') AND size(()-[:ABOUT]->(b)) > 9\n",
    "            RETURN DISTINCT b.name as beer, avg(toFloat(r.overall)) AS overall\n",
    "        }\n",
    "        RETURN beer, overall\n",
    "        ORDER BY overall DESC\n",
    "        LIMIT 10\n",
    "\"\"\").data()\n",
    "pprint(result)"
   ]
  },
  {
   "cell_type": "markdown",
   "metadata": {},
   "source": [
    "** Second Option: suggest beers by the best 'overall' rating but only in Portugal (presumably easier to find) **\n",
    "** Here again I selected only beers with more than 10 reviews **"
   ]
  },
  {
   "cell_type": "code",
   "execution_count": null,
   "metadata": {},
   "outputs": [],
   "source": [
    "# CALL {\n",
    "# \tMATCH (r:Reviews)-[:ABOUT]->(b:Beers)-[:BREWED_AT]->(br:Breweries)-[:FROM]->(c:Country)\n",
    "# \tWHERE (r.overall <> 'Unknown') AND size(()-[:ABOUT]->(b)) > 9 AND c.country_digit=~'PT'\n",
    "# \tRETURN DISTINCT b.name as beer, avg(toFloat(r.overall)) AS overall\n",
    "# }\n",
    "# RETURN beer, overall\n",
    "# ORDER BY overall DESC\n",
    "# LIMIT 3"
   ]
  },
  {
   "cell_type": "code",
   "execution_count": 44,
   "metadata": {},
   "outputs": [
    {
     "name": "stdout",
     "output_type": "stream",
     "text": [
      "[{'beer': 'Sovina Amber', 'overall': 3.6785714285714284},\n",
      " {'beer': 'Finisterra', 'overall': 3.675},\n",
      " {'beer': 'Especial', 'overall': 3.5},\n",
      " {'beer': 'Bohemia', 'overall': 3.3452380952380945},\n",
      " {'beer': 'Sovina IPA', 'overall': 3.25},\n",
      " {'beer': 'Sagres Cerveja Preta (Dark)', 'overall': 3.208333333333333},\n",
      " {'beer': 'Super Bock Stout', 'overall': 3.0613207547169807},\n",
      " {'beer': 'Sagres Mini', 'overall': 3.0227272727272725},\n",
      " {'beer': 'Super Bock Abadia', 'overall': 3.022727272727272},\n",
      " {'beer': 'Tagus', 'overall': 2.9423076923076925}]\n"
     ]
    }
   ],
   "source": [
    "result = secure_graph.run(\"\"\"\n",
    "        CALL {\n",
    "            MATCH (r:Reviews)-[:ABOUT]->(b:Beers)-[:BREWED_AT]->(br:Breweries)-[:FROM]->(c:Country)\n",
    "            WHERE (r.overall <> 'Unknown') AND size(()-[:ABOUT]->(b)) > 9 AND c.country_digit=~'PT'\n",
    "            RETURN DISTINCT b.name as beer, avg(toFloat(r.overall)) AS overall\n",
    "        }\n",
    "        RETURN beer, overall\n",
    "        ORDER BY overall DESC\n",
    "        LIMIT 10\n",
    "\"\"\").data()\n",
    "pprint(result)"
   ]
  },
  {
   "cell_type": "markdown",
   "metadata": {},
   "source": []
  },
  {
   "cell_type": "markdown",
   "metadata": {},
   "source": []
  },
  {
   "cell_type": "code",
   "execution_count": null,
   "metadata": {},
   "outputs": [],
   "source": []
  },
  {
   "cell_type": "code",
   "execution_count": null,
   "metadata": {},
   "outputs": [],
   "source": []
  },
  {
   "cell_type": "code",
   "execution_count": null,
   "metadata": {},
   "outputs": [],
   "source": []
  },
  {
   "cell_type": "code",
   "execution_count": null,
   "metadata": {},
   "outputs": [],
   "source": []
  },
  {
   "cell_type": "code",
   "execution_count": null,
   "metadata": {},
   "outputs": [],
   "source": []
  }
 ],
 "metadata": {
  "kernelspec": {
   "display_name": "Python 3",
   "language": "python",
   "name": "python3"
  },
  "language_info": {
   "codemirror_mode": {
    "name": "ipython",
    "version": 3
   },
   "file_extension": ".py",
   "mimetype": "text/x-python",
   "name": "python",
   "nbconvert_exporter": "python",
   "pygments_lexer": "ipython3",
   "version": "3.7.5"
  }
 },
 "nbformat": 4,
 "nbformat_minor": 4
}
