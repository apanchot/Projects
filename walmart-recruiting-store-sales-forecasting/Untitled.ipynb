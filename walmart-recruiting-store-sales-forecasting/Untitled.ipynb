{
 "cells": [
  {
   "cell_type": "code",
   "execution_count": 60,
   "id": "c54b6ba2",
   "metadata": {
    "scrolled": false
   },
   "outputs": [
    {
     "name": "stderr",
     "output_type": "stream",
     "text": [
      "┌ Info: Precompiling Impute [f7bf1975-0170-51b9-8c5f-a992d46b9575]\n",
      "└ @ Base loading.jl:1317\n",
      "\u001b[33m\u001b[1m┌ \u001b[22m\u001b[39m\u001b[33m\u001b[1mWarning: \u001b[22m\u001b[39mModule HTTP with build ID 158906228973362 is missing from the cache.\n",
      "\u001b[33m\u001b[1m│ \u001b[22m\u001b[39mThis may mean HTTP [cd3eb016-35fb-5094-929b-558a96fad6f3] does not support precompilation but is imported by a module that does.\n",
      "\u001b[33m\u001b[1m└ \u001b[22m\u001b[39m\u001b[90m@ Base loading.jl:1008\u001b[39m\n",
      "\u001b[33m\u001b[1m┌ \u001b[22m\u001b[39m\u001b[33m\u001b[1mWarning: \u001b[22m\u001b[39mModule HTTP with build ID 158906228973362 is missing from the cache.\n",
      "\u001b[33m\u001b[1m│ \u001b[22m\u001b[39mThis may mean HTTP [cd3eb016-35fb-5094-929b-558a96fad6f3] does not support precompilation but is imported by a module that does.\n",
      "\u001b[33m\u001b[1m└ \u001b[22m\u001b[39m\u001b[90m@ Base loading.jl:1008\u001b[39m\n",
      "┌ Info: Skipping precompilation since __precompile__(false). Importing Impute [f7bf1975-0170-51b9-8c5f-a992d46b9575].\n",
      "└ @ Base loading.jl:1025\n",
      "┌ Info: Precompiling DataDeps [124859b0-ceae-595e-8997-d05f6a7a8dfe]\n",
      "└ @ Base loading.jl:1317\n",
      "\u001b[33m\u001b[1m┌ \u001b[22m\u001b[39m\u001b[33m\u001b[1mWarning: \u001b[22m\u001b[39mModule HTTP with build ID 158906228973362 is missing from the cache.\n",
      "\u001b[33m\u001b[1m│ \u001b[22m\u001b[39mThis may mean HTTP [cd3eb016-35fb-5094-929b-558a96fad6f3] does not support precompilation but is imported by a module that does.\n",
      "\u001b[33m\u001b[1m└ \u001b[22m\u001b[39m\u001b[90m@ Base loading.jl:1008\u001b[39m\n",
      "┌ Info: Skipping precompilation since __precompile__(false). Importing DataDeps [124859b0-ceae-595e-8997-d05f6a7a8dfe].\n",
      "└ @ Base loading.jl:1025\n",
      "┌ Info: Precompiling NearestNeighbors [b8a86587-4115-5ab1-83bc-aa920d37bbce]\n",
      "└ @ Base loading.jl:1317\n",
      "\u001b[33m\u001b[1m┌ \u001b[22m\u001b[39m\u001b[33m\u001b[1mWarning: \u001b[22m\u001b[39mModule StaticArrays with build ID 158884267734286 is missing from the cache.\n",
      "\u001b[33m\u001b[1m│ \u001b[22m\u001b[39mThis may mean StaticArrays [90137ffa-7385-5640-81b9-e52037218182] does not support precompilation but is imported by a module that does.\n",
      "\u001b[33m\u001b[1m└ \u001b[22m\u001b[39m\u001b[90m@ Base loading.jl:1008\u001b[39m\n",
      "┌ Info: Skipping precompilation since __precompile__(false). Importing NearestNeighbors [b8a86587-4115-5ab1-83bc-aa920d37bbce].\n",
      "└ @ Base loading.jl:1025\n"
     ]
    }
   ],
   "source": [
    "import RDatasets\n",
    "import Impute"
   ]
  },
  {
   "cell_type": "code",
   "execution_count": 12,
   "id": "0dccc676",
   "metadata": {},
   "outputs": [],
   "source": [
    "using Plots\n",
    "using DataFrames\n",
    "import CSV\n",
    "using MLJ"
   ]
  },
  {
   "cell_type": "code",
   "execution_count": 40,
   "id": "db1346ff",
   "metadata": {},
   "outputs": [],
   "source": [
    "features = DataFrame(CSV.File(\"features.csv\",missingstring=\"missing\"));\n",
    "train = DataFrame(CSV.File(\"train.csv\"));\n",
    "test = DataFrame(CSV.File(\"test.csv\"));\n",
    "stores = DataFrame(CSV.File(\"stores.csv\"));\n",
    "features.StoreType = stores[features.Store,:Type];\n",
    "features.Size = stores[features.Store,:Size];\n",
    "features.Id1 = string.(features.Store,\"_\",features.Date);\n",
    "select!(features, Not([:Store,:Date]));"
   ]
  },
  {
   "cell_type": "code",
   "execution_count": 41,
   "id": "de59e919",
   "metadata": {},
   "outputs": [],
   "source": [
    "# train.Id = string.(train.Store,\"_\",train.Dept,\"_\",train.Date);\n",
    "train.Id1 = string.(train.Store,\"_\",train.Date);\n",
    "# select!(train, Not([:Store,:Date,:IsHoliday]));\n",
    "# select!(train, :Id,:Weekly_Sales,:IsHoliday);\n",
    "\n",
    "# test.Id = string.(test.Store,\"_\",test.Dept,\"_\",test.Date);\n",
    "test.Id1 = string.(test.Store,\"_\",test.Date);\n",
    "# select!(test, Not([:Store,:Date,:IsHoliday]));\n",
    "# select!(test, :Id,:IsHoliday);"
   ]
  },
  {
   "cell_type": "code",
   "execution_count": 42,
   "id": "a67e96e6",
   "metadata": {},
   "outputs": [],
   "source": [
    "train = innerjoin(features,train,on=:Id1,makeunique=true)\n",
    "train.Id = string.(train.Store,\"_\",train.Dept,\"_\",train.Date);\n",
    "# select!(train, Not([:Store,:Date,:IsHoliday,:Id1]));\n",
    "# target = select(train, :Weekly_Sales);\n",
    "select!(train, Not([:Id1,:IsHoliday_1]));\n",
    "train;"
   ]
  },
  {
   "cell_type": "code",
   "execution_count": 43,
   "id": "bd0cb327",
   "metadata": {},
   "outputs": [],
   "source": [
    "test = innerjoin(features,test,on=:Id1,makeunique=true)\n",
    "test.Id = string.(test.Store,\"_\",test.Dept,\"_\",test.Date);\n",
    "# select!(test, Not([:Store,:Date,:IsHoliday,:Id1]));\n",
    "select!(test, Not([:Id1,:IsHoliday_1]));\n",
    "test;"
   ]
  },
  {
   "cell_type": "code",
   "execution_count": 44,
   "id": "47fe58fa",
   "metadata": {},
   "outputs": [],
   "source": [
    "train = coerce(train, :StoreType => Multiclass);"
   ]
  },
  {
   "cell_type": "code",
   "execution_count": 45,
   "id": "1ce8e325",
   "metadata": {},
   "outputs": [
    {
     "data": {
      "text/plain": [
       "┌──────────────┬──────────────────────────────────┬─────────────────────────────\n",
       "│\u001b[22m _.names      \u001b[0m│\u001b[22m _.types                          \u001b[0m│\u001b[22m _.scitypes                \u001b[0m ⋯\n",
       "├──────────────┼──────────────────────────────────┼─────────────────────────────\n",
       "│ Temperature  │ Float64                          │ Continuous                 ⋯\n",
       "│ Fuel_Price   │ Float64                          │ Continuous                 ⋯\n",
       "│ MarkDown1    │ Union{Missing, Float64}          │ Union{Missing, Continuous} ⋯\n",
       "│ MarkDown2    │ Union{Missing, Float64}          │ Union{Missing, Continuous} ⋯\n",
       "│ MarkDown3    │ Union{Missing, Float64}          │ Union{Missing, Continuous} ⋯\n",
       "│ MarkDown4    │ Union{Missing, Float64}          │ Union{Missing, Continuous} ⋯\n",
       "│ MarkDown5    │ Union{Missing, Float64}          │ Union{Missing, Continuous} ⋯\n",
       "│ CPI          │ Union{Missing, Float64}          │ Union{Missing, Continuous} ⋯\n",
       "│ Unemployment │ Union{Missing, Float64}          │ Union{Missing, Continuous} ⋯\n",
       "│ IsHoliday    │ Bool                             │ Count                      ⋯\n",
       "│ StoreType    │ CategoricalValue{String, UInt32} │ Multiclass{3}              ⋯\n",
       "│ Size         │ Int64                            │ Count                      ⋯\n",
       "│ Store        │ Int64                            │ Count                      ⋯\n",
       "│ Dept         │ Int64                            │ Count                      ⋯\n",
       "│ Date         │ Date                             │ ScientificDate             ⋯\n",
       "│ Weekly_Sales │ Float64                          │ Continuous                 ⋯\n",
       "│ Id           │ String                           │ Textual                    ⋯\n",
       "└──────────────┴──────────────────────────────────┴─────────────────────────────\n",
       "_.nrows = 421570\n"
      ]
     },
     "execution_count": 45,
     "metadata": {},
     "output_type": "execute_result"
    }
   ],
   "source": [
    "schema(train)"
   ]
  },
  {
   "cell_type": "code",
   "execution_count": 65,
   "id": "b474a2da",
   "metadata": {},
   "outputs": [],
   "source": [
    "# y, X = unpack(train, ==(:Weekly_Sales), colname -> true)\n",
    "y, X = unpack(train, \n",
    "    ==(:Weekly_Sales), \n",
    "    colname -> colname != :Date &&  colname !=:Id\n",
    "#     !=([:Date, :Id])\n",
    "#     !=(:Date)\n",
    "    );"
   ]
  },
  {
   "cell_type": "code",
   "execution_count": 72,
   "id": "f7f6a7be",
   "metadata": {},
   "outputs": [
    {
     "data": {
      "text/plain": [
       "┌──────────────┬──────────────────────────────────┬───────────────┐\n",
       "│\u001b[22m _.names      \u001b[0m│\u001b[22m _.types                          \u001b[0m│\u001b[22m _.scitypes    \u001b[0m│\n",
       "├──────────────┼──────────────────────────────────┼───────────────┤\n",
       "│ Temperature  │ Float64                          │ Continuous    │\n",
       "│ Fuel_Price   │ Float64                          │ Continuous    │\n",
       "│ MarkDown1    │ Float64                          │ Continuous    │\n",
       "│ MarkDown2    │ Float64                          │ Continuous    │\n",
       "│ MarkDown3    │ Float64                          │ Continuous    │\n",
       "│ MarkDown4    │ Float64                          │ Continuous    │\n",
       "│ MarkDown5    │ Float64                          │ Continuous    │\n",
       "│ CPI          │ Float64                          │ Continuous    │\n",
       "│ Unemployment │ Float64                          │ Continuous    │\n",
       "│ IsHoliday    │ Bool                             │ Count         │\n",
       "│ StoreType    │ CategoricalValue{String, UInt32} │ Multiclass{3} │\n",
       "│ Size         │ Int64                            │ Count         │\n",
       "│ Store        │ Int64                            │ Count         │\n",
       "│ Dept         │ Int64                            │ Count         │\n",
       "└──────────────┴──────────────────────────────────┴───────────────┘\n",
       "_.nrows = 97056\n"
      ]
     },
     "execution_count": 72,
     "metadata": {},
     "output_type": "execute_result"
    }
   ],
   "source": [
    "schema(X)"
   ]
  },
  {
   "cell_type": "code",
   "execution_count": 71,
   "id": "63276356",
   "metadata": {},
   "outputs": [
    {
     "data": {
      "text/html": [
       "<table class=\"data-frame\"><thead><tr><th></th><th>Temperature</th><th>Fuel_Price</th><th>MarkDown1</th><th>MarkDown2</th><th>MarkDown3</th><th>MarkDown4</th><th>MarkDown5</th></tr><tr><th></th><th>Float64</th><th>Float64</th><th>Float64</th><th>Float64</th><th>Float64</th><th>Float64</th><th>Float64</th></tr></thead><tbody><p>97,056 rows × 14 columns (omitted printing of 7 columns)</p><tr><th>1</th><td>59.11</td><td>3.297</td><td>10382.9</td><td>6115.67</td><td>215.07</td><td>2406.62</td><td>6551.42</td></tr><tr><th>2</th><td>62.25</td><td>3.308</td><td>6074.12</td><td>254.39</td><td>51.98</td><td>427.39</td><td>5988.57</td></tr><tr><th>3</th><td>60.14</td><td>3.236</td><td>410.31</td><td>98.0</td><td>55805.5</td><td>8.0</td><td>554.92</td></tr><tr><th>4</th><td>48.91</td><td>3.172</td><td>5629.51</td><td>68.0</td><td>1398.11</td><td>2084.64</td><td>20475.3</td></tr><tr><th>5</th><td>43.93</td><td>3.158</td><td>4640.65</td><td>19.0</td><td>105.02</td><td>3639.42</td><td>14461.8</td></tr><tr><th>6</th><td>51.63</td><td>3.159</td><td>5011.32</td><td>67.0</td><td>347.37</td><td>225.79</td><td>4011.37</td></tr><tr><th>7</th><td>47.96</td><td>3.112</td><td>2725.36</td><td>40.48</td><td>634.7</td><td>24.9</td><td>2739.43</td></tr><tr><th>8</th><td>44.55</td><td>3.129</td><td>5762.1</td><td>46011.4</td><td>260.36</td><td>983.65</td><td>4735.78</td></tr><tr><th>9</th><td>49.01</td><td>3.157</td><td>6277.39</td><td>21813.2</td><td>143.1</td><td>1450.13</td><td>8483.0</td></tr><tr><th>10</th><td>48.53</td><td>3.261</td><td>5183.29</td><td>8025.87</td><td>42.24</td><td>453.08</td><td>3719.38</td></tr><tr><th>11</th><td>54.11</td><td>3.268</td><td>4139.87</td><td>2807.19</td><td>33.88</td><td>500.62</td><td>3400.21</td></tr><tr><th>12</th><td>54.26</td><td>3.29</td><td>1164.46</td><td>1082.74</td><td>44.0</td><td>11.0</td><td>1222.19</td></tr><tr><th>13</th><td>56.55</td><td>3.36</td><td>34577.1</td><td>3579.21</td><td>160.53</td><td>32403.9</td><td>5630.4</td></tr><tr><th>14</th><td>48.02</td><td>3.409</td><td>13925.1</td><td>6927.23</td><td>101.64</td><td>8471.88</td><td>6886.04</td></tr><tr><th>15</th><td>45.32</td><td>3.51</td><td>9873.33</td><td>11062.3</td><td>9.8</td><td>8409.31</td><td>3402.66</td></tr><tr><th>16</th><td>57.25</td><td>3.555</td><td>9349.61</td><td>7556.01</td><td>3.2</td><td>1219.92</td><td>8143.59</td></tr><tr><th>17</th><td>60.96</td><td>3.63</td><td>15441.4</td><td>1569.0</td><td>10.8</td><td>25390.9</td><td>8067.61</td></tr><tr><th>18</th><td>58.76</td><td>3.669</td><td>10331.0</td><td>151.88</td><td>6.0</td><td>671.43</td><td>5509.84</td></tr><tr><th>19</th><td>64.74</td><td>3.734</td><td>4298.16</td><td>7.5</td><td>2.02</td><td>2724.65</td><td>2017.69</td></tr><tr><th>20</th><td>65.93</td><td>3.787</td><td>6118.56</td><td>9.48</td><td>4.97</td><td>426.72</td><td>3657.22</td></tr><tr><th>21</th><td>67.61</td><td>3.845</td><td>10309.6</td><td>0.5</td><td>10.25</td><td>1654.17</td><td>2642.78</td></tr><tr><th>22</th><td>69.07</td><td>3.891</td><td>6186.19</td><td>3288.69</td><td>17.07</td><td>1822.55</td><td>1063.78</td></tr><tr><th>23</th><td>66.76</td><td>3.877</td><td>2230.8</td><td>612.02</td><td>19.75</td><td>275.13</td><td>5747.1</td></tr><tr><th>24</th><td>77.95</td><td>3.501</td><td>6086.21</td><td>12.0</td><td>370.51</td><td>148.75</td><td>3690.85</td></tr><tr><th>25</th><td>78.3</td><td>3.452</td><td>8813.81</td><td>116.8</td><td>64.55</td><td>2652.04</td><td>7161.91</td></tr><tr><th>26</th><td>79.35</td><td>3.393</td><td>5621.99</td><td>109.6</td><td>0.25</td><td>2420.28</td><td>3083.26</td></tr><tr><th>27</th><td>78.39</td><td>3.346</td><td>8624.56</td><td>171.25</td><td>3.05</td><td>2524.07</td><td>7063.68</td></tr><tr><th>28</th><td>81.57</td><td>3.227</td><td>12218.8</td><td>94.4</td><td>192.83</td><td>4066.01</td><td>6149.04</td></tr><tr><th>29</th><td>77.12</td><td>3.256</td><td>7218.13</td><td>45.2</td><td>36.24</td><td>3909.38</td><td>2596.37</td></tr><tr><th>30</th><td>80.42</td><td>3.311</td><td>3213.0</td><td>313.72</td><td>9.53</td><td>2262.02</td><td>3228.19</td></tr><tr><th>&vellip;</th><td>&vellip;</td><td>&vellip;</td><td>&vellip;</td><td>&vellip;</td><td>&vellip;</td><td>&vellip;</td><td>&vellip;</td></tr></tbody></table>"
      ],
      "text/latex": [
       "\\begin{tabular}{r|cccccccc}\n",
       "\t& Temperature & Fuel\\_Price & MarkDown1 & MarkDown2 & MarkDown3 & MarkDown4 & MarkDown5 & \\\\\n",
       "\t\\hline\n",
       "\t& Float64 & Float64 & Float64 & Float64 & Float64 & Float64 & Float64 & \\\\\n",
       "\t\\hline\n",
       "\t1 & 59.11 & 3.297 & 10382.9 & 6115.67 & 215.07 & 2406.62 & 6551.42 & $\\dots$ \\\\\n",
       "\t2 & 62.25 & 3.308 & 6074.12 & 254.39 & 51.98 & 427.39 & 5988.57 & $\\dots$ \\\\\n",
       "\t3 & 60.14 & 3.236 & 410.31 & 98.0 & 55805.5 & 8.0 & 554.92 & $\\dots$ \\\\\n",
       "\t4 & 48.91 & 3.172 & 5629.51 & 68.0 & 1398.11 & 2084.64 & 20475.3 & $\\dots$ \\\\\n",
       "\t5 & 43.93 & 3.158 & 4640.65 & 19.0 & 105.02 & 3639.42 & 14461.8 & $\\dots$ \\\\\n",
       "\t6 & 51.63 & 3.159 & 5011.32 & 67.0 & 347.37 & 225.79 & 4011.37 & $\\dots$ \\\\\n",
       "\t7 & 47.96 & 3.112 & 2725.36 & 40.48 & 634.7 & 24.9 & 2739.43 & $\\dots$ \\\\\n",
       "\t8 & 44.55 & 3.129 & 5762.1 & 46011.4 & 260.36 & 983.65 & 4735.78 & $\\dots$ \\\\\n",
       "\t9 & 49.01 & 3.157 & 6277.39 & 21813.2 & 143.1 & 1450.13 & 8483.0 & $\\dots$ \\\\\n",
       "\t10 & 48.53 & 3.261 & 5183.29 & 8025.87 & 42.24 & 453.08 & 3719.38 & $\\dots$ \\\\\n",
       "\t11 & 54.11 & 3.268 & 4139.87 & 2807.19 & 33.88 & 500.62 & 3400.21 & $\\dots$ \\\\\n",
       "\t12 & 54.26 & 3.29 & 1164.46 & 1082.74 & 44.0 & 11.0 & 1222.19 & $\\dots$ \\\\\n",
       "\t13 & 56.55 & 3.36 & 34577.1 & 3579.21 & 160.53 & 32403.9 & 5630.4 & $\\dots$ \\\\\n",
       "\t14 & 48.02 & 3.409 & 13925.1 & 6927.23 & 101.64 & 8471.88 & 6886.04 & $\\dots$ \\\\\n",
       "\t15 & 45.32 & 3.51 & 9873.33 & 11062.3 & 9.8 & 8409.31 & 3402.66 & $\\dots$ \\\\\n",
       "\t16 & 57.25 & 3.555 & 9349.61 & 7556.01 & 3.2 & 1219.92 & 8143.59 & $\\dots$ \\\\\n",
       "\t17 & 60.96 & 3.63 & 15441.4 & 1569.0 & 10.8 & 25390.9 & 8067.61 & $\\dots$ \\\\\n",
       "\t18 & 58.76 & 3.669 & 10331.0 & 151.88 & 6.0 & 671.43 & 5509.84 & $\\dots$ \\\\\n",
       "\t19 & 64.74 & 3.734 & 4298.16 & 7.5 & 2.02 & 2724.65 & 2017.69 & $\\dots$ \\\\\n",
       "\t20 & 65.93 & 3.787 & 6118.56 & 9.48 & 4.97 & 426.72 & 3657.22 & $\\dots$ \\\\\n",
       "\t21 & 67.61 & 3.845 & 10309.6 & 0.5 & 10.25 & 1654.17 & 2642.78 & $\\dots$ \\\\\n",
       "\t22 & 69.07 & 3.891 & 6186.19 & 3288.69 & 17.07 & 1822.55 & 1063.78 & $\\dots$ \\\\\n",
       "\t23 & 66.76 & 3.877 & 2230.8 & 612.02 & 19.75 & 275.13 & 5747.1 & $\\dots$ \\\\\n",
       "\t24 & 77.95 & 3.501 & 6086.21 & 12.0 & 370.51 & 148.75 & 3690.85 & $\\dots$ \\\\\n",
       "\t25 & 78.3 & 3.452 & 8813.81 & 116.8 & 64.55 & 2652.04 & 7161.91 & $\\dots$ \\\\\n",
       "\t26 & 79.35 & 3.393 & 5621.99 & 109.6 & 0.25 & 2420.28 & 3083.26 & $\\dots$ \\\\\n",
       "\t27 & 78.39 & 3.346 & 8624.56 & 171.25 & 3.05 & 2524.07 & 7063.68 & $\\dots$ \\\\\n",
       "\t28 & 81.57 & 3.227 & 12218.8 & 94.4 & 192.83 & 4066.01 & 6149.04 & $\\dots$ \\\\\n",
       "\t29 & 77.12 & 3.256 & 7218.13 & 45.2 & 36.24 & 3909.38 & 2596.37 & $\\dots$ \\\\\n",
       "\t30 & 80.42 & 3.311 & 3213.0 & 313.72 & 9.53 & 2262.02 & 3228.19 & $\\dots$ \\\\\n",
       "\t$\\dots$ & $\\dots$ & $\\dots$ & $\\dots$ & $\\dots$ & $\\dots$ & $\\dots$ & $\\dots$ &  \\\\\n",
       "\\end{tabular}\n"
      ],
      "text/plain": [
       "\u001b[1m97056×14 DataFrame\u001b[0m\n",
       "\u001b[1m   Row \u001b[0m│\u001b[1m Temperature \u001b[0m\u001b[1m Fuel_Price \u001b[0m\u001b[1m MarkDown1 \u001b[0m\u001b[1m MarkDown2 \u001b[0m\u001b[1m MarkDown3 \u001b[0m\u001b[1m MarkDown4 \u001b[0m\u001b[1m \u001b[0m ⋯\n",
       "\u001b[1m       \u001b[0m│\u001b[90m Float64     \u001b[0m\u001b[90m Float64    \u001b[0m\u001b[90m Float64   \u001b[0m\u001b[90m Float64   \u001b[0m\u001b[90m Float64   \u001b[0m\u001b[90m Float64   \u001b[0m\u001b[90m \u001b[0m ⋯\n",
       "───────┼────────────────────────────────────────────────────────────────────────\n",
       "     1 │       59.11       3.297   10382.9     6115.67     215.07    2406.62   ⋯\n",
       "     2 │       62.25       3.308    6074.12     254.39      51.98     427.39\n",
       "     3 │       60.14       3.236     410.31      98.0    55805.5        8.0\n",
       "     4 │       48.91       3.172    5629.51      68.0     1398.11    2084.64\n",
       "     5 │       43.93       3.158    4640.65      19.0      105.02    3639.42   ⋯\n",
       "     6 │       51.63       3.159    5011.32      67.0      347.37     225.79\n",
       "     7 │       47.96       3.112    2725.36      40.48     634.7       24.9\n",
       "     8 │       44.55       3.129    5762.1    46011.4      260.36     983.65\n",
       "     9 │       49.01       3.157    6277.39   21813.2      143.1     1450.13   ⋯\n",
       "    10 │       48.53       3.261    5183.29    8025.87      42.24     453.08\n",
       "    11 │       54.11       3.268    4139.87    2807.19      33.88     500.62\n",
       "   ⋮   │      ⋮           ⋮           ⋮          ⋮          ⋮          ⋮       ⋱\n",
       " 97047 │       77.2        3.647    5753.81     167.95       1.23    9181.48\n",
       " 97048 │       76.58       3.654   24853.0       39.56      17.96   11142.7    ⋯\n",
       " 97049 │       78.65       3.722   17868.8       50.6       57.66    2593.93\n",
       " 97050 │       75.71       3.807    3657.79       6.0        0.3     1630.5\n",
       " 97051 │       72.62       3.834    7936.2       58.38      22.0     5518.07\n",
       " 97052 │       75.09       3.867   23641.3        6.0       92.93    6988.31   ⋯\n",
       " 97053 │       75.7        3.911   11024.5       12.8       52.63    1854.77\n",
       " 97054 │       65.32       4.038    8452.2       92.28      63.24    2376.38\n",
       " 97055 │       64.88       3.997    4556.61      20.64       1.5     1601.01\n",
       " 97056 │       58.85       3.882    4018.91      58.08     100.0      211.94   ⋯\n",
       "\u001b[36m                                                8 columns and 97035 rows omitted\u001b[0m"
      ]
     },
     "execution_count": 71,
     "metadata": {},
     "output_type": "execute_result"
    }
   ],
   "source": [
    "X = Impute.filter(X; dims=:rows)\n",
    "# X = Impute.substitute(X)"
   ]
  },
  {
   "cell_type": "code",
   "execution_count": 82,
   "id": "df4f9182",
   "metadata": {},
   "outputs": [
    {
     "data": {
      "text/plain": [
       "\u001b[35mConstant regressor (Deterministic).\u001b[39m\n",
       "\u001b[35m→ based on [MLJModels](https://github.com/alan-turing-institute/MLJModels.jl).\u001b[39m\n",
       "\u001b[35m→ do `@load DeterministicConstantRegressor pkg=\"MLJModels\"` to use the model.\u001b[39m\n",
       "\u001b[35m→ do `?DeterministicConstantRegressor` for documentation.\u001b[39m\n",
       "(name = \"DeterministicConstantRegressor\",\n",
       " package_name = \"MLJModels\",\n",
       " is_supervised = true,\n",
       " docstring = \"Constant regressor (Deterministic).\\n→ based on [MLJModels](https://github.com/alan-turing-institute/MLJModels.jl).\\n→ do `@load DeterministicConstantRegressor pkg=\\\"MLJModels\\\"` to use the model.\\n→ do `?DeterministicConstantRegressor` for documentation.\",\n",
       " hyperparameter_ranges = (),\n",
       " hyperparameter_types = (),\n",
       " hyperparameters = (),\n",
       " implemented_methods = [:fit, :predict],\n",
       " is_pure_julia = true,\n",
       " is_wrapper = false,\n",
       " iteration_parameter = nothing,\n",
       " load_path = \"MLJModels.DeterministicConstantRegressor\",\n",
       " package_license = \"MIT\",\n",
       " package_url = \"https://github.com/alan-turing-institute/MLJModels.jl\",\n",
       " package_uuid = \"d491faf4-2d78-11e9-2867-c94bc002c0b7\",\n",
       " prediction_type = :deterministic,\n",
       " supports_class_weights = false,\n",
       " supports_online = false,\n",
       " supports_training_losses = false,\n",
       " supports_weights = false,\n",
       " input_scitype = Table,\n",
       " target_scitype = AbstractVector{Continuous},\n",
       " output_scitype = Unknown,)"
      ]
     },
     "execution_count": 82,
     "metadata": {},
     "output_type": "execute_result"
    }
   ],
   "source": [
    "models(matching(X, y))[3]"
   ]
  },
  {
   "cell_type": "code",
   "execution_count": 87,
   "id": "4c88a34f",
   "metadata": {},
   "outputs": [
    {
     "name": "stdout",
     "output_type": "stream",
     "text": [
      "import MLJModels ✔\n"
     ]
    },
    {
     "name": "stderr",
     "output_type": "stream",
     "text": [
      "┌ Info: For silent loading, specify `verbosity=0`. \n",
      "└ @ Main /Users/alex/.julia/packages/MLJModels/E8BbE/src/loading.jl:168\n"
     ]
    },
    {
     "data": {
      "text/plain": [
       "MLJModels.DeterministicConstantRegressor"
      ]
     },
     "execution_count": 87,
     "metadata": {},
     "output_type": "execute_result"
    }
   ],
   "source": [
    "@load DeterministicConstantRegressor pkg=\"MLJModels\""
   ]
  },
  {
   "cell_type": "code",
   "execution_count": 90,
   "id": "b5c5db09",
   "metadata": {},
   "outputs": [
    {
     "name": "stdout",
     "output_type": "stream",
     "text": [
      "import MLJScikitLearnInterface"
     ]
    },
    {
     "name": "stderr",
     "output_type": "stream",
     "text": [
      "┌ Info: For silent loading, specify `verbosity=0`. \n",
      "└ @ Main /Users/alex/.julia/packages/MLJModels/E8BbE/src/loading.jl:168\n"
     ]
    },
    {
     "ename": "LoadError",
     "evalue": "ArgumentError: Package MLJScikitLearnInterface not found in current path:\n- Run `import Pkg; Pkg.add(\"MLJScikitLearnInterface\")` to install the MLJScikitLearnInterface package.\n",
     "output_type": "error",
     "traceback": [
      "ArgumentError: Package MLJScikitLearnInterface not found in current path:\n- Run `import Pkg; Pkg.add(\"MLJScikitLearnInterface\")` to install the MLJScikitLearnInterface package.\n",
      "",
      "Stacktrace:",
      " [1] require(into::Module, mod::Symbol)",
      "   @ Base ./loading.jl:871",
      " [2] eval",
      "   @ ./boot.jl:360 [inlined]",
      " [3] eval(x::Expr)",
      "   @ Base.MainInclude ./client.jl:446",
      " [4] _import(modl::Module, api_pkg::Symbol, pkg::Symbol, doprint::Bool)",
      "   @ MLJModels ~/.julia/packages/MLJModels/E8BbE/src/loading.jl:34",
      " [5] top-level scope",
      "   @ ~/.julia/packages/MLJModels/E8BbE/src/loading.jl:206",
      " [6] eval",
      "   @ ./boot.jl:360 [inlined]",
      " [7] include_string(mapexpr::typeof(REPL.softscope), mod::Module, code::String, filename::String)",
      "   @ Base ./loading.jl:1094"
     ]
    }
   ],
   "source": [
    "knc = @load KNeighborsClassifier"
   ]
  },
  {
   "cell_type": "code",
   "execution_count": null,
   "id": "d7d96c8a",
   "metadata": {},
   "outputs": [],
   "source": []
  }
 ],
 "metadata": {
  "kernelspec": {
   "display_name": "Julia 1.6.0",
   "language": "julia",
   "name": "julia-1.6"
  },
  "language_info": {
   "file_extension": ".jl",
   "mimetype": "application/julia",
   "name": "julia",
   "version": "1.6.1"
  }
 },
 "nbformat": 4,
 "nbformat_minor": 5
}
