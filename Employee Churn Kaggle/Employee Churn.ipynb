{
 "cells": [
  {
   "cell_type": "code",
   "execution_count": 253,
   "metadata": {},
   "outputs": [],
   "source": [
    "import pandas as pd\n",
    "import numpy as np\n",
    "import multiprocessing as mp\n",
    "\n",
    "from sklearn.model_selection import GridSearchCV\n",
    "from sklearn.model_selection import train_test_split\n",
    "\n",
    "from sklearn.preprocessing import MinMaxScaler\n",
    "from sklearn.preprocessing import StandardScaler\n",
    "\n",
    "from sklearn.metrics import classification_report, confusion_matrix\n",
    "\n",
    "from sklearn.preprocessing import LabelEncoder\n",
    "from sklearn.impute import KNNImputer\n",
    "from sklearn.model_selection import StratifiedKFold"
   ]
  },
  {
   "cell_type": "code",
   "execution_count": 254,
   "metadata": {},
   "outputs": [],
   "source": [
    "from sklearn.neighbors import KNeighborsClassifier\n",
    "from sklearn.naive_bayes import CategoricalNB\n",
    "from sklearn.naive_bayes import GaussianNB\n",
    "from copy import deepcopy\n",
    "import pickle"
   ]
  },
  {
   "cell_type": "markdown",
   "metadata": {},
   "source": [
    "# Preprocessing"
   ]
  },
  {
   "cell_type": "code",
   "execution_count": 294,
   "metadata": {},
   "outputs": [],
   "source": [
    "data=pd.read_csv(\"train.csv\")\n",
    "test=pd.read_csv(\"test.csv\")"
   ]
  },
  {
   "cell_type": "code",
   "execution_count": 295,
   "metadata": {},
   "outputs": [],
   "source": [
    "lel=LabelEncoder()\n",
    "lel.fit(data[\"Churn_risk\"])\n",
    "data[\"Churn_risk\"]=lel.transform(data[\"Churn_risk\"])\n",
    "\n",
    "\n",
    "le=LabelEncoder()\n",
    "le.fit(data[\"Gender\"])\n",
    "data[\"Gender\"]=le.transform(data[\"Gender\"])\n",
    "test[\"Gender\"]=le.transform(test[\"Gender\"])\n",
    "\n",
    "le=LabelEncoder()\n",
    "le.fit(data[\"Marital_status\"])\n",
    "data[\"Marital_status\"]=le.transform(data[\"Marital_status\"])\n",
    "test[\"Marital_status\"]=le.transform(test[\"Marital_status\"])\n",
    "\n",
    "le=LabelEncoder()\n",
    "le.fit(data[\"Department\"])\n",
    "data[\"Department\"]=le.transform(data[\"Department\"])\n",
    "test[\"Department\"]=le.transform(test[\"Department\"])\n"
   ]
  },
  {
   "cell_type": "code",
   "execution_count": 296,
   "metadata": {},
   "outputs": [],
   "source": [
    "data.dropna(inplace=True)"
   ]
  },
  {
   "cell_type": "code",
   "execution_count": 297,
   "metadata": {},
   "outputs": [],
   "source": [
    "y=data[\"Churn_risk\"]\n",
    "data.drop([\"Churn_risk\"],axis=1,inplace=True)"
   ]
  },
  {
   "cell_type": "code",
   "execution_count": 298,
   "metadata": {},
   "outputs": [],
   "source": [
    "imputer = KNNImputer(n_neighbors=105)\n",
    "imputer.fit(data)\n",
    "\n",
    "test = pd.DataFrame(imputer.transform(test))\n",
    "test.columns=data.columns\n",
    "data = pd.DataFrame(imputer.transform(data))\n",
    "data.columns=test.columns\n"
   ]
  },
  {
   "cell_type": "markdown",
   "metadata": {},
   "source": [
    "Scale Data"
   ]
  },
  {
   "cell_type": "code",
   "execution_count": 299,
   "metadata": {},
   "outputs": [],
   "source": [
    "scaler=MinMaxScaler()\n",
    "#scaler=StandardScaler()\n",
    "data.iloc[:,1:]=scaler.fit_transform(data.iloc[:,1:])\n",
    "test.iloc[:,1:]=scaler.transform(test.iloc[:,1:])"
   ]
  },
  {
   "cell_type": "code",
   "execution_count": 300,
   "metadata": {},
   "outputs": [],
   "source": [
    "\n",
    "data.set_index(\"Employee_ID\",inplace=True)\n",
    "test.set_index(\"Employee_ID\",inplace=True)"
   ]
  },
  {
   "cell_type": "markdown",
   "metadata": {},
   "source": [
    "# Search"
   ]
  },
  {
   "cell_type": "markdown",
   "metadata": {},
   "source": [
    "# Drop Columns"
   ]
  },
  {
   "cell_type": "code",
   "execution_count": 55,
   "metadata": {},
   "outputs": [],
   "source": [
    "# def sing(row1):\n",
    "#     X=deepcopy(data.drop([row1],axis=1))\n",
    "#     modelKNN = KNeighborsClassifier(algorithm='auto',leaf_size=50,n_neighbors=27,p=1,weights='distance')\n",
    "#     d=[]\n",
    "    \n",
    "#     skf = StratifiedKFold(n_splits=10, shuffle=True, random_state=1)\n",
    "#     avgs=[]\n",
    "#     for train_index, test_index in skf.split(X, y):\n",
    "        \n",
    "#         X_train, X_test = X.iloc[train_index,:], X.iloc[test_index,:]\n",
    "#         y_train, y_test = y.iloc[train_index], y.iloc[test_index]\n",
    "#         modelKNN.fit(X = X_train, y = y_train)\n",
    "#         avgs.append(modelKNN.score(X_test, y_test))\n",
    "#     averg=sum(avgs)/len(avgs)\n",
    "    \n",
    "#     stdd=0\n",
    "#     for i in avgs:\n",
    "#         stdd+=(i-averg)**2\n",
    "#     stddd=(stdd/len(avgs))**0.5\n",
    "#     d.append((row1,averg,stddd))\n",
    "#     return d   \n",
    "\n",
    "# def single():\n",
    "#     pool=mp.Pool(processes=8) \n",
    "#     row1=['Gender', 'Age', 'Days_off', 'Rotations', 'Satis_leader', 'Satis_team',\n",
    "#       'Emails', 'Tenure', 'Bonus', 'Distance', 'Kids', 'Overtime',\n",
    "#       'Marital_status', 'Department']\n",
    "\n",
    "#     a=pool.map(sing,row1)\n",
    "#     pool.close()\n",
    "#     dd=[]\n",
    "#     for i in a:\n",
    "#         dd+=i\n",
    "#     s=pd.DataFrame(dd)\n",
    "#     s.columns=[\"Dropped\",\"Mean\",\"std\"]\n",
    "#     return s"
   ]
  },
  {
   "cell_type": "code",
   "execution_count": 56,
   "metadata": {},
   "outputs": [],
   "source": [
    "# single_df=single()"
   ]
  },
  {
   "cell_type": "code",
   "execution_count": 76,
   "metadata": {},
   "outputs": [],
   "source": [
    "# single_df.to_pickle(\"single.pkl\")"
   ]
  },
  {
   "cell_type": "code",
   "execution_count": 77,
   "metadata": {},
   "outputs": [],
   "source": [
    "single_df=pd.read_pickle(\"single.pkl\")"
   ]
  },
  {
   "cell_type": "code",
   "execution_count": 60,
   "metadata": {},
   "outputs": [
    {
     "data": {
      "text/html": [
       "<div>\n",
       "<style scoped>\n",
       "    .dataframe tbody tr th:only-of-type {\n",
       "        vertical-align: middle;\n",
       "    }\n",
       "\n",
       "    .dataframe tbody tr th {\n",
       "        vertical-align: top;\n",
       "    }\n",
       "\n",
       "    .dataframe thead th {\n",
       "        text-align: right;\n",
       "    }\n",
       "</style>\n",
       "<table border=\"1\" class=\"dataframe\">\n",
       "  <thead>\n",
       "    <tr style=\"text-align: right;\">\n",
       "      <th></th>\n",
       "      <th>Dropped</th>\n",
       "      <th>Mean</th>\n",
       "      <th>std</th>\n",
       "    </tr>\n",
       "  </thead>\n",
       "  <tbody>\n",
       "    <tr>\n",
       "      <th>0</th>\n",
       "      <td>Gender</td>\n",
       "      <td>0.731283</td>\n",
       "      <td>0.010280</td>\n",
       "    </tr>\n",
       "    <tr>\n",
       "      <th>1</th>\n",
       "      <td>Age</td>\n",
       "      <td>0.727026</td>\n",
       "      <td>0.013744</td>\n",
       "    </tr>\n",
       "    <tr>\n",
       "      <th>2</th>\n",
       "      <td>Days_off</td>\n",
       "      <td>0.713291</td>\n",
       "      <td>0.009445</td>\n",
       "    </tr>\n",
       "    <tr>\n",
       "      <th>3</th>\n",
       "      <td>Rotations</td>\n",
       "      <td>0.724708</td>\n",
       "      <td>0.014760</td>\n",
       "    </tr>\n",
       "    <tr>\n",
       "      <th>4</th>\n",
       "      <td>Satis_leader</td>\n",
       "      <td>0.724512</td>\n",
       "      <td>0.009588</td>\n",
       "    </tr>\n",
       "    <tr>\n",
       "      <th>5</th>\n",
       "      <td>Satis_team</td>\n",
       "      <td>0.724514</td>\n",
       "      <td>0.012119</td>\n",
       "    </tr>\n",
       "    <tr>\n",
       "      <th>6</th>\n",
       "      <td>Emails</td>\n",
       "      <td>0.726835</td>\n",
       "      <td>0.008193</td>\n",
       "    </tr>\n",
       "    <tr>\n",
       "      <th>7</th>\n",
       "      <td>Tenure</td>\n",
       "      <td>0.724708</td>\n",
       "      <td>0.009659</td>\n",
       "    </tr>\n",
       "    <tr>\n",
       "      <th>8</th>\n",
       "      <td>Bonus</td>\n",
       "      <td>0.723933</td>\n",
       "      <td>0.013114</td>\n",
       "    </tr>\n",
       "    <tr>\n",
       "      <th>9</th>\n",
       "      <td>Distance</td>\n",
       "      <td>0.731865</td>\n",
       "      <td>0.012018</td>\n",
       "    </tr>\n",
       "    <tr>\n",
       "      <th>10</th>\n",
       "      <td>Kids</td>\n",
       "      <td>0.729932</td>\n",
       "      <td>0.013085</td>\n",
       "    </tr>\n",
       "    <tr>\n",
       "      <th>12</th>\n",
       "      <td>Marital_status</td>\n",
       "      <td>0.729928</td>\n",
       "      <td>0.013157</td>\n",
       "    </tr>\n",
       "    <tr>\n",
       "      <th>13</th>\n",
       "      <td>Department</td>\n",
       "      <td>0.789904</td>\n",
       "      <td>0.013675</td>\n",
       "    </tr>\n",
       "  </tbody>\n",
       "</table>\n",
       "</div>"
      ],
      "text/plain": [
       "           Dropped      Mean       std\n",
       "0           Gender  0.731283  0.010280\n",
       "1              Age  0.727026  0.013744\n",
       "2         Days_off  0.713291  0.009445\n",
       "3        Rotations  0.724708  0.014760\n",
       "4     Satis_leader  0.724512  0.009588\n",
       "5       Satis_team  0.724514  0.012119\n",
       "6           Emails  0.726835  0.008193\n",
       "7           Tenure  0.724708  0.009659\n",
       "8            Bonus  0.723933  0.013114\n",
       "9         Distance  0.731865  0.012018\n",
       "10            Kids  0.729932  0.013085\n",
       "12  Marital_status  0.729928  0.013157\n",
       "13      Department  0.789904  0.013675"
      ]
     },
     "execution_count": 60,
     "metadata": {},
     "output_type": "execute_result"
    }
   ],
   "source": [
    "single_df.loc[single_df['Mean']>0.7,:]"
   ]
  },
  {
   "cell_type": "code",
   "execution_count": null,
   "metadata": {},
   "outputs": [],
   "source": []
  },
  {
   "cell_type": "code",
   "execution_count": 66,
   "metadata": {},
   "outputs": [],
   "source": [
    "# def doub(row1):\n",
    "    \n",
    "#     modelKNN = KNeighborsClassifier(algorithm='auto',leaf_size=50,n_neighbors=27,p=1,weights='distance')\n",
    "#     d=[]\n",
    "#     for j in data.columns:\n",
    "#         if row1!=j:\n",
    "#             X=deepcopy(data.drop([row1,j],axis=1))\n",
    "#             skf = StratifiedKFold(n_splits=10, shuffle=True, random_state=1)\n",
    "#             avgs=[]\n",
    "#             for train_index, test_index in skf.split(X, y):\n",
    "\n",
    "#                 X_train, X_test = X.iloc[train_index,:], X.iloc[test_index,:]\n",
    "#                 y_train, y_test = y.iloc[train_index], y.iloc[test_index]\n",
    "#                 modelKNN.fit(X = X_train, y = y_train)\n",
    "#                 avgs.append(modelKNN.score(X_test, y_test))\n",
    "#             averg=sum(avgs)/len(avgs)\n",
    "\n",
    "#             stdd=0\n",
    "#             for i in avgs:\n",
    "#                 stdd+=(i-averg)**2\n",
    "#             stddd=(stdd/len(avgs))**0.5\n",
    "#             d.append((row1,j,averg,stddd))\n",
    "#     return d   \n",
    "\n",
    "# def double():\n",
    "#     pool=mp.Pool(processes=8) \n",
    "#     row1=['Gender', 'Age', 'Days_off', 'Rotations', 'Satis_leader', 'Satis_team',\n",
    "#       'Emails', 'Tenure', 'Bonus', 'Distance', 'Kids', 'Overtime',\n",
    "#       'Marital_status', 'Department']\n",
    "\n",
    "#     a=pool.map(doub,row1)\n",
    "#     pool.close()\n",
    "#     dd=[]\n",
    "#     for i in a:\n",
    "#         dd+=i\n",
    "#     s=pd.DataFrame(dd)\n",
    "#     s.columns=[\"Dropped\",\"Dropped\",\"Mean\",\"std\"]\n",
    "#     return s"
   ]
  },
  {
   "cell_type": "code",
   "execution_count": 186,
   "metadata": {},
   "outputs": [],
   "source": [
    "# double_df=double()"
   ]
  },
  {
   "cell_type": "code",
   "execution_count": 78,
   "metadata": {},
   "outputs": [],
   "source": [
    "# double_df.to_pickle(\"double.pkl\")"
   ]
  },
  {
   "cell_type": "code",
   "execution_count": 79,
   "metadata": {},
   "outputs": [],
   "source": [
    "double_df=pd.read_pickle(\"double.pkl\")"
   ]
  },
  {
   "cell_type": "code",
   "execution_count": 69,
   "metadata": {},
   "outputs": [
    {
     "data": {
      "text/html": [
       "<div>\n",
       "<style scoped>\n",
       "    .dataframe tbody tr th:only-of-type {\n",
       "        vertical-align: middle;\n",
       "    }\n",
       "\n",
       "    .dataframe tbody tr th {\n",
       "        vertical-align: top;\n",
       "    }\n",
       "\n",
       "    .dataframe thead th {\n",
       "        text-align: right;\n",
       "    }\n",
       "</style>\n",
       "<table border=\"1\" class=\"dataframe\">\n",
       "  <thead>\n",
       "    <tr style=\"text-align: right;\">\n",
       "      <th></th>\n",
       "      <th>Dropped</th>\n",
       "      <th>Dropped</th>\n",
       "      <th>Mean</th>\n",
       "      <th>std</th>\n",
       "    </tr>\n",
       "  </thead>\n",
       "  <tbody>\n",
       "    <tr>\n",
       "      <th>12</th>\n",
       "      <td>Gender</td>\n",
       "      <td>Department</td>\n",
       "      <td>0.792613</td>\n",
       "      <td>0.014813</td>\n",
       "    </tr>\n",
       "    <tr>\n",
       "      <th>25</th>\n",
       "      <td>Age</td>\n",
       "      <td>Department</td>\n",
       "      <td>0.791646</td>\n",
       "      <td>0.015959</td>\n",
       "    </tr>\n",
       "    <tr>\n",
       "      <th>129</th>\n",
       "      <td>Distance</td>\n",
       "      <td>Department</td>\n",
       "      <td>0.793969</td>\n",
       "      <td>0.014806</td>\n",
       "    </tr>\n",
       "    <tr>\n",
       "      <th>142</th>\n",
       "      <td>Kids</td>\n",
       "      <td>Department</td>\n",
       "      <td>0.794935</td>\n",
       "      <td>0.015646</td>\n",
       "    </tr>\n",
       "    <tr>\n",
       "      <th>168</th>\n",
       "      <td>Marital_status</td>\n",
       "      <td>Department</td>\n",
       "      <td>0.791838</td>\n",
       "      <td>0.013007</td>\n",
       "    </tr>\n",
       "    <tr>\n",
       "      <th>169</th>\n",
       "      <td>Department</td>\n",
       "      <td>Gender</td>\n",
       "      <td>0.792613</td>\n",
       "      <td>0.014813</td>\n",
       "    </tr>\n",
       "    <tr>\n",
       "      <th>170</th>\n",
       "      <td>Department</td>\n",
       "      <td>Age</td>\n",
       "      <td>0.791646</td>\n",
       "      <td>0.015959</td>\n",
       "    </tr>\n",
       "    <tr>\n",
       "      <th>178</th>\n",
       "      <td>Department</td>\n",
       "      <td>Distance</td>\n",
       "      <td>0.793969</td>\n",
       "      <td>0.014806</td>\n",
       "    </tr>\n",
       "    <tr>\n",
       "      <th>179</th>\n",
       "      <td>Department</td>\n",
       "      <td>Kids</td>\n",
       "      <td>0.794935</td>\n",
       "      <td>0.015646</td>\n",
       "    </tr>\n",
       "    <tr>\n",
       "      <th>181</th>\n",
       "      <td>Department</td>\n",
       "      <td>Marital_status</td>\n",
       "      <td>0.791838</td>\n",
       "      <td>0.013007</td>\n",
       "    </tr>\n",
       "  </tbody>\n",
       "</table>\n",
       "</div>"
      ],
      "text/plain": [
       "            Dropped         Dropped      Mean       std\n",
       "12           Gender      Department  0.792613  0.014813\n",
       "25              Age      Department  0.791646  0.015959\n",
       "129        Distance      Department  0.793969  0.014806\n",
       "142            Kids      Department  0.794935  0.015646\n",
       "168  Marital_status      Department  0.791838  0.013007\n",
       "169      Department          Gender  0.792613  0.014813\n",
       "170      Department             Age  0.791646  0.015959\n",
       "178      Department        Distance  0.793969  0.014806\n",
       "179      Department            Kids  0.794935  0.015646\n",
       "181      Department  Marital_status  0.791838  0.013007"
      ]
     },
     "execution_count": 69,
     "metadata": {},
     "output_type": "execute_result"
    }
   ],
   "source": [
    "double_df.loc[double_df[\"Mean\"]>0.79,:]"
   ]
  },
  {
   "cell_type": "code",
   "execution_count": 189,
   "metadata": {},
   "outputs": [],
   "source": [
    "# def trip(row1):\n",
    "#     modelKNN = KNeighborsClassifier(algorithm='auto',leaf_size=50,n_neighbors=27,p=1,weights='distance')\n",
    "#     d=[]\n",
    "#     for i in data.columns:\n",
    "#         for j in data.columns:\n",
    "#             if row1!=j and j!=i and row1!=i:\n",
    "#                 X=deepcopy(data.drop([row1,j,i],axis=1))\n",
    "#                 skf = StratifiedKFold(n_splits=10, shuffle=True, random_state=1)\n",
    "#                 avgs=[]\n",
    "#                 for train_index, test_index in skf.split(X, y):\n",
    "\n",
    "#                     X_train, X_test = X.iloc[train_index,:], X.iloc[test_index,:]\n",
    "#                     y_train, y_test = y.iloc[train_index], y.iloc[test_index]\n",
    "#                     modelKNN.fit(X = X_train, y = y_train)\n",
    "#                     avgs.append(modelKNN.score(X_test, y_test))\n",
    "#                 averg=sum(avgs)/len(avgs)\n",
    "\n",
    "#                 stdd=0\n",
    "#                 for b in avgs:\n",
    "#                     stdd+=(b-averg)**2\n",
    "#                 stddd=(stdd/len(avgs))**0.5\n",
    "#                 d.append((row1,i,j,averg,stddd))\n",
    "#     return d   \n",
    "\n",
    "# def triple():\n",
    "#     pool=mp.Pool(processes=8) \n",
    "#     row1=['Gender', 'Age', 'Days_off', 'Rotations', 'Satis_leader', 'Satis_team',\n",
    "#       'Emails', 'Tenure', 'Bonus', 'Distance', 'Kids', 'Overtime',\n",
    "#       'Marital_status', 'Department']\n",
    "\n",
    "#     a=pool.map(trip,row1)\n",
    "#     pool.close()\n",
    "#     dd=[]\n",
    "#     for i in a:\n",
    "#         dd+=i\n",
    "#     s=pd.DataFrame(dd)\n",
    "#     s.columns=[\"Dropped\",\"Dropped\",\"Dropped\",\"Mean\",\"std\"]\n",
    "#     return s"
   ]
  },
  {
   "cell_type": "code",
   "execution_count": 273,
   "metadata": {},
   "outputs": [],
   "source": [
    "# triple_df=triple()"
   ]
  },
  {
   "cell_type": "code",
   "execution_count": 96,
   "metadata": {},
   "outputs": [],
   "source": [
    "# triple_df.to_pickle(\"triple.pkl\")"
   ]
  },
  {
   "cell_type": "code",
   "execution_count": 100,
   "metadata": {},
   "outputs": [],
   "source": [
    "triple_df=pd.read_pickle(\"triple.pkl\")"
   ]
  },
  {
   "cell_type": "code",
   "execution_count": 105,
   "metadata": {},
   "outputs": [
    {
     "data": {
      "text/html": [
       "<div>\n",
       "<style scoped>\n",
       "    .dataframe tbody tr th:only-of-type {\n",
       "        vertical-align: middle;\n",
       "    }\n",
       "\n",
       "    .dataframe tbody tr th {\n",
       "        vertical-align: top;\n",
       "    }\n",
       "\n",
       "    .dataframe thead th {\n",
       "        text-align: right;\n",
       "    }\n",
       "</style>\n",
       "<table border=\"1\" class=\"dataframe\">\n",
       "  <thead>\n",
       "    <tr style=\"text-align: right;\">\n",
       "      <th></th>\n",
       "      <th>Dropped</th>\n",
       "      <th>Dropped</th>\n",
       "      <th>Dropped</th>\n",
       "      <th>Mean</th>\n",
       "      <th>std</th>\n",
       "    </tr>\n",
       "  </thead>\n",
       "  <tbody>\n",
       "    <tr>\n",
       "      <th>1547</th>\n",
       "      <td>Distance</td>\n",
       "      <td>Marital_status</td>\n",
       "      <td>Department</td>\n",
       "      <td>0.799191</td>\n",
       "      <td>0.0146</td>\n",
       "    </tr>\n",
       "    <tr>\n",
       "      <th>1559</th>\n",
       "      <td>Distance</td>\n",
       "      <td>Department</td>\n",
       "      <td>Marital_status</td>\n",
       "      <td>0.799191</td>\n",
       "      <td>0.0146</td>\n",
       "    </tr>\n",
       "    <tr>\n",
       "      <th>1991</th>\n",
       "      <td>Marital_status</td>\n",
       "      <td>Distance</td>\n",
       "      <td>Department</td>\n",
       "      <td>0.799191</td>\n",
       "      <td>0.0146</td>\n",
       "    </tr>\n",
       "    <tr>\n",
       "      <th>2025</th>\n",
       "      <td>Marital_status</td>\n",
       "      <td>Department</td>\n",
       "      <td>Distance</td>\n",
       "      <td>0.799191</td>\n",
       "      <td>0.0146</td>\n",
       "    </tr>\n",
       "    <tr>\n",
       "      <th>2147</th>\n",
       "      <td>Department</td>\n",
       "      <td>Distance</td>\n",
       "      <td>Marital_status</td>\n",
       "      <td>0.799191</td>\n",
       "      <td>0.0146</td>\n",
       "    </tr>\n",
       "    <tr>\n",
       "      <th>2181</th>\n",
       "      <td>Department</td>\n",
       "      <td>Marital_status</td>\n",
       "      <td>Distance</td>\n",
       "      <td>0.799191</td>\n",
       "      <td>0.0146</td>\n",
       "    </tr>\n",
       "  </tbody>\n",
       "</table>\n",
       "</div>"
      ],
      "text/plain": [
       "             Dropped         Dropped         Dropped      Mean     std\n",
       "1547        Distance  Marital_status      Department  0.799191  0.0146\n",
       "1559        Distance      Department  Marital_status  0.799191  0.0146\n",
       "1991  Marital_status        Distance      Department  0.799191  0.0146\n",
       "2025  Marital_status      Department        Distance  0.799191  0.0146\n",
       "2147      Department        Distance  Marital_status  0.799191  0.0146\n",
       "2181      Department  Marital_status        Distance  0.799191  0.0146"
      ]
     },
     "execution_count": 105,
     "metadata": {},
     "output_type": "execute_result"
    }
   ],
   "source": [
    "triple_df.loc[triple_df[\"Mean\"]>0.799,:]"
   ]
  },
  {
   "cell_type": "code",
   "execution_count": 103,
   "metadata": {},
   "outputs": [],
   "source": [
    "# def quad(row1):\n",
    "#     d=[]\n",
    "#     for i in data.columns:\n",
    "#         for j in data.columns:\n",
    "#             for k in data.columns:\n",
    "#                 if row1!=j and j!=i and row1!=i and row1!=k and i!=k and j!=k:\n",
    "#                     X_train, X_val, y_train, y_val = train_test_split(data.drop([i,j,k,row1],axis=1), y, test_size=0.1, stratify = y, random_state=22)\n",
    "#                     modelKNN = KNeighborsClassifier(algorithm='auto',leaf_size=50,n_neighbors=27,p=1,weights='distance')\n",
    "#                     modelKNN.fit(X = X_train, y = y_train)\n",
    "#                     modelNB = GaussianNB()\n",
    "#                     modelNB.fit(X = X_train, y = y_train)\n",
    "\n",
    "#                     d.append((i,j,k,row1,modelKNN.score(X_val, y_val),modelNB.score(X_val, y_val)))\n",
    "#     return d   \n",
    "\n",
    "# def quadra():\n",
    "#     pool=mp.Pool(processes=8) \n",
    "#     row1=['Gender', 'Age', 'Days_off', 'Rotations', 'Satis_leader', 'Satis_team',\n",
    "#        'Emails', 'Tenure', 'Bonus', 'Distance', 'Kids', 'Overtime',\n",
    "#        'Marital_status', 'Department']\n",
    "#     a=pool.map(quad,row1)\n",
    "#     pool.close()\n",
    "#     dd=[]\n",
    "#     for i in a:\n",
    "#         dd+=i\n",
    "#     return pd.DataFrame(dd)"
   ]
  },
  {
   "cell_type": "code",
   "execution_count": 106,
   "metadata": {},
   "outputs": [],
   "source": [
    "#quad_df=quadra()"
   ]
  },
  {
   "cell_type": "code",
   "execution_count": 107,
   "metadata": {},
   "outputs": [],
   "source": [
    "#quad_df.to_pickle(\"quad.pkl\")"
   ]
  },
  {
   "cell_type": "code",
   "execution_count": 108,
   "metadata": {},
   "outputs": [],
   "source": [
    "quad_df=pd.read_pickle(\"quad.pkl\")"
   ]
  },
  {
   "cell_type": "code",
   "execution_count": 111,
   "metadata": {},
   "outputs": [
    {
     "data": {
      "text/html": [
       "<div>\n",
       "<style scoped>\n",
       "    .dataframe tbody tr th:only-of-type {\n",
       "        vertical-align: middle;\n",
       "    }\n",
       "\n",
       "    .dataframe tbody tr th {\n",
       "        vertical-align: top;\n",
       "    }\n",
       "\n",
       "    .dataframe thead th {\n",
       "        text-align: right;\n",
       "    }\n",
       "</style>\n",
       "<table border=\"1\" class=\"dataframe\">\n",
       "  <thead>\n",
       "    <tr style=\"text-align: right;\">\n",
       "      <th></th>\n",
       "      <th>Dropped</th>\n",
       "      <th>Dropped</th>\n",
       "      <th>Dropped</th>\n",
       "      <th>Dropped</th>\n",
       "      <th>Mean</th>\n",
       "      <th>std</th>\n",
       "    </tr>\n",
       "  </thead>\n",
       "  <tbody>\n",
       "    <tr>\n",
       "      <th>1176</th>\n",
       "      <td>Distance</td>\n",
       "      <td>Gender</td>\n",
       "      <td>Marital_status</td>\n",
       "      <td>Department</td>\n",
       "      <td>0.80016</td>\n",
       "      <td>0.015988</td>\n",
       "    </tr>\n",
       "    <tr>\n",
       "      <th>1187</th>\n",
       "      <td>Distance</td>\n",
       "      <td>Gender</td>\n",
       "      <td>Department</td>\n",
       "      <td>Marital_status</td>\n",
       "      <td>0.80016</td>\n",
       "      <td>0.015988</td>\n",
       "    </tr>\n",
       "    <tr>\n",
       "      <th>1550</th>\n",
       "      <td>Marital_status</td>\n",
       "      <td>Gender</td>\n",
       "      <td>Distance</td>\n",
       "      <td>Department</td>\n",
       "      <td>0.80016</td>\n",
       "      <td>0.015988</td>\n",
       "    </tr>\n",
       "    <tr>\n",
       "      <th>1581</th>\n",
       "      <td>Marital_status</td>\n",
       "      <td>Gender</td>\n",
       "      <td>Department</td>\n",
       "      <td>Distance</td>\n",
       "      <td>0.80016</td>\n",
       "      <td>0.015988</td>\n",
       "    </tr>\n",
       "    <tr>\n",
       "      <th>1682</th>\n",
       "      <td>Department</td>\n",
       "      <td>Gender</td>\n",
       "      <td>Distance</td>\n",
       "      <td>Marital_status</td>\n",
       "      <td>0.80016</td>\n",
       "      <td>0.015988</td>\n",
       "    </tr>\n",
       "    <tr>\n",
       "      <th>1713</th>\n",
       "      <td>Department</td>\n",
       "      <td>Gender</td>\n",
       "      <td>Marital_status</td>\n",
       "      <td>Distance</td>\n",
       "      <td>0.80016</td>\n",
       "      <td>0.015988</td>\n",
       "    </tr>\n",
       "  </tbody>\n",
       "</table>\n",
       "</div>"
      ],
      "text/plain": [
       "             Dropped Dropped         Dropped         Dropped     Mean  \\\n",
       "1176        Distance  Gender  Marital_status      Department  0.80016   \n",
       "1187        Distance  Gender      Department  Marital_status  0.80016   \n",
       "1550  Marital_status  Gender        Distance      Department  0.80016   \n",
       "1581  Marital_status  Gender      Department        Distance  0.80016   \n",
       "1682      Department  Gender        Distance  Marital_status  0.80016   \n",
       "1713      Department  Gender  Marital_status        Distance  0.80016   \n",
       "\n",
       "           std  \n",
       "1176  0.015988  \n",
       "1187  0.015988  \n",
       "1550  0.015988  \n",
       "1581  0.015988  \n",
       "1682  0.015988  \n",
       "1713  0.015988  "
      ]
     },
     "execution_count": 111,
     "metadata": {},
     "output_type": "execute_result"
    }
   ],
   "source": [
    "quad_df.loc[quad_df[\"Mean\"]>0.8,:]"
   ]
  },
  {
   "cell_type": "code",
   "execution_count": null,
   "metadata": {},
   "outputs": [],
   "source": []
  },
  {
   "cell_type": "markdown",
   "metadata": {},
   "source": [
    "# KNN"
   ]
  },
  {
   "cell_type": "code",
   "execution_count": 138,
   "metadata": {},
   "outputs": [],
   "source": [
    "to_drop=[\"Department\",\"Rotations\",\"Marital_status\",\"Kids\",\"Gender\",\"Bonus\",\"Distance\"]"
   ]
  },
  {
   "cell_type": "code",
   "execution_count": 140,
   "metadata": {},
   "outputs": [],
   "source": [
    "X_train, X_val, y_train, y_val = train_test_split(data.drop(to_drop,axis=1), y, test_size=0.1, stratify = y, random_state=12)\n"
   ]
  },
  {
   "cell_type": "code",
   "execution_count": 141,
   "metadata": {},
   "outputs": [
    {
     "data": {
      "text/plain": [
       "KNeighborsClassifier(algorithm='auto', leaf_size=50, metric='minkowski',\n",
       "                     metric_params=None, n_jobs=None, n_neighbors=105, p=1,\n",
       "                     weights='distance')"
      ]
     },
     "execution_count": 141,
     "metadata": {},
     "output_type": "execute_result"
    }
   ],
   "source": [
    "modelKNN = KNeighborsClassifier(algorithm='auto',leaf_size=50,n_neighbors=105,p=1,weights='distance')\n",
    "modelKNN.fit(X = X_train, y = y_train)"
   ]
  },
  {
   "cell_type": "code",
   "execution_count": 142,
   "metadata": {},
   "outputs": [],
   "source": [
    "# modelKNN.predict_proba(X_val)"
   ]
  },
  {
   "cell_type": "code",
   "execution_count": 143,
   "metadata": {},
   "outputs": [],
   "source": [
    "labels_train = modelKNN.predict(X_train)\n",
    "labels_val = modelKNN.predict(X_val)"
   ]
  },
  {
   "cell_type": "code",
   "execution_count": 144,
   "metadata": {},
   "outputs": [
    {
     "data": {
      "text/plain": [
       "1.0"
      ]
     },
     "execution_count": 144,
     "metadata": {},
     "output_type": "execute_result"
    }
   ],
   "source": [
    "modelKNN.score(X_train, y_train)\n"
   ]
  },
  {
   "cell_type": "code",
   "execution_count": 145,
   "metadata": {},
   "outputs": [
    {
     "data": {
      "text/plain": [
       "0.7911025145067698"
      ]
     },
     "execution_count": 145,
     "metadata": {},
     "output_type": "execute_result"
    }
   ],
   "source": [
    "modelKNN.score(X_val, y_val)"
   ]
  },
  {
   "cell_type": "markdown",
   "metadata": {},
   "source": [
    "## Final"
   ]
  },
  {
   "cell_type": "code",
   "execution_count": 357,
   "metadata": {},
   "outputs": [],
   "source": [
    "to_drop=[\"Department\",\"Rotations\",\"Marital_status\",\"Kids\",\"Bonus\",\"Distance\",\"Age\"]\n",
    "\n"
   ]
  },
  {
   "cell_type": "code",
   "execution_count": 358,
   "metadata": {},
   "outputs": [
    {
     "data": {
      "text/plain": [
       "KNeighborsClassifier(algorithm='auto', leaf_size=80, metric='minkowski',\n",
       "                     metric_params=None, n_jobs=None, n_neighbors=105, p=1,\n",
       "                     weights='distance')"
      ]
     },
     "execution_count": 358,
     "metadata": {},
     "output_type": "execute_result"
    }
   ],
   "source": [
    "modelKNN = KNeighborsClassifier(algorithm='auto',leaf_size=80,n_neighbors=105,p=1,weights='distance')\n",
    "modelKNN.fit(X = data.drop(to_drop,axis=1), y = y)"
   ]
  },
  {
   "cell_type": "code",
   "execution_count": 359,
   "metadata": {},
   "outputs": [
    {
     "name": "stderr",
     "output_type": "stream",
     "text": [
      "//anaconda3/lib/python3.7/site-packages/sklearn/preprocessing/_label.py:289: DataConversionWarning: A column-vector y was passed when a 1d array was expected. Please change the shape of y to (n_samples, ), for example using ravel().\n",
      "  y = column_or_1d(y, warn=True)\n"
     ]
    }
   ],
   "source": [
    "Guests=pd.DataFrame(test.index)\n",
    "Guests=Guests.astype('int64')\n",
    "fina=pd.DataFrame(modelKNN.predict(test.drop(to_drop,axis=1)))\n",
    "fina=pd.DataFrame(lel.inverse_transform(fina))\n",
    "fina.reset_index(inplace=True)\n",
    "fina.drop('index',inplace=True,axis=1)\n",
    "final=pd.concat([fina,Guests],axis=1)\n",
    "final.set_index('Employee_ID',inplace=True)\n",
    "final.rename(columns={0:\"Churn_risk\"},inplace=True)"
   ]
  },
  {
   "cell_type": "code",
   "execution_count": 360,
   "metadata": {},
   "outputs": [],
   "source": [
    "final.to_csv(\"versions/m20190546_kV.csv\")"
   ]
  },
  {
   "cell_type": "markdown",
   "metadata": {},
   "source": [
    "# Grid KNN"
   ]
  },
  {
   "cell_type": "code",
   "execution_count": 192,
   "metadata": {},
   "outputs": [],
   "source": [
    "parameter_space = {\n",
    "'algorithm':['auto'], \n",
    "    'leaf_size':[80], # makes no difference\n",
    "    'n_neighbors':[105],\n",
    "    'p':[1],     # 1 definitely the best  \n",
    "    'weights':['distance']\n",
    "}"
   ]
  },
  {
   "cell_type": "code",
   "execution_count": 288,
   "metadata": {},
   "outputs": [],
   "source": [
    "model = KNeighborsClassifier()"
   ]
  },
  {
   "cell_type": "code",
   "execution_count": 289,
   "metadata": {},
   "outputs": [],
   "source": [
    "clf = GridSearchCV(model, parameter_space,n_jobs=8,verbose=5,cv=10,scoring='f1_micro')\n",
    "                   \n",
    "                   "
   ]
  },
  {
   "cell_type": "code",
   "execution_count": 274,
   "metadata": {},
   "outputs": [
    {
     "data": {
      "text/plain": [
       "Index(['Employee_ID', 'Gender', 'Age', 'Days_off', 'Rotations', 'Satis_leader',\n",
       "       'Satis_team', 'Emails', 'Tenure', 'Bonus', 'Distance', 'Kids',\n",
       "       'Overtime', 'Marital_status', 'Department'],\n",
       "      dtype='object')"
      ]
     },
     "execution_count": 274,
     "metadata": {},
     "output_type": "execute_result"
    }
   ],
   "source": [
    "data.columns"
   ]
  },
  {
   "cell_type": "code",
   "execution_count": null,
   "metadata": {},
   "outputs": [],
   "source": [
    ".792\n",
    " 'Age', .793\n",
    " 'Days_off', .777\n",
    "\n",
    " 'Satis_leader', .792\n",
    "'Satis_team', \n",
    " 'Emails', \n",
    " 'Tenure',\n",
    "'Overtime'"
   ]
  },
  {
   "cell_type": "code",
   "execution_count": 202,
   "metadata": {},
   "outputs": [],
   "source": [
    "# to_drop=[\"Department\",\"Rotations\",\"Marital_status\",\"Kids\",\"Gender\",\"Bonus\",\"Distance\"] BEST"
   ]
  },
  {
   "cell_type": "code",
   "execution_count": 351,
   "metadata": {},
   "outputs": [],
   "source": [
    "to_drop=[\"Department\",\"Rotations\",\"Marital_status\",\"Kids\",\"Bonus\",\"Distance\"]\n"
   ]
  },
  {
   "cell_type": "code",
   "execution_count": 352,
   "metadata": {},
   "outputs": [
    {
     "name": "stdout",
     "output_type": "stream",
     "text": [
      "Fitting 10 folds for each of 1 candidates, totalling 10 fits\n",
      "------------------------------------------------------------------------------------------------------------------------\n",
      "Best parameters found:\n",
      " {'algorithm': 'auto', 'leaf_size': 80, 'n_neighbors': 105, 'p': 1, 'weights': 'distance'}\n",
      "------------------------------------------------------------------------------------------------------------------------\n",
      "0.793 (+/-0.011) for {'algorithm': 'auto', 'leaf_size': 80, 'n_neighbors': 105, 'p': 1, 'weights': 'distance'}\n"
     ]
    },
    {
     "name": "stderr",
     "output_type": "stream",
     "text": [
      "[Parallel(n_jobs=8)]: Using backend LokyBackend with 8 concurrent workers.\n",
      "[Parallel(n_jobs=8)]: Done   4 out of  10 | elapsed:    0.1s remaining:    0.1s\n",
      "[Parallel(n_jobs=8)]: Done   7 out of  10 | elapsed:    0.1s remaining:    0.0s\n",
      "[Parallel(n_jobs=8)]: Done  10 out of  10 | elapsed:    0.1s remaining:    0.0s\n",
      "[Parallel(n_jobs=8)]: Done  10 out of  10 | elapsed:    0.1s finished\n"
     ]
    }
   ],
   "source": [
    "clf.fit(data.drop(to_drop,axis=1),y)\n",
    "# Best parameter set\n",
    "print('------------------------------------------------------------------------------------------------------------------------')\n",
    "print('Best parameters found:\\n', clf.best_params_)\n",
    "print('------------------------------------------------------------------------------------------------------------------------')\n",
    "\n",
    "# All results\n",
    "means = clf.cv_results_['mean_test_score']\n",
    "stds = clf.cv_results_['std_test_score']\n",
    "for mean, std, params in zip(means, stds, clf.cv_results_['params']):\n",
    "    if mean>0.0:\n",
    "        print(\"%0.3f (+/-%0.03f) for %r\" % (mean, std , params))"
   ]
  },
  {
   "cell_type": "code",
   "execution_count": null,
   "metadata": {},
   "outputs": [],
   "source": [
    "to_drop=[\"Department\",\"Rotations\",\"Marital_status\",\"Kids\",\"Bonus\",\"Distance\",\"Age\"]"
   ]
  },
  {
   "cell_type": "code",
   "execution_count": null,
   "metadata": {},
   "outputs": [],
   "source": [
    "to_drop=[\"Department\",\"Rotations\",\"Marital_status\",\"Kids\",\"Bonus\",\"Distance\"]\n",
    "\n"
   ]
  },
  {
   "cell_type": "code",
   "execution_count": null,
   "metadata": {},
   "outputs": [],
   "source": []
  },
  {
   "cell_type": "code",
   "execution_count": null,
   "metadata": {},
   "outputs": [],
   "source": []
  },
  {
   "cell_type": "code",
   "execution_count": null,
   "metadata": {},
   "outputs": [],
   "source": [
    "to_drop=[\"Department\",\"Rotations\",\"Kids\",\"Gender\",\"Bonus\",\"Distance\"] 0.791 v13"
   ]
  },
  {
   "cell_type": "code",
   "execution_count": null,
   "metadata": {},
   "outputs": [],
   "source": [
    "to_drop=[\"Department\",\"Marital_status\",\"Kids\",\"Gender\",\"Bonus\",\"Distance\"] 0.792 v14"
   ]
  },
  {
   "cell_type": "code",
   "execution_count": null,
   "metadata": {},
   "outputs": [],
   "source": [
    "to_drop=[\"Department\",\"Rotations\",\"Marital_status\",\"Gender\",\"Bonus\",\"Distance\"] 0.793 v15"
   ]
  },
  {
   "cell_type": "code",
   "execution_count": null,
   "metadata": {},
   "outputs": [],
   "source": [
    "to_drop=[\"Department\",\"Rotations\",\"Marital_status\",\"Kids\",\"Bonus\",\"Distance\"] 0.793 v16"
   ]
  },
  {
   "cell_type": "code",
   "execution_count": null,
   "metadata": {},
   "outputs": [],
   "source": [
    "to_drop=[\"Department\",\"Rotations\",\"Marital_status\",\"Kids\",\"Gender\",\"Bonus\"] 0.795 v17"
   ]
  },
  {
   "cell_type": "markdown",
   "metadata": {},
   "source": [
    "# *** Best KNN ***"
   ]
  },
  {
   "cell_type": "code",
   "execution_count": null,
   "metadata": {},
   "outputs": [],
   "source": [
    "to_drop=[\"Department\",\"Rotations\",\"Marital_status\",\"Kids\",\"Gender\",\"Bonus\",\"Distance\"]"
   ]
  },
  {
   "cell_type": "code",
   "execution_count": null,
   "metadata": {},
   "outputs": [],
   "source": [
    "modelKNN = KNeighborsClassifier(algorithm='auto',leaf_size=80,n_neighbors=105,p=1,weights='distance')\n",
    "modelKNN.fit(X = data.drop(to_drop,axis=1), y = y)\n",
    "\n"
   ]
  },
  {
   "cell_type": "markdown",
   "metadata": {},
   "source": [
    "using minmaxscaler"
   ]
  },
  {
   "cell_type": "code",
   "execution_count": null,
   "metadata": {},
   "outputs": [],
   "source": []
  },
  {
   "cell_type": "markdown",
   "metadata": {},
   "source": [
    "# ==========="
   ]
  },
  {
   "cell_type": "markdown",
   "metadata": {},
   "source": [
    "# Bayes"
   ]
  },
  {
   "cell_type": "code",
   "execution_count": 691,
   "metadata": {},
   "outputs": [],
   "source": [
    "modelNB = GaussianNB()"
   ]
  },
  {
   "cell_type": "code",
   "execution_count": 692,
   "metadata": {},
   "outputs": [],
   "source": [
    "X_train, X_val, y_train, y_val = train_test_split(data.drop([\"Satis_team\",\"Gender\",\"Bonus\",\n",
    "                                                             \"Marital_status\"],axis=1),\n",
    "    y, test_size=0.1, stratify = y, random_state=12)"
   ]
  },
  {
   "cell_type": "code",
   "execution_count": 693,
   "metadata": {},
   "outputs": [
    {
     "data": {
      "text/plain": [
       "GaussianNB(priors=None, var_smoothing=1e-09)"
      ]
     },
     "execution_count": 693,
     "metadata": {},
     "output_type": "execute_result"
    }
   ],
   "source": [
    "modelNB.fit(X = X_train, y = y_train)"
   ]
  },
  {
   "cell_type": "code",
   "execution_count": 694,
   "metadata": {},
   "outputs": [
    {
     "data": {
      "text/plain": [
       "0.6706792777300086"
      ]
     },
     "execution_count": 694,
     "metadata": {},
     "output_type": "execute_result"
    }
   ],
   "source": [
    "modelNB.score(X_train, y_train)"
   ]
  },
  {
   "cell_type": "code",
   "execution_count": 695,
   "metadata": {},
   "outputs": [
    {
     "data": {
      "text/plain": [
       "0.6344294003868471"
      ]
     },
     "execution_count": 695,
     "metadata": {},
     "output_type": "execute_result"
    }
   ],
   "source": [
    "modelNB.score(X_val, y_val)"
   ]
  },
  {
   "cell_type": "code",
   "execution_count": 696,
   "metadata": {},
   "outputs": [
    {
     "data": {
      "text/plain": [
       "GaussianNB(priors=None, var_smoothing=1e-09)"
      ]
     },
     "execution_count": 696,
     "metadata": {},
     "output_type": "execute_result"
    }
   ],
   "source": [
    "modelNB.fit(X = data.drop([\"Satis_team\",\"Gender\",\"Bonus\",\n",
    "                                                             \"Marital_status\"],axis=1), y = y)"
   ]
  },
  {
   "cell_type": "code",
   "execution_count": 697,
   "metadata": {},
   "outputs": [
    {
     "name": "stderr",
     "output_type": "stream",
     "text": [
      "//anaconda3/lib/python3.7/site-packages/sklearn/preprocessing/_label.py:289: DataConversionWarning: A column-vector y was passed when a 1d array was expected. Please change the shape of y to (n_samples, ), for example using ravel().\n",
      "  y = column_or_1d(y, warn=True)\n"
     ]
    }
   ],
   "source": [
    "Guests=pd.DataFrame(test.index)\n",
    "Guests=Guests.astype('int64')\n",
    "fina=pd.DataFrame(modelNB.predict(test.drop([\"Satis_team\",\"Bonus\",\"Gender\",\"Marital_status\"],axis=1)))\n",
    "fina=pd.DataFrame(lel.inverse_transform(fina))\n",
    "fina.reset_index(inplace=True)\n",
    "fina.drop('index',inplace=True,axis=1)\n",
    "final=pd.concat([fina,Guests],axis=1)\n",
    "final.set_index('Employee_ID',inplace=True)\n",
    "final.rename(columns={0:\"Churn_risk\"},inplace=True)\n",
    "final.to_csv(\"versions/m20190546_bV.csv\")"
   ]
  },
  {
   "cell_type": "code",
   "execution_count": null,
   "metadata": {},
   "outputs": [],
   "source": []
  },
  {
   "cell_type": "code",
   "execution_count": null,
   "metadata": {},
   "outputs": [],
   "source": []
  },
  {
   "cell_type": "code",
   "execution_count": null,
   "metadata": {},
   "outputs": [],
   "source": []
  },
  {
   "cell_type": "code",
   "execution_count": null,
   "metadata": {},
   "outputs": [],
   "source": []
  }
 ],
 "metadata": {
  "kernelspec": {
   "display_name": "Python 3",
   "language": "python",
   "name": "python3"
  },
  "language_info": {
   "codemirror_mode": {
    "name": "ipython",
    "version": 3
   },
   "file_extension": ".py",
   "mimetype": "text/x-python",
   "name": "python",
   "nbconvert_exporter": "python",
   "pygments_lexer": "ipython3",
   "version": "3.8.8"
  }
 },
 "nbformat": 4,
 "nbformat_minor": 4
}
