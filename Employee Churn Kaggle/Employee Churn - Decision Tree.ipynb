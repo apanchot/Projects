{
 "cells": [
  {
   "cell_type": "code",
   "execution_count": 1,
   "metadata": {},
   "outputs": [],
   "source": [
    "import pandas as pd\n",
    "import numpy as np\n",
    "\n",
    "from sklearn.model_selection import GridSearchCV\n",
    "from sklearn.model_selection import train_test_split\n",
    "\n",
    "from sklearn.preprocessing import MinMaxScaler\n",
    "from sklearn.preprocessing import StandardScaler\n",
    "\n",
    "from sklearn.metrics import classification_report, confusion_matrix\n",
    "\n",
    "from sklearn.preprocessing import LabelEncoder\n",
    "from sklearn.impute import KNNImputer\n",
    "from sklearn.model_selection import StratifiedKFold\n",
    "\n",
    "from sklearn.tree import DecisionTreeClassifier"
   ]
  },
  {
   "cell_type": "markdown",
   "metadata": {},
   "source": [
    "# Preprocessing"
   ]
  },
  {
   "cell_type": "code",
   "execution_count": 2,
   "metadata": {},
   "outputs": [],
   "source": [
    "data=pd.read_csv(\"train.csv\")\n",
    "test=pd.read_csv(\"test.csv\")"
   ]
  },
  {
   "cell_type": "code",
   "execution_count": 3,
   "metadata": {},
   "outputs": [],
   "source": [
    "# data.isna().sum()"
   ]
  },
  {
   "cell_type": "code",
   "execution_count": 4,
   "metadata": {},
   "outputs": [],
   "source": [
    "lel=LabelEncoder()\n",
    "lel.fit(data[\"Churn_risk\"])\n",
    "data[\"Churn_risk\"]=lel.transform(data[\"Churn_risk\"])\n",
    "\n",
    "\n",
    "le=LabelEncoder()\n",
    "le.fit(data[\"Gender\"])\n",
    "data[\"Gender\"]=le.transform(data[\"Gender\"])\n",
    "test[\"Gender\"]=le.transform(test[\"Gender\"])\n",
    "\n",
    "le=LabelEncoder()\n",
    "le.fit(data[\"Marital_status\"])\n",
    "data[\"Marital_status\"]=le.transform(data[\"Marital_status\"])\n",
    "test[\"Marital_status\"]=le.transform(test[\"Marital_status\"])\n",
    "\n",
    "le=LabelEncoder()\n",
    "le.fit(data[\"Department\"])\n",
    "data[\"Department\"]=le.transform(data[\"Department\"])\n",
    "test[\"Department\"]=le.transform(test[\"Department\"])\n"
   ]
  },
  {
   "cell_type": "code",
   "execution_count": 5,
   "metadata": {},
   "outputs": [],
   "source": [
    "#data.dropna(inplace=True)"
   ]
  },
  {
   "cell_type": "code",
   "execution_count": 6,
   "metadata": {},
   "outputs": [],
   "source": [
    "y=np.array(data[\"Churn_risk\"])\n",
    "data.drop([\"Churn_risk\"],axis=1,inplace=True)"
   ]
  },
  {
   "cell_type": "code",
   "execution_count": 7,
   "metadata": {},
   "outputs": [],
   "source": [
    "imputer = KNNImputer(n_neighbors=105)\n",
    "imputer.fit(data)\n",
    "\n",
    "test = pd.DataFrame(imputer.transform(test))\n",
    "test.columns=data.columns\n",
    "data = pd.DataFrame(imputer.transform(data))\n",
    "data.columns=test.columns\n"
   ]
  },
  {
   "cell_type": "markdown",
   "metadata": {},
   "source": [
    "Scale Data"
   ]
  },
  {
   "cell_type": "code",
   "execution_count": 8,
   "metadata": {},
   "outputs": [],
   "source": [
    "data[\"Employee_ID\"]=data[\"Employee_ID\"].apply(lambda x :int(x))\n",
    "test[\"Employee_ID\"]=test[\"Employee_ID\"].apply(lambda x :int(x))"
   ]
  },
  {
   "cell_type": "code",
   "execution_count": 9,
   "metadata": {},
   "outputs": [],
   "source": [
    "scaler=MinMaxScaler()\n",
    "#scaler=StandardScaler()\n",
    "data.iloc[:,1:]=scaler.fit_transform(data.iloc[:,1:])\n",
    "test.iloc[:,1:]=scaler.transform(test.iloc[:,1:])"
   ]
  },
  {
   "cell_type": "code",
   "execution_count": 10,
   "metadata": {},
   "outputs": [],
   "source": [
    "\n",
    "data.set_index(\"Employee_ID\",inplace=True)\n",
    "test.set_index(\"Employee_ID\",inplace=True)"
   ]
  },
  {
   "cell_type": "markdown",
   "metadata": {},
   "source": [
    "# Final"
   ]
  },
  {
   "cell_type": "code",
   "execution_count": 11,
   "metadata": {},
   "outputs": [],
   "source": [
    "to_drop=[]"
   ]
  },
  {
   "cell_type": "code",
   "execution_count": 12,
   "metadata": {},
   "outputs": [],
   "source": [
    "modelTREE = DecisionTreeClassifier(ccp_alpha= 0.0, criterion= 'gini', max_depth= 10,\n",
    "                                max_features= None, \n",
    "                                max_leaf_nodes= 70, min_impurity_decrease= 0.0,\n",
    "                                min_samples_leaf= 20, min_samples_split=2, min_weight_fraction_leaf= 0.0, \n",
    "                                splitter= 'best').fit(X = data, y = y)\n"
   ]
  },
  {
   "cell_type": "code",
   "execution_count": 13,
   "metadata": {},
   "outputs": [
    {
     "data": {
      "text/plain": [
       "DecisionTreeClassifier(ccp_alpha=0.0, class_weight=None, criterion='gini',\n",
       "                       max_depth=10, max_features=None, max_leaf_nodes=70,\n",
       "                       min_impurity_decrease=0.0, min_impurity_split=None,\n",
       "                       min_samples_leaf=20, min_samples_split=2,\n",
       "                       min_weight_fraction_leaf=0.0, presort='deprecated',\n",
       "                       random_state=None, splitter='best')"
      ]
     },
     "execution_count": 13,
     "metadata": {},
     "output_type": "execute_result"
    }
   ],
   "source": [
    "modelTREE.fit(X = data.drop(to_drop,axis=1), y = y)"
   ]
  },
  {
   "cell_type": "code",
   "execution_count": 14,
   "metadata": {},
   "outputs": [],
   "source": [
    "# from sklearn.tree import export_graphviz\n",
    "# import graphviz\n",
    "# import pydotplus\n",
    "\n",
    "# def plot_tree(model):\n",
    "#     dot_data = export_graphviz(model,\n",
    "#                                feature_names=data.drop(to_drop,axis=1).columns\n",
    "#                               )\n",
    "#     pydot_graph = pydotplus.graph_from_dot_data(dot_data)\n",
    "#     pydot_graph.set_size('\"200,40\"')\n",
    "#     return graphviz.Source(pydot_graph.to_string())"
   ]
  },
  {
   "cell_type": "code",
   "execution_count": 15,
   "metadata": {},
   "outputs": [],
   "source": [
    "# plot_tree(modelTREE)"
   ]
  },
  {
   "cell_type": "code",
   "execution_count": 16,
   "metadata": {},
   "outputs": [
    {
     "name": "stderr",
     "output_type": "stream",
     "text": [
      "//anaconda3/lib/python3.7/site-packages/sklearn/preprocessing/_label.py:289: DataConversionWarning: A column-vector y was passed when a 1d array was expected. Please change the shape of y to (n_samples, ), for example using ravel().\n",
      "  y = column_or_1d(y, warn=True)\n"
     ]
    }
   ],
   "source": [
    "Guests=pd.DataFrame(test.index)\n",
    "Guests=Guests.astype('int64')\n",
    "fina=pd.DataFrame(modelTREE.predict(test.drop(to_drop,axis=1)))\n",
    "fina=pd.DataFrame(lel.inverse_transform(fina))\n",
    "fina.reset_index(inplace=True)\n",
    "fina.drop('index',inplace=True,axis=1)\n",
    "final=pd.concat([fina,Guests],axis=1)\n",
    "final.set_index('Employee_ID',inplace=True)\n",
    "final.rename(columns={0:\"Churn_risk\"},inplace=True)"
   ]
  },
  {
   "cell_type": "code",
   "execution_count": 17,
   "metadata": {},
   "outputs": [],
   "source": [
    "final.to_csv(\"versions/m20190546_.csv\")"
   ]
  },
  {
   "cell_type": "markdown",
   "metadata": {},
   "source": [
    "# Grid Search"
   ]
  },
  {
   "cell_type": "code",
   "execution_count": 18,
   "metadata": {},
   "outputs": [],
   "source": [
    "# modelTREE = DecisionTreeClassifier(ccp_alpha= 0.0, criterion= 'gini', max_depth= 9,\n",
    "#                                 max_features= None, \n",
    "#                                 max_leaf_nodes= 70, min_impurity_decrease= 0.0,\n",
    "#                                 min_samples_leaf= 150, min_samples_split=2, min_weight_fraction_leaf= 0.0, "
   ]
  },
  {
   "cell_type": "code",
   "execution_count": 19,
   "metadata": {},
   "outputs": [],
   "source": [
    "# to_drop=[#'Gender',\n",
    "#          'Satis_team',\n",
    "#          'Emails',\n",
    "#          'Tenure',\n",
    "#          'Kids',\n",
    "#          'Department']"
   ]
  },
  {
   "cell_type": "code",
   "execution_count": 20,
   "metadata": {},
   "outputs": [],
   "source": [
    "# parameter_space = {\n",
    "#    # 'criterion':['gini'], \n",
    "#    # 'splitter':['best'],\n",
    "#     'max_depth':[8,9,10],\n",
    "#   #  'min_samples_split':[2],\n",
    "#     'min_samples_leaf':[100,120,125,140,150],\n",
    "#   #  'min_weight_fraction_leaf':[0],\n",
    "#   #  'max_features':[None],\n",
    "#    # 'ccp_alpha':[0.0],\n",
    "#    # 'min_impurity_decrease':[0.0],\n",
    "#     'max_leaf_nodes':[40,50,60,70,80,90]\n",
    "# }"
   ]
  },
  {
   "cell_type": "code",
   "execution_count": 21,
   "metadata": {},
   "outputs": [],
   "source": [
    "# model = DecisionTreeClassifier()"
   ]
  },
  {
   "cell_type": "code",
   "execution_count": 22,
   "metadata": {},
   "outputs": [],
   "source": [
    "# clf = GridSearchCV(model, parameter_space,n_jobs=8,verbose=5,cv=10,scoring='f1_micro')\n",
    "                   \n",
    "# #clf.fit(data.drop(to_drop,axis=1),y)   \n",
    "\n",
    "# clf.fit(data.drop(to_drop,axis=1),y)\n"
   ]
  },
  {
   "cell_type": "code",
   "execution_count": 23,
   "metadata": {},
   "outputs": [],
   "source": [
    "\n",
    "# # Best parameter set\n",
    "# print('------------------------------------------------------------------------------------------------------------------------')\n",
    "# print('Best parameters found:\\n', clf.best_params_)\n",
    "# print('------------------------------------------------------------------------------------------------------------------------')\n",
    "\n",
    "# # All results\n",
    "# means = clf.cv_results_['mean_test_score']\n",
    "# stds = clf.cv_results_['std_test_score']\n",
    "# for mean, std, params in zip(means, stds, clf.cv_results_['params']):\n",
    "#     if mean>0.7:\n",
    "#         print(\"%0.3f (+/-%0.03f) for %r\" % (mean, std , params))"
   ]
  },
  {
   "cell_type": "markdown",
   "metadata": {},
   "source": [
    "# *** Best Class ***"
   ]
  },
  {
   "cell_type": "code",
   "execution_count": 24,
   "metadata": {},
   "outputs": [],
   "source": [
    "to_drop=[]"
   ]
  },
  {
   "cell_type": "code",
   "execution_count": 25,
   "metadata": {},
   "outputs": [
    {
     "data": {
      "text/plain": [
       "DecisionTreeClassifier(ccp_alpha=0.0, class_weight=None, criterion='gini',\n",
       "                       max_depth=10, max_features=None, max_leaf_nodes=70,\n",
       "                       min_impurity_decrease=0.0, min_impurity_split=None,\n",
       "                       min_samples_leaf=20, min_samples_split=2,\n",
       "                       min_weight_fraction_leaf=0.0, presort='deprecated',\n",
       "                       random_state=None, splitter='best')"
      ]
     },
     "execution_count": 25,
     "metadata": {},
     "output_type": "execute_result"
    }
   ],
   "source": [
    "modelTREE = DecisionTreeClassifier(ccp_alpha= 0.0, criterion= 'gini', max_depth= 10,\n",
    "                                max_features= None, \n",
    "                                max_leaf_nodes= 70, min_impurity_decrease= 0.0,\n",
    "                                min_samples_leaf= 20, min_samples_split=2, min_weight_fraction_leaf= 0.0, \n",
    "                                splitter= 'best').fit(X = data, y = y)\n",
    "\n",
    "\n",
    "modelTREE.fit(X = data.drop(to_drop,axis=1), y = y)"
   ]
  },
  {
   "cell_type": "code",
   "execution_count": null,
   "metadata": {},
   "outputs": [],
   "source": []
  }
 ],
 "metadata": {
  "kernelspec": {
   "display_name": "Python 3",
   "language": "python",
   "name": "python3"
  },
  "language_info": {
   "codemirror_mode": {
    "name": "ipython",
    "version": 3
   },
   "file_extension": ".py",
   "mimetype": "text/x-python",
   "name": "python",
   "nbconvert_exporter": "python",
   "pygments_lexer": "ipython3",
   "version": "3.7.5"
  }
 },
 "nbformat": 4,
 "nbformat_minor": 4
}
