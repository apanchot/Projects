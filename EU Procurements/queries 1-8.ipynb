{
 "cells": [
  {
   "cell_type": "code",
   "execution_count": 1,
   "metadata": {},
   "outputs": [],
   "source": [
    "from pymongo import MongoClient"
   ]
  },
  {
   "cell_type": "code",
   "execution_count": 2,
   "metadata": {},
   "outputs": [],
   "source": [
    "host=\"rhea.isegi.unl.pt\"\n",
    "port=\"28005\"\n",
    "user=\"GROUP_5\"\n",
    "password=\"MzA0MTk3MTEwNTM2Mzg3NTY4MzMxODIzODUzNzQzNzcwOTAwNjkz\"\n",
    "protocol=\"mongodb\"\n",
    "client = MongoClient(f\"{protocol}://{user}:{password}@{host}:{port}\")"
   ]
  },
  {
   "cell_type": "code",
   "execution_count": 3,
   "metadata": {},
   "outputs": [
    {
     "name": "stdout",
     "output_type": "stream",
     "text": [
      "Database info: Database(MongoClient(host=['rhea.isegi.unl.pt:28005'], document_class=dict, tz_aware=False, connect=True), 'contracts')\n",
      "\n"
     ]
    }
   ],
   "source": [
    "db = client.contracts\n",
    "print(f\"Database info: {db}\\n\")"
   ]
  },
  {
   "cell_type": "code",
   "execution_count": 4,
   "metadata": {},
   "outputs": [
    {
     "name": "stderr",
     "output_type": "stream",
     "text": [
      "//anaconda3/lib/python3.7/site-packages/ipykernel_launcher.py:1: DeprecationWarning: count is deprecated. Use Collection.count_documents instead.\n",
      "  \"\"\"Entry point for launching an IPython kernel.\n"
     ]
    },
    {
     "data": {
      "text/plain": [
       "5563415"
      ]
     },
     "execution_count": 4,
     "metadata": {},
     "output_type": "execute_result"
    }
   ],
   "source": [
    "result1 = db.eu.find().count()\n",
    "result1"
   ]
  },
  {
   "cell_type": "code",
   "execution_count": 5,
   "metadata": {},
   "outputs": [],
   "source": [
    "#group cpv div (in the cpv collection) and output a new collection \"cpv_grouped\" with only the first two digits (cpv division) and the cpv description\n",
    "\n",
    "query1={\"$project\":{\"cpv_division\":1,\"cpv_division_description\":1}}\n",
    "\n",
    "query2={\"$group\": {\"_id\":{\"cpv_division\":\"$cpv_division\"},\"cpv_division_description\":{\"$addToSet\":\"$cpv_division_description\"}}}\n",
    "\n",
    "query3={\"$out\":\"cpv_grouped\"}\n",
    "\n",
    "pipeline=[query1, query2,query3]\n",
    "grouped_cpv=list(db.cpv.aggregate(pipeline))"
   ]
  },
  {
   "cell_type": "code",
   "execution_count": 6,
   "metadata": {},
   "outputs": [
    {
     "data": {
      "text/plain": [
       "{'_id': {'cpv_division': '44'},\n",
       " 'cpv_division_description': ['Construction structures and materials; auxiliary products to construction (except electric apparatus)']}"
      ]
     },
     "execution_count": 6,
     "metadata": {},
     "output_type": "execute_result"
    }
   ],
   "source": [
    "db.cpv_grouped.find_one()"
   ]
  },
  {
   "cell_type": "code",
   "execution_count": 7,
   "metadata": {},
   "outputs": [],
   "source": [
    "#get the first two digits of the cpv in eu collection (like in assignment2)\n",
    "switch={\"$switch\":{\n",
    "    \"branches\":[\n",
    "        {\"case\":{\"$lt\":[\"$CPV\",1000000]},\"then\":\"00\"},\n",
    "        {\"case\":{\"$lt\":[\"$CPV\",10000000]},\"then\":{\"$substr\":[\"$CPV\", 0, 1]}}\n",
    "    ],\n",
    "    \"default\": {\"$substr\":[\"$CPV\", 0, 2]}\n",
    "}}\n"
   ]
  },
  {
   "cell_type": "code",
   "execution_count": 8,
   "metadata": {},
   "outputs": [
    {
     "ename": "KeyboardInterrupt",
     "evalue": "",
     "output_type": "error",
     "traceback": [
      "\u001b[0;31m---------------------------------------------------------------------------\u001b[0m",
      "\u001b[0;31mKeyboardInterrupt\u001b[0m                         Traceback (most recent call last)",
      "\u001b[0;32m<ipython-input-8-51075a28e010>\u001b[0m in \u001b[0;36m<module>\u001b[0;34m\u001b[0m\n\u001b[1;32m     15\u001b[0m \u001b[0;34m\u001b[0m\u001b[0m\n\u001b[1;32m     16\u001b[0m \u001b[0mpipeline\u001b[0m\u001b[0;34m=\u001b[0m\u001b[0;34m[\u001b[0m\u001b[0mquery1\u001b[0m\u001b[0;34m,\u001b[0m \u001b[0mquery2\u001b[0m\u001b[0;34m]\u001b[0m\u001b[0;34m\u001b[0m\u001b[0;34m\u001b[0m\u001b[0m\n\u001b[0;32m---> 17\u001b[0;31m \u001b[0meu_cpv\u001b[0m\u001b[0;34m=\u001b[0m\u001b[0mlist\u001b[0m\u001b[0;34m(\u001b[0m\u001b[0mdb\u001b[0m\u001b[0;34m.\u001b[0m\u001b[0meu\u001b[0m\u001b[0;34m.\u001b[0m\u001b[0maggregate\u001b[0m\u001b[0;34m(\u001b[0m\u001b[0mpipeline\u001b[0m\u001b[0;34m)\u001b[0m\u001b[0;34m)\u001b[0m\u001b[0;34m\u001b[0m\u001b[0;34m\u001b[0m\u001b[0m\n\u001b[0m",
      "\u001b[0;32m//anaconda3/lib/python3.7/site-packages/pymongo/collection.py\u001b[0m in \u001b[0;36maggregate\u001b[0;34m(self, pipeline, session, **kwargs)\u001b[0m\n\u001b[1;32m   2378\u001b[0m                                    \u001b[0msession\u001b[0m\u001b[0;34m=\u001b[0m\u001b[0ms\u001b[0m\u001b[0;34m,\u001b[0m\u001b[0;34m\u001b[0m\u001b[0;34m\u001b[0m\u001b[0m\n\u001b[1;32m   2379\u001b[0m                                    \u001b[0mexplicit_session\u001b[0m\u001b[0;34m=\u001b[0m\u001b[0msession\u001b[0m \u001b[0;32mis\u001b[0m \u001b[0;32mnot\u001b[0m \u001b[0;32mNone\u001b[0m\u001b[0;34m,\u001b[0m\u001b[0;34m\u001b[0m\u001b[0;34m\u001b[0m\u001b[0m\n\u001b[0;32m-> 2380\u001b[0;31m                                    **kwargs)\n\u001b[0m\u001b[1;32m   2381\u001b[0m \u001b[0;34m\u001b[0m\u001b[0m\n\u001b[1;32m   2382\u001b[0m     \u001b[0;32mdef\u001b[0m \u001b[0maggregate_raw_batches\u001b[0m\u001b[0;34m(\u001b[0m\u001b[0mself\u001b[0m\u001b[0;34m,\u001b[0m \u001b[0mpipeline\u001b[0m\u001b[0;34m,\u001b[0m \u001b[0;34m**\u001b[0m\u001b[0mkwargs\u001b[0m\u001b[0;34m)\u001b[0m\u001b[0;34m:\u001b[0m\u001b[0;34m\u001b[0m\u001b[0;34m\u001b[0m\u001b[0m\n",
      "\u001b[0;32m//anaconda3/lib/python3.7/site-packages/pymongo/collection.py\u001b[0m in \u001b[0;36m_aggregate\u001b[0;34m(self, aggregation_command, pipeline, cursor_class, session, explicit_session, **kwargs)\u001b[0m\n\u001b[1;32m   2297\u001b[0m         return self.__database.client._retryable_read(\n\u001b[1;32m   2298\u001b[0m             \u001b[0mcmd\u001b[0m\u001b[0;34m.\u001b[0m\u001b[0mget_cursor\u001b[0m\u001b[0;34m,\u001b[0m \u001b[0mcmd\u001b[0m\u001b[0;34m.\u001b[0m\u001b[0mget_read_preference\u001b[0m\u001b[0;34m(\u001b[0m\u001b[0msession\u001b[0m\u001b[0;34m)\u001b[0m\u001b[0;34m,\u001b[0m \u001b[0msession\u001b[0m\u001b[0;34m,\u001b[0m\u001b[0;34m\u001b[0m\u001b[0;34m\u001b[0m\u001b[0m\n\u001b[0;32m-> 2299\u001b[0;31m             retryable=not cmd._performs_write)\n\u001b[0m\u001b[1;32m   2300\u001b[0m \u001b[0;34m\u001b[0m\u001b[0m\n\u001b[1;32m   2301\u001b[0m     \u001b[0;32mdef\u001b[0m \u001b[0maggregate\u001b[0m\u001b[0;34m(\u001b[0m\u001b[0mself\u001b[0m\u001b[0;34m,\u001b[0m \u001b[0mpipeline\u001b[0m\u001b[0;34m,\u001b[0m \u001b[0msession\u001b[0m\u001b[0;34m=\u001b[0m\u001b[0;32mNone\u001b[0m\u001b[0;34m,\u001b[0m \u001b[0;34m**\u001b[0m\u001b[0mkwargs\u001b[0m\u001b[0;34m)\u001b[0m\u001b[0;34m:\u001b[0m\u001b[0;34m\u001b[0m\u001b[0;34m\u001b[0m\u001b[0m\n",
      "\u001b[0;32m//anaconda3/lib/python3.7/site-packages/pymongo/mongo_client.py\u001b[0m in \u001b[0;36m_retryable_read\u001b[0;34m(self, func, read_pref, session, address, retryable, exhaust)\u001b[0m\n\u001b[1;32m   1462\u001b[0m                         \u001b[0;31m# not support retryable reads, raise the last error.\u001b[0m\u001b[0;34m\u001b[0m\u001b[0;34m\u001b[0m\u001b[0;34m\u001b[0m\u001b[0m\n\u001b[1;32m   1463\u001b[0m                         \u001b[0;32mraise\u001b[0m \u001b[0mlast_error\u001b[0m\u001b[0;34m\u001b[0m\u001b[0;34m\u001b[0m\u001b[0m\n\u001b[0;32m-> 1464\u001b[0;31m                     \u001b[0;32mreturn\u001b[0m \u001b[0mfunc\u001b[0m\u001b[0;34m(\u001b[0m\u001b[0msession\u001b[0m\u001b[0;34m,\u001b[0m \u001b[0mserver\u001b[0m\u001b[0;34m,\u001b[0m \u001b[0msock_info\u001b[0m\u001b[0;34m,\u001b[0m \u001b[0mslave_ok\u001b[0m\u001b[0;34m)\u001b[0m\u001b[0;34m\u001b[0m\u001b[0;34m\u001b[0m\u001b[0m\n\u001b[0m\u001b[1;32m   1465\u001b[0m             \u001b[0;32mexcept\u001b[0m \u001b[0mServerSelectionTimeoutError\u001b[0m\u001b[0;34m:\u001b[0m\u001b[0;34m\u001b[0m\u001b[0;34m\u001b[0m\u001b[0m\n\u001b[1;32m   1466\u001b[0m                 \u001b[0;32mif\u001b[0m \u001b[0mretrying\u001b[0m\u001b[0;34m:\u001b[0m\u001b[0;34m\u001b[0m\u001b[0;34m\u001b[0m\u001b[0m\n",
      "\u001b[0;32m//anaconda3/lib/python3.7/site-packages/pymongo/aggregation.py\u001b[0m in \u001b[0;36mget_cursor\u001b[0;34m(self, session, server, sock_info, slave_ok)\u001b[0m\n\u001b[1;32m    146\u001b[0m             \u001b[0msession\u001b[0m\u001b[0;34m=\u001b[0m\u001b[0msession\u001b[0m\u001b[0;34m,\u001b[0m\u001b[0;34m\u001b[0m\u001b[0;34m\u001b[0m\u001b[0m\n\u001b[1;32m    147\u001b[0m             \u001b[0mclient\u001b[0m\u001b[0;34m=\u001b[0m\u001b[0mself\u001b[0m\u001b[0;34m.\u001b[0m\u001b[0m_database\u001b[0m\u001b[0;34m.\u001b[0m\u001b[0mclient\u001b[0m\u001b[0;34m,\u001b[0m\u001b[0;34m\u001b[0m\u001b[0;34m\u001b[0m\u001b[0m\n\u001b[0;32m--> 148\u001b[0;31m             user_fields=self._user_fields)\n\u001b[0m\u001b[1;32m    149\u001b[0m \u001b[0;34m\u001b[0m\u001b[0m\n\u001b[1;32m    150\u001b[0m         \u001b[0mself\u001b[0m\u001b[0;34m.\u001b[0m\u001b[0m_process_result\u001b[0m\u001b[0;34m(\u001b[0m\u001b[0mresult\u001b[0m\u001b[0;34m,\u001b[0m \u001b[0msession\u001b[0m\u001b[0;34m,\u001b[0m \u001b[0mserver\u001b[0m\u001b[0;34m,\u001b[0m \u001b[0msock_info\u001b[0m\u001b[0;34m,\u001b[0m \u001b[0mslave_ok\u001b[0m\u001b[0;34m)\u001b[0m\u001b[0;34m\u001b[0m\u001b[0;34m\u001b[0m\u001b[0m\n",
      "\u001b[0;32m//anaconda3/lib/python3.7/site-packages/pymongo/pool.py\u001b[0m in \u001b[0;36mcommand\u001b[0;34m(self, dbname, spec, slave_ok, read_preference, codec_options, check, allowable_errors, check_keys, read_concern, write_concern, parse_write_concern_error, collation, session, client, retryable_write, publish_events, user_fields)\u001b[0m\n\u001b[1;32m    616\u001b[0m         \u001b[0;31m# Catch socket.error, KeyboardInterrupt, etc. and close ourselves.\u001b[0m\u001b[0;34m\u001b[0m\u001b[0;34m\u001b[0m\u001b[0;34m\u001b[0m\u001b[0m\n\u001b[1;32m    617\u001b[0m         \u001b[0;32mexcept\u001b[0m \u001b[0mBaseException\u001b[0m \u001b[0;32mas\u001b[0m \u001b[0merror\u001b[0m\u001b[0;34m:\u001b[0m\u001b[0;34m\u001b[0m\u001b[0;34m\u001b[0m\u001b[0m\n\u001b[0;32m--> 618\u001b[0;31m             \u001b[0mself\u001b[0m\u001b[0;34m.\u001b[0m\u001b[0m_raise_connection_failure\u001b[0m\u001b[0;34m(\u001b[0m\u001b[0merror\u001b[0m\u001b[0;34m)\u001b[0m\u001b[0;34m\u001b[0m\u001b[0;34m\u001b[0m\u001b[0m\n\u001b[0m\u001b[1;32m    619\u001b[0m \u001b[0;34m\u001b[0m\u001b[0m\n\u001b[1;32m    620\u001b[0m     \u001b[0;32mdef\u001b[0m \u001b[0msend_message\u001b[0m\u001b[0;34m(\u001b[0m\u001b[0mself\u001b[0m\u001b[0;34m,\u001b[0m \u001b[0mmessage\u001b[0m\u001b[0;34m,\u001b[0m \u001b[0mmax_doc_size\u001b[0m\u001b[0;34m)\u001b[0m\u001b[0;34m:\u001b[0m\u001b[0;34m\u001b[0m\u001b[0;34m\u001b[0m\u001b[0m\n",
      "\u001b[0;32m//anaconda3/lib/python3.7/site-packages/pymongo/pool.py\u001b[0m in \u001b[0;36mcommand\u001b[0;34m(self, dbname, spec, slave_ok, read_preference, codec_options, check, allowable_errors, check_keys, read_concern, write_concern, parse_write_concern_error, collation, session, client, retryable_write, publish_events, user_fields)\u001b[0m\n\u001b[1;32m    611\u001b[0m                            \u001b[0muse_op_msg\u001b[0m\u001b[0;34m=\u001b[0m\u001b[0mself\u001b[0m\u001b[0;34m.\u001b[0m\u001b[0mop_msg_enabled\u001b[0m\u001b[0;34m,\u001b[0m\u001b[0;34m\u001b[0m\u001b[0;34m\u001b[0m\u001b[0m\n\u001b[1;32m    612\u001b[0m                            \u001b[0munacknowledged\u001b[0m\u001b[0;34m=\u001b[0m\u001b[0munacknowledged\u001b[0m\u001b[0;34m,\u001b[0m\u001b[0;34m\u001b[0m\u001b[0;34m\u001b[0m\u001b[0m\n\u001b[0;32m--> 613\u001b[0;31m                            user_fields=user_fields)\n\u001b[0m\u001b[1;32m    614\u001b[0m         \u001b[0;32mexcept\u001b[0m \u001b[0mOperationFailure\u001b[0m\u001b[0;34m:\u001b[0m\u001b[0;34m\u001b[0m\u001b[0;34m\u001b[0m\u001b[0m\n\u001b[1;32m    615\u001b[0m             \u001b[0;32mraise\u001b[0m\u001b[0;34m\u001b[0m\u001b[0;34m\u001b[0m\u001b[0m\n",
      "\u001b[0;32m//anaconda3/lib/python3.7/site-packages/pymongo/network.py\u001b[0m in \u001b[0;36mcommand\u001b[0;34m(sock, dbname, spec, slave_ok, is_mongos, read_preference, codec_options, session, client, check, allowable_errors, address, check_keys, listeners, max_bson_size, read_concern, parse_write_concern_error, collation, compression_ctx, use_op_msg, unacknowledged, user_fields)\u001b[0m\n\u001b[1;32m    155\u001b[0m             \u001b[0mresponse_doc\u001b[0m \u001b[0;34m=\u001b[0m \u001b[0;34m{\u001b[0m\u001b[0;34m\"ok\"\u001b[0m\u001b[0;34m:\u001b[0m \u001b[0;36m1\u001b[0m\u001b[0;34m}\u001b[0m\u001b[0;34m\u001b[0m\u001b[0;34m\u001b[0m\u001b[0m\n\u001b[1;32m    156\u001b[0m         \u001b[0;32melse\u001b[0m\u001b[0;34m:\u001b[0m\u001b[0;34m\u001b[0m\u001b[0;34m\u001b[0m\u001b[0m\n\u001b[0;32m--> 157\u001b[0;31m             \u001b[0mreply\u001b[0m \u001b[0;34m=\u001b[0m \u001b[0mreceive_message\u001b[0m\u001b[0;34m(\u001b[0m\u001b[0msock\u001b[0m\u001b[0;34m,\u001b[0m \u001b[0mrequest_id\u001b[0m\u001b[0;34m)\u001b[0m\u001b[0;34m\u001b[0m\u001b[0;34m\u001b[0m\u001b[0m\n\u001b[0m\u001b[1;32m    158\u001b[0m             unpacked_docs = reply.unpack_response(\n\u001b[1;32m    159\u001b[0m                 codec_options=codec_options, user_fields=user_fields)\n",
      "\u001b[0;32m//anaconda3/lib/python3.7/site-packages/pymongo/network.py\u001b[0m in \u001b[0;36mreceive_message\u001b[0;34m(sock, request_id, max_message_size)\u001b[0m\n\u001b[1;32m    194\u001b[0m     \u001b[0;31m# Ignore the response's request id.\u001b[0m\u001b[0;34m\u001b[0m\u001b[0;34m\u001b[0m\u001b[0;34m\u001b[0m\u001b[0m\n\u001b[1;32m    195\u001b[0m     length, _, response_to, op_code = _UNPACK_HEADER(\n\u001b[0;32m--> 196\u001b[0;31m         _receive_data_on_socket(sock, 16))\n\u001b[0m\u001b[1;32m    197\u001b[0m     \u001b[0;31m# No request_id for exhaust cursor \"getMore\".\u001b[0m\u001b[0;34m\u001b[0m\u001b[0;34m\u001b[0m\u001b[0;34m\u001b[0m\u001b[0m\n\u001b[1;32m    198\u001b[0m     \u001b[0;32mif\u001b[0m \u001b[0mrequest_id\u001b[0m \u001b[0;32mis\u001b[0m \u001b[0;32mnot\u001b[0m \u001b[0;32mNone\u001b[0m\u001b[0;34m:\u001b[0m\u001b[0;34m\u001b[0m\u001b[0;34m\u001b[0m\u001b[0m\n",
      "\u001b[0;32m//anaconda3/lib/python3.7/site-packages/pymongo/network.py\u001b[0m in \u001b[0;36m_receive_data_on_socket\u001b[0;34m(sock, length)\u001b[0m\n\u001b[1;32m    253\u001b[0m         \u001b[0;32mwhile\u001b[0m \u001b[0mbytes_read\u001b[0m \u001b[0;34m<\u001b[0m \u001b[0mlength\u001b[0m\u001b[0;34m:\u001b[0m\u001b[0;34m\u001b[0m\u001b[0;34m\u001b[0m\u001b[0m\n\u001b[1;32m    254\u001b[0m             \u001b[0;32mtry\u001b[0m\u001b[0;34m:\u001b[0m\u001b[0;34m\u001b[0m\u001b[0;34m\u001b[0m\u001b[0m\n\u001b[0;32m--> 255\u001b[0;31m                 \u001b[0mchunk_length\u001b[0m \u001b[0;34m=\u001b[0m \u001b[0msock\u001b[0m\u001b[0;34m.\u001b[0m\u001b[0mrecv_into\u001b[0m\u001b[0;34m(\u001b[0m\u001b[0mmv\u001b[0m\u001b[0;34m[\u001b[0m\u001b[0mbytes_read\u001b[0m\u001b[0;34m:\u001b[0m\u001b[0;34m]\u001b[0m\u001b[0;34m)\u001b[0m\u001b[0;34m\u001b[0m\u001b[0;34m\u001b[0m\u001b[0m\n\u001b[0m\u001b[1;32m    256\u001b[0m             \u001b[0;32mexcept\u001b[0m \u001b[0;34m(\u001b[0m\u001b[0mIOError\u001b[0m\u001b[0;34m,\u001b[0m \u001b[0mOSError\u001b[0m\u001b[0;34m)\u001b[0m \u001b[0;32mas\u001b[0m \u001b[0mexc\u001b[0m\u001b[0;34m:\u001b[0m\u001b[0;34m\u001b[0m\u001b[0;34m\u001b[0m\u001b[0m\n\u001b[1;32m    257\u001b[0m                 \u001b[0;32mif\u001b[0m \u001b[0m_errno_from_exception\u001b[0m\u001b[0;34m(\u001b[0m\u001b[0mexc\u001b[0m\u001b[0;34m)\u001b[0m \u001b[0;34m==\u001b[0m \u001b[0merrno\u001b[0m\u001b[0;34m.\u001b[0m\u001b[0mEINTR\u001b[0m\u001b[0;34m:\u001b[0m\u001b[0;34m\u001b[0m\u001b[0;34m\u001b[0m\u001b[0m\n",
      "\u001b[0;31mKeyboardInterrupt\u001b[0m: "
     ]
    }
   ],
   "source": [
    "#try to merge (embedded model) cpv_grouped with eu #CURRENTLY NOT WORKING RESPECTIVELY TAKES TOO MUCH TIME \n",
    "query1= {\"$lookup\":{\n",
    "           \"from\": \"cpv_grouped\",\n",
    "           \"localField\": str(switch),\n",
    "           \"foreignField\": \"_id\",\n",
    "           \"as\":\"lookup_eu_cpv\"\n",
    "        }\n",
    "    }\n",
    "    \n",
    "query2={\"$merge\" : {\n",
    "            \"into\" : \"eu_cpv\",\n",
    "            \"whenMatched\": \"keepExisting\"\n",
    "        } \n",
    "    }\n",
    "\n",
    "pipeline=[query1, query2]\n",
    "eu_cpv=list(db.eu.aggregate(pipeline))"
   ]
  },
  {
   "cell_type": "code",
   "execution_count": null,
   "metadata": {},
   "outputs": [],
   "source": []
  },
  {
   "cell_type": "markdown",
   "metadata": {},
   "source": [
    "### 1.1 Each CPV’s division contracts average spending (‘VALUE_EURO’)\n"
   ]
  },
  {
   "cell_type": "code",
   "execution_count": 8,
   "metadata": {},
   "outputs": [],
   "source": [
    "\n",
    "query1={\"$project\":{\"VALUE_EURO\":1,\"CPV\":switch}}\n",
    "\n",
    "query2={\"$group\": {\"_id\":{\"CPV\":\"$CPV\"},\n",
    "                \"avgValueEuro\":{\"$avg\":\"$VALUE_EURO\"}}}\n",
    "\n",
    "query3={\"$group\": {\"_id\":{},\n",
    "                \"avgValueEuro\":{\"$avg\":\"$avgValueEuro\"}\n",
    "                 }\n",
    "       }\n",
    "\n",
    "pipeline=[query1, query2,query3]\n",
    "result_1_1=list(db.eu.aggregate(pipeline))"
   ]
  },
  {
   "cell_type": "code",
   "execution_count": null,
   "metadata": {},
   "outputs": [],
   "source": [
    "result_1_1"
   ]
  },
  {
   "cell_type": "markdown",
   "metadata": {},
   "source": [
    "## 1.2 Each CPV’s division contract count"
   ]
  },
  {
   "cell_type": "code",
   "execution_count": 53,
   "metadata": {},
   "outputs": [],
   "source": [
    "query1={\"$project\":{\"CPV\":switch}}\n",
    "\n",
    "query2={\"$group\": {\"_id\":{\"CPV\":\"$CPV\"},\n",
    "                \"count\":{\"$sum\":1}}}\n",
    "\n",
    "query3={\"$group\": {\"_id\":{},\n",
    "                \"avgCount\":{\"$avg\":\"$count\"}\n",
    "                 }\n",
    "       }\n",
    "\n",
    "\n",
    "pipeline=[query1, query2,query3]\n",
    "result_1_2=list(db.eu.aggregate(pipeline))"
   ]
  },
  {
   "cell_type": "code",
   "execution_count": 54,
   "metadata": {},
   "outputs": [
    {
     "data": {
      "text/plain": [
       "[{'_id': {}, 'avgCount': 120943.76086956522}]"
      ]
     },
     "execution_count": 54,
     "metadata": {},
     "output_type": "execute_result"
    }
   ],
   "source": [
    "result_1_2"
   ]
  },
  {
   "cell_type": "code",
   "execution_count": null,
   "metadata": {},
   "outputs": [],
   "source": [
    "### 1.3 Each CPV’s division contracts average number of offers (‘NUMBER_OFFERS’)"
   ]
  },
  {
   "cell_type": "code",
   "execution_count": 56,
   "metadata": {},
   "outputs": [],
   "source": [
    "query1={\"$project\":{\"CPV\":switch,\"NUMBER_OFFERS\":1}}\n",
    "\n",
    "query2={\"$group\": {\"_id\":{\"CPV\":\"$CPV\"},\n",
    "                \"avgOffers\":{\"$avg\":\"$NUMBER_OFFERS\"}}}\n",
    "\n",
    "query3={\"$group\": {\"_id\":{},\n",
    "                \"avgOffers\":{\"$avg\":\"$avgOffers\"}\n",
    "                 }\n",
    "       }\n",
    "\n",
    "pipeline=[query1, query2, query3]\n",
    "result_1_3=list(db.eu.aggregate(pipeline))"
   ]
  },
  {
   "cell_type": "code",
   "execution_count": 57,
   "metadata": {},
   "outputs": [
    {
     "data": {
      "text/plain": [
       "[{'_id': {}, 'avgOffers': 7.572088391451659}]"
      ]
     },
     "execution_count": 57,
     "metadata": {},
     "output_type": "execute_result"
    }
   ],
   "source": [
    "result_1_3"
   ]
  },
  {
   "cell_type": "code",
   "execution_count": 58,
   "metadata": {},
   "outputs": [],
   "source": [
    "query1={\"$match\":{\"B_EU_FUNDS\":{\"$eq\":\"Y\"}}}\n",
    "\n",
    "query2={\"$project\":{\"VALUE_EURO\":1,\"CPV\":switch}}\n",
    "\n",
    "query3={\"$group\": {\"_id\":{\"CPV\":\"$CPV\"},\n",
    "                \"avgValueEuro\":{\"$avg\":\"$VALUE_EURO\"}}}\n",
    "\n",
    "query4={\"$group\": {\"_id\":{},\n",
    "                \"avgValueEuro\":{\"$avg\":\"$avgValueEuro\"}\n",
    "                 }\n",
    "       }\n",
    "\n",
    "pipeline=[query1,query2, query3,query4]\n",
    "result_1_4=list(db.eu.aggregate(pipeline))"
   ]
  },
  {
   "cell_type": "code",
   "execution_count": 59,
   "metadata": {},
   "outputs": [
    {
     "data": {
      "text/plain": [
       "[{'_id': {}, 'avgValueEuro': 1.2022182214644884e+22}]"
      ]
     },
     "execution_count": 59,
     "metadata": {},
     "output_type": "execute_result"
    }
   ],
   "source": [
    "result_1_4"
   ]
  },
  {
   "cell_type": "markdown",
   "metadata": {},
   "source": [
    "### 1.5 Each CPV’s division contracts average spending (‘VALUE_EURO’) without european funds (‘B_EU_FUNDS’)"
   ]
  },
  {
   "cell_type": "code",
   "execution_count": 62,
   "metadata": {},
   "outputs": [],
   "source": [
    "query1={\"$match\":{\"$or\":[{\"B_EU_FUNDS\":\"N\"},{\"B_EU_FUNDS\":None}]}}\n",
    "\n",
    "query2={\"$project\":{\"VALUE_EURO\":1,\"CPV\":switch}}\n",
    "\n",
    "query3={\"$group\": {\"_id\":{\"CPV\":\"$CPV\"},\n",
    "                \"avgValueEuro\":{\"$avg\":\"$VALUE_EURO\"}}}\n",
    "\n",
    "query4={\"$group\": {\"_id\":{},\n",
    "                \"avgValueEuro\":{\"$avg\":\"$avgValueEuro\"}}}\n",
    "\n",
    "pipeline=[query1,query2,query3,query4]\n",
    "result_1_5=list(db.eu.aggregate(pipeline))"
   ]
  },
  {
   "cell_type": "code",
   "execution_count": 63,
   "metadata": {},
   "outputs": [
    {
     "data": {
      "text/plain": [
       "[{'_id': {}, 'avgValueEuro': 1.2818269566081569e+19}]"
      ]
     },
     "execution_count": 63,
     "metadata": {},
     "output_type": "execute_result"
    }
   ],
   "source": [
    "result_1_5"
   ]
  },
  {
   "cell_type": "markdown",
   "metadata": {},
   "source": [
    "### 2 The count of contracts for each CPV Division"
   ]
  },
  {
   "cell_type": "code",
   "execution_count": 8,
   "metadata": {},
   "outputs": [],
   "source": [
    "#it doesn't display the cpv_division_description; referrenced model (lookup) takes long \n",
    "query0={\"$lookup\":{\n",
    "           \"from\": \"cpv_grouped\",\n",
    "           \"localField\": str(switch),\n",
    "           \"foreignField\": \"cpv_division\",\n",
    "           \"as\": \"CPV_name\"\n",
    "        }}\n",
    "\n",
    "query1={\"$project\":{\"cpv_division_description\":1}}\n",
    "\n",
    "query2={\"$group\": {\"_id\":{\"cpv_division_description\":\"$cpv_division_description\"},\n",
    "                \"count\":{\"$sum\":1}}}\n",
    "\n",
    "pipeline=[query0,query1,query2]\n",
    "result_2=list(db.eu.aggregate(pipeline))"
   ]
  },
  {
   "cell_type": "code",
   "execution_count": 66,
   "metadata": {},
   "outputs": [
    {
     "data": {
      "text/plain": [
       "[{'_id': {'CPV': '44'}, 'count': 81992},\n",
       " {'_id': {'CPV': '50'}, 'count': 183605},\n",
       " {'_id': {'CPV': '30'}, 'count': 128660},\n",
       " {'_id': {'CPV': '75'}, 'count': 14389},\n",
       " {'_id': {'CPV': '66'}, 'count': 116734},\n",
       " {'_id': {'CPV': '65'}, 'count': 13465},\n",
       " {'_id': {'CPV': '34'}, 'count': 175304},\n",
       " {'_id': {'CPV': '73'}, 'count': 18992},\n",
       " {'_id': {'CPV': '31'}, 'count': 52955},\n",
       " {'_id': {'CPV': '70'}, 'count': 11924},\n",
       " {'_id': {'CPV': '33'}, 'count': 1775459},\n",
       " {'_id': {'CPV': '15'}, 'count': 252972},\n",
       " {'_id': {'CPV': '79'}, 'count': 204709},\n",
       " {'_id': {'CPV': '90'}, 'count': 235427},\n",
       " {'_id': {'CPV': '32'}, 'count': 38861},\n",
       " {'_id': {'CPV': '76'}, 'count': 3155},\n",
       " {'_id': {'CPV': '35'}, 'count': 26641},\n",
       " {'_id': {'CPV': '80'}, 'count': 131271},\n",
       " {'_id': {'CPV': '72'}, 'count': 99613},\n",
       " {'_id': {'CPV': '42'}, 'count': 48194},\n",
       " {'_id': {'CPV': '98'}, 'count': 25391},\n",
       " {'_id': {'CPV': '92'}, 'count': 20517},\n",
       " {'_id': {'CPV': '16'}, 'count': 8035},\n",
       " {'_id': {'CPV': '24'}, 'count': 41502},\n",
       " {'_id': {'CPV': '77'}, 'count': 142785},\n",
       " {'_id': {'CPV': '9'}, 'count': 102064},\n",
       " {'_id': {'CPV': '55'}, 'count': 39513},\n",
       " {'_id': {'CPV': '45'}, 'count': 527839},\n",
       " {'_id': {'CPV': '38'}, 'count': 84577},\n",
       " {'_id': {'CPV': '39'}, 'count': 109786},\n",
       " {'_id': {'CPV': '48'}, 'count': 42885},\n",
       " {'_id': {'CPV': '60'}, 'count': 195085},\n",
       " {'_id': {'CPV': '3'}, 'count': 23717},\n",
       " {'_id': {'CPV': '43'}, 'count': 17412},\n",
       " {'_id': {'CPV': '85'}, 'count': 142895},\n",
       " {'_id': {'CPV': '64'}, 'count': 42213},\n",
       " {'_id': {'CPV': '63'}, 'count': 15373},\n",
       " {'_id': {'CPV': '00'}, 'count': 3284},\n",
       " {'_id': {'CPV': '18'}, 'count': 37731},\n",
       " {'_id': {'CPV': '22'}, 'count': 35982},\n",
       " {'_id': {'CPV': '71'}, 'count': 249934},\n",
       " {'_id': {'CPV': '14'}, 'count': 12699},\n",
       " {'_id': {'CPV': '19'}, 'count': 8837},\n",
       " {'_id': {'CPV': '37'}, 'count': 11876},\n",
       " {'_id': {'CPV': '41'}, 'count': 1463},\n",
       " {'_id': {'CPV': '51'}, 'count': 5696}]"
      ]
     },
     "execution_count": 66,
     "metadata": {},
     "output_type": "execute_result"
    }
   ],
   "source": [
    "result_2"
   ]
  },
  {
   "cell_type": "markdown",
   "metadata": {},
   "source": [
    "### 3 Per CPV Division get the average spending (‘VALUE_EURO’) and return the highest 5 cpvs"
   ]
  },
  {
   "cell_type": "code",
   "execution_count": 67,
   "metadata": {},
   "outputs": [],
   "source": [
    "#it doesn't display the cpv_division_description;\n",
    "query1={\"$project\":{\"VALUE_EURO\":1,\"CPV\":switch}}\n",
    "\n",
    "query2={\"$group\": {\"_id\":{\"CPV\":\"$CPV\"},\n",
    "                \"avgValueEuro\":{\"$avg\":\"$VALUE_EURO\"}}}\n",
    "\n",
    "query3={\"$sort\": {\"avgValueEuro\":-1}}\n",
    "\n",
    "query4={\"$limit\":5}\n",
    "\n",
    "pipeline=[query1, query2,query3,query4]\n",
    "result_3=list(db.eu.aggregate(pipeline))"
   ]
  },
  {
   "cell_type": "code",
   "execution_count": 68,
   "metadata": {},
   "outputs": [
    {
     "data": {
      "text/plain": [
       "[{'_id': {'CPV': '90'}, 'avgValueEuro': 1.1423173092228093e+22},\n",
       " {'_id': {'CPV': '30'}, 'avgValueEuro': 4.4276521636461806e+20},\n",
       " {'_id': {'CPV': '75'}, 'avgValueEuro': 1.0979761462251373e+19},\n",
       " {'_id': {'CPV': '79'}, 'avgValueEuro': 3.572801959007498e+17},\n",
       " {'_id': {'CPV': '80'}, 'avgValueEuro': 233961466170367.25}]"
      ]
     },
     "execution_count": 68,
     "metadata": {},
     "output_type": "execute_result"
    }
   ],
   "source": [
    "result_3"
   ]
  },
  {
   "cell_type": "markdown",
   "metadata": {},
   "source": [
    "### 4 Per CPV Division get the average spending (‘VALUE_EURO’) and return the lowest 5 cpvs"
   ]
  },
  {
   "cell_type": "code",
   "execution_count": 69,
   "metadata": {},
   "outputs": [],
   "source": [
    "#it doesn't display the cpv_division_description;\n",
    "query1={\"$project\":{\"VALUE_EURO\":1,\"CPV\":switch}}\n",
    "\n",
    "query2={\"$group\": {\"_id\":{\"CPV\":\"$CPV\"},\n",
    "                \"avgValueEuro\":{\"$avg\":\"$VALUE_EURO\"}}}\n",
    "\n",
    "query3={\"$sort\": {\"avgValueEuro\":1}}\n",
    "\n",
    "query4={\"$limit\":5}\n",
    "\n",
    "pipeline=[query1, query2,query3,query4]\n",
    "result_4=list(db.eu.aggregate(pipeline))"
   ]
  },
  {
   "cell_type": "code",
   "execution_count": 70,
   "metadata": {},
   "outputs": [
    {
     "data": {
      "text/plain": [
       "[{'_id': {'CPV': '3'}, 'avgValueEuro': 1261617.4059277952},\n",
       " {'_id': {'CPV': '16'}, 'avgValueEuro': 1666574.1648330106},\n",
       " {'_id': {'CPV': '37'}, 'avgValueEuro': 1672027.3621667938},\n",
       " {'_id': {'CPV': '92'}, 'avgValueEuro': 1961491.3667497546},\n",
       " {'_id': {'CPV': '19'}, 'avgValueEuro': 1971553.785299904}]"
      ]
     },
     "execution_count": 70,
     "metadata": {},
     "output_type": "execute_result"
    }
   ],
   "source": [
    "result_4"
   ]
  },
  {
   "cell_type": "markdown",
   "metadata": {},
   "source": []
  },
  {
   "cell_type": "markdown",
   "metadata": {},
   "source": [
    "### 5 Per CPV Division get the average spending (‘VALUE_EURO’) and return the highest 5 cpvs for contracts which recieved european funds (‘B_EU_FUNDS’)"
   ]
  },
  {
   "cell_type": "code",
   "execution_count": 71,
   "metadata": {},
   "outputs": [],
   "source": [
    "#it doesn't display the cpv_division_description;\n",
    "query1={\"$match\":{\"B_EU_FUNDS\":{\"$eq\":\"Y\"}}}\n",
    "\n",
    "query2={\"$project\":{\"VALUE_EURO\":1,\"CPV\":switch}}\n",
    "\n",
    "query3={\"$group\": {\"_id\":{\"CPV\":\"$CPV\"},\n",
    "                \"avgValueEuro\":{\"$avg\":\"$VALUE_EURO\"}}}\n",
    "\n",
    "query4={\"$sort\": {\"avgValueEuro\":-1}}\n",
    "\n",
    "query5={\"$limit\":5}\n",
    "\n",
    "pipeline=[query1,query2, query3,query4,query5]\n",
    "result_5=list(db.eu.aggregate(pipeline))"
   ]
  },
  {
   "cell_type": "code",
   "execution_count": 72,
   "metadata": {},
   "outputs": [
    {
     "data": {
      "text/plain": [
       "[{'_id': {'CPV': '55'}, 'avgValueEuro': 213072.63850953206},\n",
       " {'_id': {'CPV': '18'}, 'avgValueEuro': 236327.45987437185},\n",
       " {'_id': {'CPV': '19'}, 'avgValueEuro': 290370.24028985505},\n",
       " {'_id': {'CPV': '16'}, 'avgValueEuro': 352969.07318627456},\n",
       " {'_id': {'CPV': '92'}, 'avgValueEuro': 479732.1283990442}]"
      ]
     },
     "execution_count": 72,
     "metadata": {},
     "output_type": "execute_result"
    }
   ],
   "source": [
    "result_5"
   ]
  },
  {
   "cell_type": "markdown",
   "metadata": {},
   "source": [
    "### 6 Per CPV Division and get the average (‘VALUE_EURO’) return the highest 5 cpvs for contracts which did not recieve european funds (‘B_EU_FUNDS’)"
   ]
  },
  {
   "cell_type": "code",
   "execution_count": 73,
   "metadata": {},
   "outputs": [],
   "source": [
    "\n",
    "#it doesn't display the cpv_division_description;\n",
    "query1={\"$match\":{\"$or\":[{\"B_EU_FUNDS\":\"N\"},{\"B_EU_FUNDS\":None}]}}\n",
    "\n",
    "query2={\"$project\":{\"VALUE_EURO\":1,\"CPV\":switch}}\n",
    "\n",
    "query3={\"$group\": {\"_id\":{\"CPV\":\"$CPV\"},\n",
    "                \"avgValueEuro\":{\"$avg\":\"$VALUE_EURO\"}}}\n",
    "\n",
    "query4={\"$sort\": {\"avgValueEuro\":-1}}\n",
    "\n",
    "query5={\"$limit\":5}\n",
    "\n",
    "pipeline=[query1,query2,query3,query4,query5]\n",
    "result_6=list(db.eu.aggregate(pipeline))"
   ]
  },
  {
   "cell_type": "code",
   "execution_count": 74,
   "metadata": {},
   "outputs": [
    {
     "data": {
      "text/plain": [
       "[{'_id': {'CPV': '30'}, 'avgValueEuro': 5.773672055427442e+20},\n",
       " {'_id': {'CPV': '75'}, 'avgValueEuro': 1.1841854326803847e+19},\n",
       " {'_id': {'CPV': '79'}, 'avgValueEuro': 4.3133068536093466e+17},\n",
       " {'_id': {'CPV': '73'}, 'avgValueEuro': 6354932275958.761},\n",
       " {'_id': {'CPV': '85'}, 'avgValueEuro': 1778557507080.2217}]"
      ]
     },
     "execution_count": 74,
     "metadata": {},
     "output_type": "execute_result"
    }
   ],
   "source": [
    "result_6"
   ]
  },
  {
   "cell_type": "markdown",
   "metadata": {},
   "source": [
    "### 7 The highest CPV Division on average spending (‘VALUE_EURO’) per country (‘ISO_COUNTRY_CODE’)"
   ]
  },
  {
   "cell_type": "code",
   "execution_count": 20,
   "metadata": {},
   "outputs": [],
   "source": [
    "#contains duplicates within country code \n",
    "query1={\"$project\":{\"VALUE_EURO\":1,\"CPV\":switch,\"ISO_COUNTRY_CODE\":1}}\n",
    "\n",
    "query2={\"$group\": {\"_id\":{\"CPV\":\"$CPV\",\"ISO_COUNTRY_CODE\":\"$ISO_COUNTRY_CODE\"},\"avgValueEuro\":{\"$avg\":\"$VALUE_EURO\"}}}\n",
    "\n",
    "query3={\"$group\": {\"_id\":\"$_id\",\"maxAvgValueEuro\":{\"$max\":\"$avgValueEuro\"}}}\n",
    "\n",
    "pipeline=[query1,query2,query3]\n",
    "result_7=list(db.eu.aggregate(pipeline))"
   ]
  },
  {
   "cell_type": "code",
   "execution_count": 21,
   "metadata": {},
   "outputs": [
    {
     "data": {
      "text/plain": [
       "03461},\n",
       " {'_id': {'CPV': '34', 'ISO_COUNTRY_CODE': 'NL'},\n",
       "  'maxAvgValueEuro': 3163748.115686813},\n",
       " {'_id': {'CPV': '39', 'ISO_COUNTRY_CODE': 'AT'},\n",
       "  'maxAvgValueEuro': 1623986.0301470587},\n",
       " {'_id': {'CPV': '33', 'ISO_COUNTRY_CODE': 'SI'},\n",
       "  'maxAvgValueEuro': 1572955.0385864126},\n",
       " {'_id': {'CPV': '72', 'ISO_COUNTRY_CODE': 'CH'},\n",
       "  'maxAvgValueEuro': 11329385.923194446},\n",
       " {'_id': {'CPV': '15', 'ISO_COUNTRY_CODE': 'FR'},\n",
       "  'maxAvgValueEuro': 5637779.305134567},\n",
       " {'_id': {'CPV': '55', 'ISO_COUNTRY_CODE': 'CY'},\n",
       "  'maxAvgValueEuro': 1039556.7225},\n",
       " {'_id': {'CPV': '37', 'ISO_COUNTRY_CODE': 'SE'},\n",
       "  'maxAvgValueEuro': 779300.4134000001},\n",
       " {'_id': {'CPV': '75', 'ISO_COUNTRY_CODE': 'CH'},\n",
       "  'maxAvgValueEuro': 1511557.805652174},\n",
       " {'_id': {'CPV': '30', 'ISO_COUNTRY_CODE': 'NL'},\n",
       "  'maxAvgValueEuro': 5613324.000976492},\n",
       " {'_id': {'CPV': '63', 'ISO_COUNTRY_CODE': 'UK'},\n",
       "  'maxAvgValueEuro': 66001437.06311688},\n",
       " {'_id': {'CPV': '79', 'ISO_COUNTRY_CODE': 'CY'},\n",
       "  'maxAvgValueEuro': 1615910.586322314},\n",
       " {'_id': {'CPV': '22', 'ISO_COUNTRY_CODE': 'SK'},\n",
       "  'maxAvgValueEuro': 4592368.089849625},\n",
       " {'_id': {'CPV': '64', 'ISO_COUNTRY_CODE': 'HU'},\n",
       "  'maxAvgValueEuro': 2682262.6086},\n",
       " {'_id': {'CPV': '32', 'ISO_COUNTRY_CODE': 'ES'},\n",
       "  'maxAvgValueEuro': 2554174.341967556},\n",
       " {'_id': {'CPV': '00', 'ISO_COUNTRY_CODE': 'CH'},\n",
       "  'maxAvgValueEuro': 563089.92},\n",
       " {'_id': {'CPV': '90', 'ISO_COUNTRY_CODE': 'FR'},\n",
       "  'maxAvgValueEuro': 17801515.77031883},\n",
       " {'_id': {'CPV': '72', 'ISO_COUNTRY_CODE': 'IE'},\n",
       "  'maxAvgValueEuro': 12603903.498904299},\n",
       " {'_id': {'CPV': '70', 'ISO_COUNTRY_CODE': 'CY'}, 'maxAvgValueEuro': 450000.0},\n",
       " {'_id': {'CPV': '41', 'ISO_COUNTRY_CODE': 'GR'},\n",
       "  'maxAvgValueEuro': 1928880.288},\n",
       " {'_id': {'CPV': '35', 'ISO_COUNTRY_CODE': 'LI'}, 'maxAvgValueEuro': None},\n",
       " {'_id': {'CPV': '32', 'ISO_COUNTRY_CODE': 'MK'},\n",
       "  'maxAvgValueEuro': 1269235.7688888889},\n",
       " {'_id': {'CPV': '18', 'ISO_COUNTRY_CODE': 'SE'},\n",
       "  'maxAvgValueEuro': 1595621.9966197184},\n",
       " {'_id': {'CPV': '39', 'ISO_COUNTRY_CODE': 'LU'},\n",
       "  'maxAvgValueEuro': 4643429.700142857},\n",
       " {'_id': {'CPV': '72', 'ISO_COUNTRY_CODE': 'FR'},\n",
       "  'maxAvgValueEuro': 13469163.142915374},\n",
       " {'_id': {'CPV': '90', 'ISO_COUNTRY_CODE': 'BE'},\n",
       "  'maxAvgValueEuro': 6255183216357.939},\n",
       " {'_id': {'CPV': '77', 'ISO_COUNTRY_CODE': 'DK'},\n",
       "  'maxAvgValueEuro': 1886806.6100995024},\n",
       " {'_id': {'CPV': '32', 'ISO_COUNTRY_CODE': 'CY'},\n",
       "  'maxAvgValueEuro': 639175.2831914893},\n",
       " {'_id': {'CPV': '45', 'ISO_COUNTRY_CODE': 'HR'},\n",
       "  'maxAvgValueEuro': 8247408.91722372},\n",
       " {'_id': {'CPV': '98', 'ISO_COUNTRY_CODE': 'MT'},\n",
       "  'maxAvgValueEuro': 926952.3735294117},\n",
       " {'_id': {'CPV': '72', 'ISO_COUNTRY_CODE': 'DE'},\n",
       "  'maxAvgValueEuro': 3356673.67083134},\n",
       " {'_id': {'CPV': '63', 'ISO_COUNTRY_CODE': 'LT'},\n",
       "  'maxAvgValueEuro': 1538112.3222999999},\n",
       " {'_id': {'CPV': '38', 'ISO_COUNTRY_CODE': 'SI'},\n",
       "  'maxAvgValueEuro': 634863.9811439114},\n",
       " {'_id': {'CPV': '22', 'ISO_COUNTRY_CODE': 'LU'},\n",
       "  'maxAvgValueEuro': 1915275.4172413794},\n",
       " {'_id': {'CPV': '50', 'ISO_COUNTRY_CODE': 'FR'},\n",
       "  'maxAvgValueEuro': 66587596.98586904},\n",
       " {'_id': {'CPV': '15', 'ISO_COUNTRY_CODE': 'CY'},\n",
       "  'maxAvgValueEuro': 1391075.6668047337},\n",
       " {'_id': {'CPV': '16', 'ISO_COUNTRY_CODE': 'UK'},\n",
       "  'maxAvgValueEuro': 4238542.599867021},\n",
       " {'_id': {'CPV': '14', 'ISO_COUNTRY_CODE': 'AT'},\n",
       "  'maxAvgValueEuro': 2285316.4125},\n",
       " {'_id': {'CPV': '3', 'ISO_COUNTRY_CODE': 'CY'},\n",
       "  'maxAvgValueEuro': 460218.58714285714},\n",
       " {'_id': {'CPV': '70', 'ISO_COUNTRY_CODE': 'BE'},\n",
       "  'maxAvgValueEuro': 6809692.914761906},\n",
       " {'_id': {'CPV': '33', 'ISO_COUNTRY_CODE': 'ES'},\n",
       "  'maxAvgValueEuro': 4559243.070833019},\n",
       " {'_id': {'CPV': '43', 'ISO_COUNTRY_CODE': 'IT'},\n",
       "  'maxAvgValueEuro': 1661375.9702469136},\n",
       " {'_id': {'CPV': '44', 'ISO_COUNTRY_CODE': 'DE'},\n",
       "  'maxAvgValueEuro': 2749801.60043778},\n",
       " {'_id': {'CPV': '9', 'ISO_COUNTRY_CODE': 'GR'},\n",
       "  'maxAvgValueEuro': 1193709.2260866014},\n",
       " {'_id': {'CPV': '35', 'ISO_COUNTRY_CODE': 'BE'},\n",
       "  'maxAvgValueEuro': 5494625.52261658},\n",
       " {'_id': {'CPV': '85', 'ISO_COUNTRY_CODE': 'LU'},\n",
       "  'maxAvgValueEuro': 1654199.864875},\n",
       " {'_id': {'CPV': '66', 'ISO_COUNTRY_CODE': 'FI'},\n",
       "  'maxAvgValueEuro': 20411263.4612628},\n",
       " {'_id': {'CPV': '41', 'ISO_COUNTRY_CODE': 'CH'},\n",
       "  'maxAvgValueEuro': 3706541.37},\n",
       " {'_id': {'CPV': '37', 'ISO_COUNTRY_CODE': 'LV'},\n",
       "  'maxAvgValueEuro': 278102.91833333333},\n",
       " {'_id': {'CPV': '55', 'ISO_COUNTRY_CODE': 'DK'},\n",
       "  'maxAvgValueEuro': 36804084.56879765},\n",
       " {'_id': {'CPV': '90', 'ISO_COUNTRY_CODE': 'BG'},\n",
       "  'maxAvgValueEuro': 825445.8816328414},\n",
       " {'_id': {'CPV': '15', 'ISO_COUNTRY_CODE': 'SK'},\n",
       "  'maxAvgValueEuro': 914921.5943176735},\n",
       " {'_id': {'CPV': '60', 'ISO_COUNTRY_CODE': 'PL'},\n",
       "  'maxAvgValueEuro': 5695766.052558181},\n",
       " {'_id': {'CPV': '55', 'ISO_COUNTRY_CODE': 'NO'},\n",
       "  'maxAvgValueEuro': 13626557.86792683},\n",
       " {'_id': {'CPV': '3', 'ISO_COUNTRY_CODE': 'IE'},\n",
       "  'maxAvgValueEuro': 800195.31425},\n",
       " {'_id': {'CPV': '24', 'ISO_COUNTRY_CODE': 'FR'},\n",
       "  'maxAvgValueEuro': 4104722.604945441},\n",
       " {'_id': {'CPV': '73', 'ISO_COUNTRY_CODE': 'LU'},\n",
       "  'maxAvgValueEuro': 3585390.194274809},\n",
       " {'_id': {'CPV': '34', 'ISO_COUNTRY_CODE': 'BG'},\n",
       "  'maxAvgValueEuro': 948986.6603157895},\n",
       " {'_id': {'CPV': '19', 'ISO_COUNTRY_CODE': 'DK'},\n",
       "  'maxAvgValueEuro': 1920027.9690361447},\n",
       " {'_id': {'CPV': '22', 'ISO_COUNTRY_CODE': 'IE'},\n",
       "  'maxAvgValueEuro': 4775892.502118226},\n",
       " {'_id': {'CPV': '44', 'ISO_COUNTRY_CODE': 'DK'},\n",
       "  'maxAvgValueEuro': 12348508.232275449},\n",
       " {'_id': {'CPV': '16', 'ISO_COUNTRY_CODE': 'MT'},\n",
       "  'maxAvgValueEuro': 56237.715},\n",
       " {'_id': {'CPV': '35', 'ISO_COUNTRY_CODE': 'LV'},\n",
       "  'maxAvgValueEuro': 547949.0922838137},\n",
       " {'_id': {'CPV': '65', 'ISO_COUNTRY_CODE': 'LV'},\n",
       "  'maxAvgValueEuro': 1544336.0196428571},\n",
       " {'_id': {'CPV': '30', 'ISO_COUNTRY_CODE': 'BG'},\n",
       "  'maxAvgValueEuro': 119312.90579337617},\n",
       " {'_id': {'CPV': '42', 'ISO_COUNTRY_CODE': 'SK'},\n",
       "  'maxAvgValueEuro': 1047999.6652941176},\n",
       " {'_id': {'CPV': '22', 'ISO_COUNTRY_CODE': 'IS'}, 'maxAvgValueEuro': None},\n",
       " {'_id': {'CPV': '80', 'ISO_COUNTRY_CODE': 'RO'},\n",
       "  'maxAvgValueEuro': 492187.9982010582},\n",
       " {'_id': {'CPV': '48', 'ISO_COUNTRY_CODE': 'LI'},\n",
       "  'maxAvgValueEuro': 926396.655},\n",
       " {'_id': {'CPV': '50', 'ISO_COUNTRY_CODE': 'SK'},\n",
       "  'maxAvgValueEuro': 3524049.9603931853},\n",
       " {'_id': {'CPV': '42', 'ISO_COUNTRY_CODE': 'IT'},\n",
       "  'maxAvgValueEuro': 1871668.7378167422},\n",
       " {'_id': {'CPV': '50', 'ISO_COUNTRY_CODE': 'BE'},\n",
       "  'maxAvgValueEuro': 5175360.950730594},\n",
       " {'_id': {'CPV': '35', 'ISO_COUNTRY_CODE': 'AT'},\n",
       "  'maxAvgValueEuro': 5415013.064757281},\n",
       " {'_id': {'CPV': '24', 'ISO_COUNTRY_CODE': 'HU'},\n",
       "  'maxAvgValueEuro': 598482.6178251122},\n",
       " {'_id': {'CPV': '42', 'ISO_COUNTRY_CODE': 'BG'},\n",
       "  'maxAvgValueEuro': 675177.3334801763},\n",
       " {'_id': {'CPV': '32', 'ISO_COUNTRY_CODE': 'LT'},\n",
       "  'maxAvgValueEuro': 1107674.6229518072},\n",
       " {'_id': {'CPV': '66', 'ISO_COUNTRY_CODE': 'DK'},\n",
       "  'maxAvgValueEuro': 2073283.7094444444},\n",
       " {'_id': {'CPV': '15', 'ISO_COUNTRY_CODE': 'CZ'},\n",
       "  'maxAvgValueEuro': 447436.1572643678},\n",
       " {'_id': {'CPV': '18', 'ISO_COUNTRY_CODE': 'CH'},\n",
       "  'maxAvgValueEuro': 587879.08},\n",
       " {'_id': {'CPV': '85', 'ISO_COUNTRY_CODE': 'CH'},\n",
       "  'maxAvgValueEuro': 1243431.285},\n",
       " {'_id': {'CPV': '39', 'ISO_COUNTRY_CODE': 'DK'},\n",
       "  'maxAvgValueEuro': 11445667.791448412},\n",
       " {'_id': {'CPV': '19', 'ISO_COUNTRY_CODE': 'FI'},\n",
       "  'maxAvgValueEuro': 575211.9439473684},\n",
       " {'_id': {'CPV': '70', 'ISO_COUNTRY_CODE': 'LU'},\n",
       "  'maxAvgValueEuro': 293340.935},\n",
       " {'_id': {'CPV': '65', 'ISO_COUNTRY_CODE': 'NO'},\n",
       "  'maxAvgValueEuro': 6107419.56875},\n",
       " {'_id': {'CPV': '75', 'ISO_COUNTRY_CODE': 'LV'}, 'maxAvgValueEuro': 216512.0},\n",
       " {'_id': {'CPV': '42', 'ISO_COUNTRY_CODE': 'SI'},\n",
       "  'maxAvgValueEuro': 890272.546127451},\n",
       " {'_id': {'CPV': '9', 'ISO_COUNTRY_CODE': 'CZ'},\n",
       "  'maxAvgValueEuro': 19918944.874927185},\n",
       " {'_id': {'CPV': '71', 'ISO_COUNTRY_CODE': 'SE'},\n",
       "  'maxAvgValueEuro': 6872387.455075056},\n",
       " {'_id': {'CPV': '64', 'ISO_COUNTRY_CODE': 'NL'},\n",
       "  'maxAvgValueEuro': 1696081.2360927153},\n",
       " {'_id': {'CPV': '98', 'ISO_COUNTRY_CODE': 'LU'},\n",
       "  'maxAvgValueEuro': 492911.1875},\n",
       " {'_id': {'CPV': '64', 'ISO_COUNTRY_CODE': 'UK'},\n",
       "  'maxAvgValueEuro': 288321732.2247071},\n",
       " {'_id': {'CPV': '33', 'ISO_COUNTRY_CODE': 'IT'},\n",
       "  'maxAvgValueEuro': 342847500.7734084},\n",
       " {'_id': {'CPV': '77', 'ISO_COUNTRY_CODE': 'IE'},\n",
       "  'maxAvgValueEuro': 1511321.9970588235},\n",
       " {'_id': {'CPV': '90', 'ISO_COUNTRY_CODE': 'LV'},\n",
       "  'maxAvgValueEuro': 1767260.3317477878},\n",
       " {'_id': {'CPV': '76', 'ISO_COUNTRY_CODE': 'IT'},\n",
       "  'maxAvgValueEuro': 23747514.896275863},\n",
       " {'_id': {'CPV': '30', 'ISO_COUNTRY_CODE': 'CY'},\n",
       "  'maxAvgValueEuro': 882994.0949382716},\n",
       " {'_id': {'CPV': '64', 'ISO_COUNTRY_CODE': 'BE'},\n",
       "  'maxAvgValueEuro': 22144207.768684212},\n",
       " {'_id': {'CPV': '42', 'ISO_COUNTRY_CODE': 'PL'},\n",
       "  'maxAvgValueEuro': 1503629.6366088453},\n",
       " {'_id': {'CPV': '34', 'ISO_COUNTRY_CODE': 'SE'},\n",
       "  'maxAvgValueEuro': 8147441.081322902},\n",
       " {'_id': {'CPV': '75', 'ISO_COUNTRY_CODE': 'EE'},\n",
       "  'maxAvgValueEuro': 1779013.7476923077},\n",
       " {'_id': {'CPV': '55', 'ISO_COUNTRY_CODE': 'ES'},\n",
       "  'maxAvgValueEuro': 17319631.755718533},\n",
       " {'_id': {'CPV': '92', 'ISO_COUNTRY_CODE': 'PL'},\n",
       "  'maxAvgValueEuro': 659464.505926106},\n",
       " {'_id': {'CPV': '48', 'ISO_COUNTRY_CODE': 'HR'},\n",
       "  'maxAvgValueEuro': 855050.0313744076},\n",
       " {'_id': {'CPV': '70', 'ISO_COUNTRY_CODE': 'HR'},\n",
       "  'maxAvgValueEuro': 626634.05},\n",
       " {'_id': {'CPV': '33', 'ISO_COUNTRY_CODE': 'UK'},\n",
       "  'maxAvgValueEuro': 29100360.992983494},\n",
       " {'_id': {'CPV': '44', 'ISO_COUNTRY_CODE': 'BE'},\n",
       "  'maxAvgValueEuro': 3524756.0763246897},\n",
       " {'_id': {'CPV': '66', 'ISO_COUNTRY_CODE': 'IT'},\n",
       "  'maxAvgValueEuro': 208508349487.47842},\n",
       " {'_id': {'CPV': '18', 'ISO_COUNTRY_CODE': 'MT'},\n",
       "  'maxAvgValueEuro': 199287.87789473686},\n",
       " {'_id': {'CPV': '18', 'ISO_COUNTRY_CODE': 'GR'},\n",
       "  'maxAvgValueEuro': 211405.7011235955},\n",
       " {'_id': {'CPV': '44', 'ISO_COUNTRY_CODE': 'LT'},\n",
       "  'maxAvgValueEuro': 1229139.2373015874},\n",
       " {'_id': {'CPV': '39', 'ISO_COUNTRY_CODE': 'IT'},\n",
       "  'maxAvgValueEuro': 1234769.9585903427},\n",
       " {'_id': {'CPV': '73', 'ISO_COUNTRY_CODE': 'BG'},\n",
       "  'maxAvgValueEuro': 440798.87302083336},\n",
       " {'_id': {'CPV': '9', 'ISO_COUNTRY_CODE': 'AT'},\n",
       "  'maxAvgValueEuro': 34223079.238235295},\n",
       " {'_id': {'CPV': '14', 'ISO_COUNTRY_CODE': 'CY'},\n",
       "  'maxAvgValueEuro': 296685.90476190473},\n",
       " {'_id': {'CPV': '00', 'ISO_COUNTRY_CODE': 'BG'},\n",
       "  'maxAvgValueEuro': 12237475.67},\n",
       " {'_id': {'CPV': '44', 'ISO_COUNTRY_CODE': 'IT'},\n",
       "  'maxAvgValueEuro': 7433810.749071804},\n",
       " {'_id': {'CPV': '18', 'ISO_COUNTRY_CODE': 'LT'},\n",
       "  'maxAvgValueEuro': 686315.7912883436},\n",
       " {'_id': {'CPV': '98', 'ISO_COUNTRY_CODE': 'NL'},\n",
       "  'maxAvgValueEuro': 4181847.861525974},\n",
       " {'_id': {'CPV': '66', 'ISO_COUNTRY_CODE': 'HR'},\n",
       "  'maxAvgValueEuro': 3322558.776954733},\n",
       " {'_id': {'CPV': '71', 'ISO_COUNTRY_CODE': 'IS'},\n",
       "  'maxAvgValueEuro': 45416175.48142857},\n",
       " {'_id': {'CPV': '64', 'ISO_COUNTRY_CODE': 'IE'},\n",
       "  'maxAvgValueEuro': 3202140.410576923},\n",
       " {'_id': {'CPV': '98', 'ISO_COUNTRY_CODE': 'AT'},\n",
       "  'maxAvgValueEuro': 6829709.705243903},\n",
       " {'_id': {'CPV': '48', 'ISO_COUNTRY_CODE': 'LT'},\n",
       "  'maxAvgValueEuro': 647304.7811722488},\n",
       " {'_id': {'CPV': '32', 'ISO_COUNTRY_CODE': 'LV'},\n",
       "  'maxAvgValueEuro': 968210.3854871794},\n",
       " {'_id': {'CPV': '9', 'ISO_COUNTRY_CODE': 'BG'},\n",
       "  'maxAvgValueEuro': 899265.0540505585},\n",
       " {'_id': {'CPV': '14', 'ISO_COUNTRY_CODE': 'LU'}, 'maxAvgValueEuro': None},\n",
       " {'_id': {'CPV': '24', 'ISO_COUNTRY_CODE': 'FI'},\n",
       "  'maxAvgValueEuro': 1188802.2463949844},\n",
       " {'_id': {'CPV': '31', 'ISO_COUNTRY_CODE': 'HU'},\n",
       "  'maxAvgValueEuro': 5391372.665449871},\n",
       " {'_id': {'CPV': '42', 'ISO_COUNTRY_CODE': 'DK'},\n",
       "  'maxAvgValueEuro': 66806076.80148325},\n",
       " {'_id': {'CPV': '44', 'ISO_COUNTRY_CODE': 'NO'},\n",
       "  'maxAvgValueEuro': 2102437.2097368417},\n",
       " {'_id': {'CPV': '3', 'ISO_COUNTRY_CODE': 'IS'},\n",
       "  'maxAvgValueEuro': 1444554.712},\n",
       " {'_id': {'CPV': '92', 'ISO_COUNTRY_CODE': 'BE'},\n",
       "  'maxAvgValueEuro': 4808298.18248848},\n",
       " {'_id': {'CPV': '98', 'ISO_COUNTRY_CODE': 'CZ'},\n",
       "  'maxAvgValueEuro': 657829.0372328768},\n",
       " {'_id': {'CPV': '80', 'ISO_COUNTRY_CODE': 'BG'},\n",
       "  'maxAvgValueEuro': 372338.0759327217},\n",
       " {'_id': {'CPV': '60', 'ISO_COUNTRY_CODE': 'AT'},\n",
       "  'maxAvgValueEuro': 10778235.772455622},\n",
       " {'_id': {'CPV': '35', 'ISO_COUNTRY_CODE': 'MT'},\n",
       "  'maxAvgValueEuro': 360370.74055555556},\n",
       " {'_id': {'CPV': '98', 'ISO_COUNTRY_CODE': 'IS'}, 'maxAvgValueEuro': None},\n",
       " {'_id': {'CPV': '14', 'ISO_COUNTRY_CODE': 'HU'},\n",
       "  'maxAvgValueEuro': 1356047.4416535434},\n",
       " {'_id': {'CPV': '00', 'ISO_COUNTRY_CODE': 'DE'},\n",
       "  'maxAvgValueEuro': 9262435.852805343},\n",
       " {'_id': {'CPV': '32', 'ISO_COUNTRY_CODE': 'SK'},\n",
       "  'maxAvgValueEuro': 12028857.050537635},\n",
       " {'_id': {'CPV': '39', 'ISO_COUNTRY_CODE': 'ES'},\n",
       "  'maxAvgValueEuro': 39223321.23851555},\n",
       " {'_id': {'CPV': '19', 'ISO_COUNTRY_CODE': 'IT'},\n",
       "  'maxAvgValueEuro': 3058884.604318182},\n",
       " {'_id': {'CPV': '76', 'ISO_COUNTRY_CODE': 'MK'},\n",
       "  'maxAvgValueEuro': 542008.38},\n",
       " {'_id': {'CPV': '18', 'ISO_COUNTRY_CODE': 'CY'},\n",
       "  'maxAvgValueEuro': 290212.0915789474},\n",
       " {'_id': {'CPV': '79', 'ISO_COUNTRY_CODE': 'ES'},\n",
       "  'maxAvgValueEuro': 2755363.7195588015},\n",
       " {'_id': {'CPV': '72', 'ISO_COUNTRY_CODE': 'GR'},\n",
       "  'maxAvgValueEuro': 1287747.2675566343},\n",
       " {'_id': {'CPV': '41', 'ISO_COUNTRY_CODE': 'BE'},\n",
       "  'maxAvgValueEuro': 4267712.874705883},\n",
       " {'_id': {'CPV': '24', 'ISO_COUNTRY_CODE': 'NO'},\n",
       "  'maxAvgValueEuro': 1970899.8719444445},\n",
       " {'_id': {'CPV': '64', 'ISO_COUNTRY_CODE': 'FI'},\n",
       "  'maxAvgValueEuro': 6174689.192238094},\n",
       " {'_id': {'CPV': '00', 'ISO_COUNTRY_CODE': 'BE'},\n",
       "  'maxAvgValueEuro': 2506628.2714285715},\n",
       " {'_id': {'CPV': '45', 'ISO_COUNTRY_CODE': 'LI'},\n",
       "  'maxAvgValueEuro': 2062374.3880487804},\n",
       " {'_id': {'CPV': '34', 'ISO_COUNTRY_CODE': 'SK'},\n",
       "  'maxAvgValueEuro': 6226080.617244797},\n",
       " {'_id': {'CPV': '18', 'ISO_COUNTRY_CODE': 'PT'},\n",
       "  'maxAvgValueEuro': 329064.6039310345},\n",
       " {'_id': {'CPV': '16', 'ISO_COUNTRY_CODE': 'HU'},\n",
       "  'maxAvgValueEuro': 434888.4890974729},\n",
       " {'_id': {'CPV': '00', 'ISO_COUNTRY_CODE': 'ES'},\n",
       "  'maxAvgValueEuro': 1834941.4851226415},\n",
       " {'_id': {'CPV': '90', 'ISO_COUNTRY_CODE': 'DE'},\n",
       "  'maxAvgValueEuro': 6776546419.41874},\n",
       " {'_id': {'CPV': '43', 'ISO_COUNTRY_CODE': 'CH'},\n",
       "  'maxAvgValueEuro': 107769.34},\n",
       " {'_id': {'CPV': '37', 'ISO_COUNTRY_CODE': 'HR'},\n",
       "  'maxAvgValueEuro': 374193.24894736847},\n",
       " {'_id': {'CPV': '90', 'ISO_COUNTRY_CODE': 'FI'},\n",
       "  'maxAvgValueEuro': 1967215.8151989488},\n",
       " {'_id': {'CPV': '65', 'ISO_COUNTRY_CODE': 'PL'},\n",
       "  'maxAvgValueEuro': 1562365.3821719603},\n",
       " {'_id': {'CPV': '98', 'ISO_COUNTRY_CODE': 'MK'},\n",
       "  'maxAvgValueEuro': 935218.0539999999},\n",
       " {'_id': {'CPV': '76', 'ISO_COUNTRY_CODE': 'SE'},\n",
       "  'maxAvgValueEuro': 404834.0733333333},\n",
       " {'_id': {'CPV': '45', 'ISO_COUNTRY_CODE': 'UK'},\n",
       "  'maxAvgValueEuro': 327476327.3056549},\n",
       " {'_id': {'CPV': '75', 'ISO_COUNTRY_CODE': 'SK'},\n",
       "  'maxAvgValueEuro': 1683428.13},\n",
       " {'_id': {'CPV': '30', 'ISO_COUNTRY_CODE': 'ES'},\n",
       "  'maxAvgValueEuro': 6083877.138287435},\n",
       " {'_id': {'CPV': '35', 'ISO_COUNTRY_CODE': 'HR'},\n",
       "  'maxAvgValueEuro': 1306821.9557971014},\n",
       " {'_id': {'CPV': '30', 'ISO_COUNTRY_CODE': 'SK'},\n",
       "  'maxAvgValueEuro': 3651773.3929171977},\n",
       " {'_id': {'CPV': '00', 'ISO_COUNTRY_CODE': 'PL'},\n",
       "  'maxAvgValueEuro': 1376073.4944285713},\n",
       " {'_id': {'CPV': '43', 'ISO_COUNTRY_CODE': 'BE'},\n",
       "  'maxAvgValueEuro': 780578.1804255318},\n",
       " {'_id': {'CPV': '60', 'ISO_COUNTRY_CODE': 'HR'},\n",
       "  'maxAvgValueEuro': 3823909.875435435},\n",
       " {'_id': {'CPV': '72', 'ISO_COUNTRY_CODE': 'ES'},\n",
       "  'maxAvgValueEuro': 3426603.332089976},\n",
       " {'_id': {'CPV': '44', 'ISO_COUNTRY_CODE': 'GR'},\n",
       "  'maxAvgValueEuro': 794743.7062371133},\n",
       " {'_id': {'CPV': '35', 'ISO_COUNTRY_CODE': 'FR'},\n",
       "  'maxAvgValueEuro': 3264647.0974455955},\n",
       " {'_id': {'CPV': '66', 'ISO_COUNTRY_CODE': 'DE'},\n",
       "  'maxAvgValueEuro': 10724727.524130434},\n",
       " {'_id': {'CPV': '9', 'ISO_COUNTRY_CODE': 'NL'},\n",
       "  'maxAvgValueEuro': 2137376.2238943893},\n",
       " {'_id': {'CPV': '73', 'ISO_COUNTRY_CODE': 'MK'},\n",
       "  'maxAvgValueEuro': 119067.6625},\n",
       " {'_id': {'CPV': '64', 'ISO_COUNTRY_CODE': 'IT'},\n",
       "  'maxAvgValueEuro': 13396433.181016598},\n",
       " {'_id': {'CPV': '92', 'ISO_COUNTRY_CODE': 'DK'},\n",
       "  'maxAvgValueEuro': 614045.1157142856},\n",
       " {'_id': {'CPV': '55', 'ISO_COUNTRY_CODE': 'LV'},\n",
       "  'maxAvgValueEuro': 700820.5657009345},\n",
       " {'_id': {'CPV': '48', 'ISO_COUNTRY_CODE': 'MK'},\n",
       "  'maxAvgValueEuro': 300034.3724489796},\n",
       " {'_id': {'CPV': '9', 'ISO_COUNTRY_CODE': 'IT'},\n",
       "  'maxAvgValueEuro': 32302469.621927295},\n",
       " {'_id': {'CPV': '38', 'ISO_COUNTRY_CODE': 'UK'},\n",
       "  'maxAvgValueEuro': 12888326.690202396},\n",
       " {'_id': {'CPV': '70', 'ISO_COUNTRY_CODE': 'LV'},\n",
       "  'maxAvgValueEuro': 792998.4369767442},\n",
       " {'_id': {'CPV': '76', 'ISO_COUNTRY_CODE': 'HR'},\n",
       "  'maxAvgValueEuro': 9341273.241666667},\n",
       " {'_id': {'CPV': '30', 'ISO_COUNTRY_CODE': 'MT'},\n",
       "  'maxAvgValueEuro': 519578.58611650486},\n",
       " {'_id': {'CPV': '66', 'ISO_COUNTRY_CODE': 'RO'},\n",
       "  'maxAvgValueEuro': 2467268.5044799056},\n",
       " {'_id': {'CPV': '15', 'ISO_COUNTRY_CODE': 'LV'},\n",
       "  'maxAvgValueEuro': 643731.8319708925},\n",
       " {'_id': {'CPV': '85', 'ISO_COUNTRY_CODE': 'NL'},\n",
       "  'maxAvgValueEuro': 15418929.190534592},\n",
       " {'_id': {'CPV': '79', 'ISO_COUNTRY_CODE': 'NO'},\n",
       "  'maxAvgValueEuro': 4429861.951014344},\n",
       " {'_id': {'CPV': '92', 'ISO_COUNTRY_CODE': 'HU'},\n",
       "  'maxAvgValueEuro': 828042.513150685},\n",
       " {'_id': {'CPV': '98', 'ISO_COUNTRY_CODE': 'ES'},\n",
       "  'maxAvgValueEuro': 6406464.5162916295},\n",
       " {'_id': {'CPV': '51', 'ISO_COUNTRY_CODE': 'SI'},\n",
       "  'maxAvgValueEuro': 1274436.57},\n",
       " {'_id': {'CPV': '18', 'ISO_COUNTRY_CODE': 'SK'},\n",
       "  'maxAvgValueEuro': 1626799.3876923078},\n",
       " {'_id': {'CPV': '35', 'ISO_COUNTRY_CODE': 'CZ'},\n",
       "  'maxAvgValueEuro': 964192.700527523},\n",
       " {'_id': {'CPV': '24', 'ISO_COUNTRY_CODE': 'LU'},\n",
       "  'maxAvgValueEuro': 630040.54},\n",
       " {'_id': {'CPV': '73', 'ISO_COUNTRY_CODE': 'NL'},\n",
       "  'maxAvgValueEuro': 752202.5955691057},\n",
       " {'_id': {'CPV': '55', 'ISO_COUNTRY_CODE': 'PL'},\n",
       "  'maxAvgValueEuro': 352771.2040760668},\n",
       " {'_id': {'CPV': '77', 'ISO_COUNTRY_CODE': 'LT'},\n",
       "  'maxAvgValueEuro': 2073044.6711308206},\n",
       " {'_id': {'CPV': '80', 'ISO_COUNTRY_CODE': 'SK'},\n",
       "  'maxAvgValueEuro': 707816.6865106383},\n",
       " {'_id': {'CPV': '22', 'ISO_COUNTRY_CODE': 'LT'},\n",
       "  'maxAvgValueEuro': 374948.60083333333},\n",
       " {'_id': {'CPV': '77', 'ISO_COUNTRY_CODE': 'RO'},\n",
       "  'maxAvgValueEuro': 951007.501765873},\n",
       " {'_id': {'CPV': '24', 'ISO_COUNTRY_CODE': 'GR'},\n",
       "  'maxAvgValueEuro': 1146609.3279701492},\n",
       " {'_id': {'CPV': '14', 'ISO_COUNTRY_CODE': 'NO'},\n",
       "  'maxAvgValueEuro': 1691168.3218750001},\n",
       " {'_id': {'CPV': '65', 'ISO_COUNTRY_CODE': 'NL'},\n",
       "  'maxAvgValueEuro': 9411350.7215625},\n",
       " {'_id': {'CPV': '70', 'ISO_COUNTRY_CODE': 'DE'},\n",
       "  'maxAvgValueEuro': 6966276.917321429},\n",
       " {'_id': {'CPV': '35', 'ISO_COUNTRY_CODE': 'EE'},\n",
       "  'maxAvgValueEuro': 1185059.685},\n",
       " {'_id': {'CPV': '65', 'ISO_COUNTRY_CODE': 'AT'},\n",
       "  'maxAvgValueEuro': 5598353.911666666},\n",
       " {'_id': {'CPV': '63', 'ISO_COUNTRY_CODE': 'IE'},\n",
       "  'maxAvgValueEuro': 9786889.87225},\n",
       " {'_id': {'CPV': '73', 'ISO_COUNTRY_CODE': 'PL'},\n",
       "  'maxAvgValueEuro': 46189591491215.945},\n",
       " {'_id': {'CPV': '41', 'ISO_COUNTRY_CODE': 'RO'},\n",
       "  'maxAvgValueEuro': 857778.38},\n",
       " {'_id': {'CPV': '48', 'ISO_COUNTRY_CODE': 'UK'},\n",
       "  'maxAvgValueEuro': 217439517.1866859},\n",
       " {'_id': {'CPV': '41', 'ISO_COUNTRY_CODE': 'EE'}, 'maxAvgValueEuro': 118750.0},\n",
       " {'_id': {'CPV': '9', 'ISO_COUNTRY_CODE': 'LU'},\n",
       "  'maxAvgValueEuro': 2041642.686},\n",
       " {'_id': {'CPV': '38', 'ISO_COUNTRY_CODE': 'CY'},\n",
       "  'maxAvgValueEuro': 268711.8939726028},\n",
       " {'_id': {'CPV': '98', 'ISO_COUNTRY_CODE': 'PT'},\n",
       "  'maxAvgValueEuro': 4485344.180254777},\n",
       " {'_id': {'CPV': '44', 'ISO_COUNTRY_CODE': 'HR'},\n",
       "  'maxAvgValueEuro': 2261832.518083832},\n",
       " {'_id': {'CPV': '55', 'ISO_COUNTRY_CODE': 'SK'},\n",
       "  'maxAvgValueEuro': 2720976.688992806},\n",
       " {'_id': {'CPV': '19', 'ISO_COUNTRY_CODE': 'PL'},\n",
       "  'maxAvgValueEuro': 1196685.883540925},\n",
       " {'_id': {'CPV': '31', 'ISO_COUNTRY_CODE': 'EE'},\n",
       "  'maxAvgValueEuro': 1860944.7341924398},\n",
       " {'_id': {'CPV': '63', 'ISO_COUNTRY_CODE': 'RO'},\n",
       "  'maxAvgValueEuro': 1278125.4976033058},\n",
       " {'_id': {'CPV': '30', 'ISO_COUNTRY_CODE': 'CZ'},\n",
       "  'maxAvgValueEuro': 569037.9907420208},\n",
       " {'_id': {'CPV': '18', 'ISO_COUNTRY_CODE': 'EE'},\n",
       "  'maxAvgValueEuro': 456180.4412121212},\n",
       " {'_id': {'CPV': '92', 'ISO_COUNTRY_CODE': 'LT'},\n",
       "  'maxAvgValueEuro': 236614.04675000004},\n",
       " ...]"
      ]
     },
     "execution_count": 21,
     "metadata": {},
     "output_type": "execute_result"
    }
   ],
   "source": [
    "result_7"
   ]
  },
  {
   "cell_type": "markdown",
   "metadata": {},
   "source": [
    "### 8 Returns bucketed data with the contract counts of a particular cpv in a given range of values (bucket) according to spending (‘VALUE_EURO’)"
   ]
  },
  {
   "cell_type": "code",
   "execution_count": 17,
   "metadata": {},
   "outputs": [],
   "source": [
    "query1={\n",
    "    \"$bucket\": {\n",
    "      \"groupBy\": \"$VALUE_EURO\",                        #// Field to group by\n",
    "      \"boundaries\": [0,1000000, 2000000, 3000000, 4000000, 5000000,6000000,7000000,8000000,9000000,10000000 ], #// Boundaries\n",
    "      \"default\": \">10Mil\",                             #// Bucket id for documents which do not fall into a bucket\n",
    "      \"output\": {                                     #// Output for each bucket\n",
    "        \"count\": { \"$sum\": 1 }}}}\n",
    "\n",
    "pipeline=[query1]\n",
    "result_8=list(db.eue.aggregate(pipeline))"
   ]
  },
  {
   "cell_type": "code",
   "execution_count": 107,
   "metadata": {},
   "outputs": [
    {
     "data": {
      "text/plain": [
       "[{'_id': 0, 'count': 1968422},\n",
       " {'_id': 1000000, 'count': 374742},\n",
       " {'_id': 2000000, 'count': 158206},\n",
       " {'_id': 3000000, 'count': 98708},\n",
       " {'_id': 4000000, 'count': 66676},\n",
       " {'_id': 5000000, 'count': 56835},\n",
       " {'_id': 6000000, 'count': 38594},\n",
       " {'_id': 7000000, 'count': 29199},\n",
       " {'_id': 8000000, 'count': 26977},\n",
       " {'_id': 9000000, 'count': 20178},\n",
       " {'_id': '>10Mil', 'count': 2724876}]"
      ]
     },
     "execution_count": 107,
     "metadata": {},
     "output_type": "execute_result"
    }
   ],
   "source": [
    "result_8"
   ]
  },
  {
   "cell_type": "markdown",
   "metadata": {},
   "source": [
    "### 9 The average time and value difference for each CPV, return the highest 5 cpvs"
   ]
  },
  {
   "cell_type": "code",
   "execution_count": 126,
   "metadata": {},
   "outputs": [],
   "source": [
    "#awardDate and dispatchDate are datetime but it doesn't compute the timedifference \n",
    "\n",
    "query1={\"$project\":{\"CPV\":switch, \"awardDate\":{\"$toDate\":\"$DT_AWARD\"}, \"dispatchDate\":{\"$toDate\": \"$DT_DISPATCH\"}, \"time\":{\"$subtract\":[\"$dispatchDate\",\"$awardDate\"]},\"value\":{\"$subtract\":[\"$AWARD_VALUE_EURO\",\"$VALUE_EURO\"]}}}\n",
    "\n",
    "query2={\"$limit\":5}\n",
    "\n",
    "query2={\"$group\": {\"_id\":{\"CPV\":\"$CPV\"},\n",
    "                \"avgValueDiff\":{\"$avg\":\"$value\"},\"avgTimeDiff\":{\"$avg\":\"$time\"}}}\n",
    "\n",
    "query3={\"$sort\":{\"time\":-1}}\n",
    "\n",
    "pipeline=[query1, query2, query3]\n",
    "\n",
    "result_9=list(db.eu.aggregate(pipeline))\n",
    "\n",
    "\n",
    "\n"
   ]
  },
  {
   "cell_type": "code",
   "execution_count": 127,
   "metadata": {},
   "outputs": [
    {
     "data": {
      "text/plain": [
       "[{'_id': ObjectId('5e58fe88e3912091230e07a2'),\n",
       "  'CPV': '79',\n",
       "  'awardDate': datetime.datetime(2014, 11, 20, 0, 0),\n",
       "  'dispatchDate': datetime.datetime(2014, 12, 23, 0, 0),\n",
       "  'time': None,\n",
       "  'value': 0},\n",
       " {'_id': ObjectId('5e58fe88e3912091230e07a3'),\n",
       "  'CPV': '72',\n",
       "  'awardDate': None,\n",
       "  'dispatchDate': datetime.datetime(2017, 12, 22, 0, 0),\n",
       "  'time': None,\n",
       "  'value': None},\n",
       " {'_id': ObjectId('5e58fe88e3912091230e07a4'),\n",
       "  'CPV': '30',\n",
       "  'awardDate': datetime.datetime(2009, 10, 8, 0, 0),\n",
       "  'dispatchDate': datetime.datetime(2009, 12, 23, 0, 0),\n",
       "  'time': None,\n",
       "  'value': -125000},\n",
       " {'_id': ObjectId('5e58fe88e3912091230e07a5'),\n",
       "  'CPV': '73',\n",
       "  'awardDate': datetime.datetime(2009, 11, 27, 0, 0),\n",
       "  'dispatchDate': datetime.datetime(2009, 12, 21, 0, 0),\n",
       "  'time': None,\n",
       "  'value': 0},\n",
       " {'_id': ObjectId('5e58fe88e3912091230e07a6'),\n",
       "  'CPV': '79',\n",
       "  'awardDate': datetime.datetime(2009, 11, 26, 0, 0),\n",
       "  'dispatchDate': datetime.datetime(2009, 12, 21, 0, 0),\n",
       "  'time': None,\n",
       "  'value': -100000}]"
      ]
     },
     "execution_count": 127,
     "metadata": {},
     "output_type": "execute_result"
    }
   ],
   "source": [
    "result_9"
   ]
  },
  {
   "cell_type": "code",
   "execution_count": null,
   "metadata": {},
   "outputs": [],
   "source": []
  }
 ],
 "metadata": {
  "kernelspec": {
   "display_name": "Python 3",
   "language": "python",
   "name": "python3"
  },
  "language_info": {
   "codemirror_mode": {
    "name": "ipython",
    "version": 3
   },
   "file_extension": ".py",
   "mimetype": "text/x-python",
   "name": "python",
   "nbconvert_exporter": "python",
   "pygments_lexer": "ipython3",
   "version": "3.7.3"
  }
 },
 "nbformat": 4,
 "nbformat_minor": 4
}
