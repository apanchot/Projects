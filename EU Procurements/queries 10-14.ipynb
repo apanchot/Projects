{
 "cells": [
  {
   "cell_type": "markdown",
   "metadata": {},
   "source": [
    "Load this and go to bottom"
   ]
  },
  {
   "cell_type": "code",
   "execution_count": null,
   "metadata": {},
   "outputs": [],
   "source": []
  },
  {
   "cell_type": "code",
   "execution_count": 32,
   "metadata": {},
   "outputs": [],
   "source": [
    "from pymongo import MongoClient"
   ]
  },
  {
   "cell_type": "code",
   "execution_count": 33,
   "metadata": {},
   "outputs": [],
   "source": [
    "host=\"rhea.isegi.unl.pt\"\n",
    "port=\"28005\"\n",
    "user=\"GROUP_5\"\n",
    "password=\"MzA0MTk3MTEwNTM2Mzg3NTY4MzMxODIzODUzNzQzNzcwOTAwNjkz\"\n",
    "protocol=\"mongodb\"\n",
    "client = MongoClient(f\"{protocol}://{user}:{password}@{host}:{port}\")"
   ]
  },
  {
   "cell_type": "code",
   "execution_count": 34,
   "metadata": {},
   "outputs": [
    {
     "name": "stdout",
     "output_type": "stream",
     "text": [
      "Database info: Database(MongoClient(host=['rhea.isegi.unl.pt:28005'], document_class=dict, tz_aware=False, connect=True), 'contracts')\n",
      "\n"
     ]
    }
   ],
   "source": [
    "db = client.contracts\n",
    "print(f\"Database info: {db}\\n\")"
   ]
  },
  {
   "cell_type": "markdown",
   "metadata": {},
   "source": [
    "Go to bottom for 14"
   ]
  },
  {
   "cell_type": "code",
   "execution_count": null,
   "metadata": {},
   "outputs": [],
   "source": []
  },
  {
   "cell_type": "code",
   "execution_count": null,
   "metadata": {},
   "outputs": [],
   "source": []
  },
  {
   "cell_type": "code",
   "execution_count": 4,
   "metadata": {},
   "outputs": [
    {
     "name": "stderr",
     "output_type": "stream",
     "text": [
      "//anaconda3/lib/python3.7/site-packages/ipykernel_launcher.py:1: DeprecationWarning: count is deprecated. Use Collection.count_documents instead.\n",
      "  \"\"\"Entry point for launching an IPython kernel.\n"
     ]
    },
    {
     "data": {
      "text/plain": [
       "5563425"
      ]
     },
     "execution_count": 4,
     "metadata": {},
     "output_type": "execute_result"
    }
   ],
   "source": [
    "result1 = db.eu.find().count()\n",
    "result1"
   ]
  },
  {
   "cell_type": "code",
   "execution_count": null,
   "metadata": {},
   "outputs": [],
   "source": []
  },
  {
   "cell_type": "code",
   "execution_count": null,
   "metadata": {},
   "outputs": [],
   "source": []
  },
  {
   "cell_type": "code",
   "execution_count": 5,
   "metadata": {},
   "outputs": [
    {
     "data": {
      "text/plain": [
       "{'_id': ObjectId('5e58fe88e3912091230e07a2'),\n",
       " 'ID_NOTICE_CAN': 20157,\n",
       " 'TED_NOTICE_URL': 'ted.europa.eu/udl?uri=TED:NOTICE:7-2015:TEXT:EN:HTML',\n",
       " 'YEAR': 2015,\n",
       " 'ID_TYPE': 3,\n",
       " 'DT_DISPATCH': '23-DEC-14',\n",
       " 'XSD_VERSION': 'R208.S2',\n",
       " 'CANCELLED': 0,\n",
       " 'CORRECTIONS': 0,\n",
       " 'CAE_NAME': 'European Union Agency for Law Enforcement Training (CEPOL)',\n",
       " 'CAE_ADDRESS': 'Ó utca 27.',\n",
       " 'CAE_TOWN': 'Budapest',\n",
       " 'CAE_POSTAL_CODE': 1066,\n",
       " 'CAE_GPA_ANNEX': 'A1EUN',\n",
       " 'ISO_COUNTRY_CODE': 'HU',\n",
       " 'ISO_COUNTRY_CODE_GPA': 'EU',\n",
       " 'CAE_TYPE': 5,\n",
       " 'EU_INST_CODE': 'AG',\n",
       " 'MAIN_ACTIVITY': 'Public Order and Safety',\n",
       " 'B_ON_BEHALF': 'N',\n",
       " 'TYPE_OF_CONTRACT': 'S',\n",
       " 'TAL_LOCATION_NUTS': 'HU101;HU102',\n",
       " 'B_FRA_AGREEMENT': 'Y',\n",
       " 'B_FRA_CONTRACT': 'Y',\n",
       " 'CPV': 79620000,\n",
       " 'MAIN_CPV_CODE_GPA': 796,\n",
       " 'ADDITIONAL_CPVS': '79621000---79612000---79610000---79600000---79611000',\n",
       " 'B_GPA': 'N',\n",
       " 'GPA_COVERAGE': 2,\n",
       " 'LOTS_NUMBER': 0,\n",
       " 'VALUE_EURO': 400000,\n",
       " 'VALUE_EURO_FIN_1': 400000,\n",
       " 'VALUE_EURO_FIN_2': 400000,\n",
       " 'B_EU_FUNDS': 'N',\n",
       " 'TOP_TYPE': 'OPE',\n",
       " 'OUT_OF_DIRECTIVES': 0,\n",
       " 'CRIT_CODE': 'L',\n",
       " 'CRIT_PRICE_WEIGHT': 100,\n",
       " 'B_ELECTRONIC_AUCTION': 'N',\n",
       " 'NUMBER_AWARDS': 1,\n",
       " 'ID_AWARD': 6630331,\n",
       " 'INFO_UNPUBLISHED': 'N',\n",
       " 'WIN_NAME': 'Manpower Munkaerő-Szervezési Kft',\n",
       " 'WIN_ADDRESS': 'Váci street 76.',\n",
       " 'WIN_TOWN': 'Budapest',\n",
       " 'WIN_POSTAL_CODE': 1133,\n",
       " 'WIN_COUNTRY_CODE': 'HU',\n",
       " 'CONTRACT_NUMBER': 'CEPOL/CT/2014/028',\n",
       " 'NUMBER_OFFERS': 1,\n",
       " 'AWARD_EST_VALUE_EURO': 400000,\n",
       " 'AWARD_VALUE_EURO': 400000,\n",
       " 'AWARD_VALUE_EURO_FIN_1': 400000,\n",
       " 'B_SUBCONTRACTED': 'N',\n",
       " 'DT_AWARD': '20-NOV-14',\n",
       " 'CPV_switch': \"{'$switch': {'branches': [{'case': {'$lt': ['$CPV', 1000000]}, 'then': '00'}, {'case': {'$lt': ['$CPV', 10000000]}, 'then': {'$concat': ['0', {'$substr': ['$CPV', 0, 1]}]}}], 'default': {'$substr': ['$CPV', 0, 2]}}}\",\n",
       " 'CPV_DIVISION': '79',\n",
       " 'CPV_DIVISION_DESCRIPTION': 'Business services: law, marketing, consulting, recruitment, printing and security'}"
      ]
     },
     "execution_count": 5,
     "metadata": {},
     "output_type": "execute_result"
    }
   ],
   "source": [
    "db.eu.find_one()"
   ]
  },
  {
   "cell_type": "code",
   "execution_count": 9,
   "metadata": {},
   "outputs": [],
   "source": [
    "countries = ['NO', 'HR', 'HU', 'CH', 'CZ', 'RO', 'LV', 'GR', 'UK', 'SI', 'LT',\n",
    "             'ES', 'FR', 'IE', 'SE', 'NL', 'PT', 'PL', 'DK', 'MK', 'DE', 'IT',\n",
    "             'BG', 'CY', 'AT', 'LU', 'BE', 'FI', 'EE', 'SK', 'MT', 'LI', 'IS']"
   ]
  },
  {
   "cell_type": "code",
   "execution_count": null,
   "metadata": {},
   "outputs": [],
   "source": []
  },
  {
   "cell_type": "code",
   "execution_count": null,
   "metadata": {},
   "outputs": [],
   "source": []
  },
  {
   "cell_type": "code",
   "execution_count": null,
   "metadata": {},
   "outputs": [],
   "source": []
  },
  {
   "cell_type": "code",
   "execution_count": null,
   "metadata": {},
   "outputs": [],
   "source": []
  },
  {
   "cell_type": "markdown",
   "metadata": {},
   "source": [
    "# 10"
   ]
  },
  {
   "cell_type": "markdown",
   "metadata": {},
   "source": [
    "## 1"
   ]
  },
  {
   "cell_type": "code",
   "execution_count": 290,
   "metadata": {},
   "outputs": [],
   "source": [
    "def year_country_filter_noavg(bot_year, top_year, country_list):\n",
    "    filter_ = {\n",
    "        '$match': {\n",
    "            '$and': [{\"YEAR\": {'$gte': bot_year}}, {\"YEAR\": {'$lte': top_year}}],\n",
    "            \"ISO_COUNTRY_CODE\": { '$in': country_list },\n",
    "            'avg': {'$gte': 1000, '$lte' : 100000000}\n",
    "                  }\n",
    "              }\n",
    "\n",
    "    return filter_"
   ]
  },
  {
   "cell_type": "code",
   "execution_count": 291,
   "metadata": {},
   "outputs": [],
   "source": [
    "countries = ['NO', 'HR', 'HU', 'CH', 'CZ', 'RO', 'LV', 'GR', 'UK', 'SI', 'LT',\n",
    "             'ES', 'FR', 'IE', 'SE', 'NL', 'PT', 'PL', 'DK', 'MK', 'DE', 'IT',\n",
    "             'BG', 'CY', 'AT', 'LU', 'BE', 'FI', 'EE', 'SK', 'MT', 'LI', 'IS']"
   ]
  },
  {
   "cell_type": "code",
   "execution_count": 292,
   "metadata": {},
   "outputs": [],
   "source": [
    "\n",
    "query1={\"$group\": {\"_id\":{\"ISO_COUNTRY_CODE\":\"$ISO_COUNTRY_CODE\"},\n",
    "                \"sumContractValue\":{\"$sum\":\"$VALUE_EURO\"},\n",
    "                   \"avgContractValue\":{\"$avg\":\"$VALUE_EURO\"}\n",
    "                 }\n",
    "       }\n",
    "\n",
    "query2={\"$group\": {\"_id\":{},\n",
    "                \"avgContractValues\":{\"$avg\":\"$avgContractValue\"}\n",
    "                 }\n",
    "       }\n",
    "\n",
    "\n",
    "\n",
    "#result_10_1=list(db.eu.aggregate([query1,query2]))"
   ]
  },
  {
   "cell_type": "code",
   "execution_count": null,
   "metadata": {},
   "outputs": [],
   "source": []
  },
  {
   "cell_type": "code",
   "execution_count": 293,
   "metadata": {
    "scrolled": true
   },
   "outputs": [
    {
     "name": "stdout",
     "output_type": "stream",
     "text": [
      "CPU times: user 3.45 ms, sys: 1.96 ms, total: 5.41 ms\n",
      "Wall time: 10.2 s\n"
     ]
    }
   ],
   "source": [
    "%%time\n",
    "result_10_1=list(db.eu.aggregate([year_country_filter_noavg(2010, 2020, countriesl),query1]))"
   ]
  },
  {
   "cell_type": "code",
   "execution_count": 294,
   "metadata": {},
   "outputs": [
    {
     "data": {
      "text/plain": [
       "[]"
      ]
     },
     "execution_count": 294,
     "metadata": {},
     "output_type": "execute_result"
    }
   ],
   "source": [
    "result_10_1"
   ]
  },
  {
   "cell_type": "code",
   "execution_count": 289,
   "metadata": {},
   "outputs": [
    {
     "data": {
      "text/plain": [
       "122762450973.0625"
      ]
     },
     "execution_count": 289,
     "metadata": {},
     "output_type": "execute_result"
    }
   ],
   "source": [
    "480223954633400.75\n",
    "480101192182427.7"
   ]
  },
  {
   "cell_type": "markdown",
   "metadata": {},
   "source": [
    "## 2"
   ]
  },
  {
   "cell_type": "code",
   "execution_count": 36,
   "metadata": {},
   "outputs": [],
   "source": [
    "\n",
    "query1={\"$group\": {\"_id\":{\"ISO_COUNTRY_CODE\":\"$ISO_COUNTRY_CODE\"},\n",
    "                \"count\":{\"$sum\":1}\n",
    "                 }\n",
    "       }\n",
    "\n",
    "query2={\"$group\": {\"_id\":{},\n",
    "                \"avgContractValues\":{\"$avg\":\"$count\"}\n",
    "                 }\n",
    "       }\n",
    "\n",
    "\n",
    "\n",
    "result_10_2=list(db.eu.aggregate([query1,query2]))"
   ]
  },
  {
   "cell_type": "code",
   "execution_count": 37,
   "metadata": {},
   "outputs": [
    {
     "data": {
      "text/plain": [
       "[{'_id': {'ISO_COUNTRY_CODE': 'GR'}, 'count': 48069},\n",
       " {'_id': {'ISO_COUNTRY_CODE': 'CH'}, 'count': 25209},\n",
       " {'_id': {'ISO_COUNTRY_CODE': 'NO'}, 'count': 39049},\n",
       " {'_id': {'ISO_COUNTRY_CODE': 'SK'}, 'count': 40809},\n",
       " {'_id': {'ISO_COUNTRY_CODE': 'SE'}, 'count': 112423},\n",
       " {'_id': {'ISO_COUNTRY_CODE': 'LT'}, 'count': 117109},\n",
       " {'_id': {'ISO_COUNTRY_CODE': 'HR'}, 'count': 40462},\n",
       " {'_id': {'ISO_COUNTRY_CODE': 'BG'}, 'count': 140977},\n",
       " {'_id': {'ISO_COUNTRY_CODE': 'DK'}, 'count': 64496},\n",
       " {'_id': {'ISO_COUNTRY_CODE': 'NL'}, 'count': 79061},\n",
       " {'_id': {'ISO_COUNTRY_CODE': 'SI'}, 'count': 150639},\n",
       " {'_id': {'ISO_COUNTRY_CODE': 'AT'}, 'count': 37616},\n",
       " {'_id': {'ISO_COUNTRY_CODE': 'MK'}, 'count': 9678},\n",
       " {'_id': {'ISO_COUNTRY_CODE': 'ES'}, 'count': 251927},\n",
       " {'_id': {'ISO_COUNTRY_CODE': 'RO'}, 'count': 297141},\n",
       " {'_id': {'ISO_COUNTRY_CODE': 'FI'}, 'count': 70955},\n",
       " {'_id': {'ISO_COUNTRY_CODE': 'LV'}, 'count': 123398},\n",
       " {'_id': {'ISO_COUNTRY_CODE': 'LI'}, 'count': 346},\n",
       " {'_id': {'ISO_COUNTRY_CODE': 'PL'}, 'count': 1238186},\n",
       " {'_id': {'ISO_COUNTRY_CODE': 'MT'}, 'count': 4548},\n",
       " {'_id': {'ISO_COUNTRY_CODE': 'UK'}, 'count': 386501},\n",
       " {'_id': {'ISO_COUNTRY_CODE': 'IE'}, 'count': 32686},\n",
       " {'_id': {'ISO_COUNTRY_CODE': 'PT'}, 'count': 35912},\n",
       " {'_id': {'ISO_COUNTRY_CODE': 'CZ'}, 'count': 128369},\n",
       " {'_id': {'ISO_COUNTRY_CODE': 'LU'}, 'count': 9961},\n",
       " {'_id': {'ISO_COUNTRY_CODE': 'CY'}, 'count': 8865},\n",
       " {'_id': {'ISO_COUNTRY_CODE': 'FR'}, 'count': 1263013},\n",
       " {'_id': {'ISO_COUNTRY_CODE': 'BE'}, 'count': 77642},\n",
       " {'_id': {'ISO_COUNTRY_CODE': 'HU'}, 'count': 72794},\n",
       " {'_id': {'ISO_COUNTRY_CODE': 'IT'}, 'count': 204976},\n",
       " {'_id': {'ISO_COUNTRY_CODE': 'EE'}, 'count': 26992},\n",
       " {'_id': {'ISO_COUNTRY_CODE': 'IS'}, 'count': 1950},\n",
       " {'_id': {'ISO_COUNTRY_CODE': 'DE'}, 'count': 421613}]"
      ]
     },
     "execution_count": 37,
     "metadata": {},
     "output_type": "execute_result"
    }
   ],
   "source": [
    "list(db.eu.aggregate([query1]))"
   ]
  },
  {
   "cell_type": "code",
   "execution_count": 38,
   "metadata": {},
   "outputs": [
    {
     "data": {
      "text/plain": [
       "[{'_id': {}, 'avgContractValues': 168587.0303030303}]"
      ]
     },
     "execution_count": 38,
     "metadata": {},
     "output_type": "execute_result"
    }
   ],
   "source": [
    "result_10_2"
   ]
  },
  {
   "cell_type": "markdown",
   "metadata": {},
   "source": [
    "## 3"
   ]
  },
  {
   "cell_type": "code",
   "execution_count": 39,
   "metadata": {},
   "outputs": [],
   "source": [
    "\n",
    "query1={\"$group\": {\"_id\":{\"ISO_COUNTRY_CODE\":\"$ISO_COUNTRY_CODE\"},\n",
    "                \"avgContractValue\":{\"$avg\":\"$NUMBER_OFFERS\"}\n",
    "                 }\n",
    "       }\n",
    "\n",
    "query2={\"$group\": {\"_id\":{},\n",
    "                \"avgContractValues\":{\"$avg\":\"$avgContractValue\"}\n",
    "                 }\n",
    "       }\n",
    "\n",
    "\n",
    "\n",
    "result_10_3=list(db.eu.aggregate([query1,query2]))"
   ]
  },
  {
   "cell_type": "code",
   "execution_count": 40,
   "metadata": {},
   "outputs": [
    {
     "data": {
      "text/plain": [
       "[{'_id': {'ISO_COUNTRY_CODE': 'GR'}, 'avgContractValue': 163.6799988556061},\n",
       " {'_id': {'ISO_COUNTRY_CODE': 'SK'}, 'avgContractValue': 5.109996702571994},\n",
       " {'_id': {'ISO_COUNTRY_CODE': 'NO'}, 'avgContractValue': 6.836221965454922},\n",
       " {'_id': {'ISO_COUNTRY_CODE': 'CH'}, 'avgContractValue': 6.2310427266597195},\n",
       " {'_id': {'ISO_COUNTRY_CODE': 'SI'}, 'avgContractValue': 4.090053162801449},\n",
       " {'_id': {'ISO_COUNTRY_CODE': 'NL'}, 'avgContractValue': 8.21676767104667},\n",
       " {'_id': {'ISO_COUNTRY_CODE': 'DK'}, 'avgContractValue': 10.055110485077911},\n",
       " {'_id': {'ISO_COUNTRY_CODE': 'BG'}, 'avgContractValue': 9.339975009611688},\n",
       " {'_id': {'ISO_COUNTRY_CODE': 'MK'}, 'avgContractValue': 6.020828859780975},\n",
       " {'_id': {'ISO_COUNTRY_CODE': 'HR'}, 'avgContractValue': 2.4986937271402248},\n",
       " {'_id': {'ISO_COUNTRY_CODE': 'LT'}, 'avgContractValue': 7.503306102740469},\n",
       " {'_id': {'ISO_COUNTRY_CODE': 'SE'}, 'avgContractValue': 12.527546352566794},\n",
       " {'_id': {'ISO_COUNTRY_CODE': 'PL'}, 'avgContractValue': 2.504003245014502},\n",
       " {'_id': {'ISO_COUNTRY_CODE': 'FI'}, 'avgContractValue': 12.697435766850857},\n",
       " {'_id': {'ISO_COUNTRY_CODE': 'LI'}, 'avgContractValue': 5.027586206896552},\n",
       " {'_id': {'ISO_COUNTRY_CODE': 'RO'}, 'avgContractValue': 7.933430416979064},\n",
       " {'_id': {'ISO_COUNTRY_CODE': 'LV'}, 'avgContractValue': 9.921418491829561},\n",
       " {'_id': {'ISO_COUNTRY_CODE': 'AT'}, 'avgContractValue': 4.9623759256341575},\n",
       " {'_id': {'ISO_COUNTRY_CODE': 'CZ'}, 'avgContractValue': 4.173216123194834},\n",
       " {'_id': {'ISO_COUNTRY_CODE': 'PT'}, 'avgContractValue': 6.642302088392423},\n",
       " {'_id': {'ISO_COUNTRY_CODE': 'ES'}, 'avgContractValue': 9.265882188579557},\n",
       " {'_id': {'ISO_COUNTRY_CODE': 'UK'}, 'avgContractValue': 22.23085620746624},\n",
       " {'_id': {'ISO_COUNTRY_CODE': 'MT'}, 'avgContractValue': 4.813513513513514},\n",
       " {'_id': {'ISO_COUNTRY_CODE': 'IE'}, 'avgContractValue': 17.19168167453872},\n",
       " {'_id': {'ISO_COUNTRY_CODE': 'CY'}, 'avgContractValue': 5.056247433967428},\n",
       " {'_id': {'ISO_COUNTRY_CODE': 'LU'}, 'avgContractValue': 4.719058823529412},\n",
       " {'_id': {'ISO_COUNTRY_CODE': 'EE'}, 'avgContractValue': 6.363265110022101},\n",
       " {'_id': {'ISO_COUNTRY_CODE': 'IT'}, 'avgContractValue': 5.108465420427891},\n",
       " {'_id': {'ISO_COUNTRY_CODE': 'HU'}, 'avgContractValue': 4.7023576240048985},\n",
       " {'_id': {'ISO_COUNTRY_CODE': 'BE'}, 'avgContractValue': 4.755253677574302},\n",
       " {'_id': {'ISO_COUNTRY_CODE': 'FR'}, 'avgContractValue': 7.203999250424023},\n",
       " {'_id': {'ISO_COUNTRY_CODE': 'DE'}, 'avgContractValue': 7.607942110938616},\n",
       " {'_id': {'ISO_COUNTRY_CODE': 'IS'}, 'avgContractValue': 20.168757126567844}]"
      ]
     },
     "execution_count": 40,
     "metadata": {},
     "output_type": "execute_result"
    }
   ],
   "source": [
    "list(db.eu.aggregate([query1]))"
   ]
  },
  {
   "cell_type": "code",
   "execution_count": 41,
   "metadata": {},
   "outputs": [
    {
     "data": {
      "text/plain": [
       "[{'_id': {}, 'avgContractValues': 12.580563334769861}]"
      ]
     },
     "execution_count": 41,
     "metadata": {},
     "output_type": "execute_result"
    }
   ],
   "source": [
    "result_10_3"
   ]
  },
  {
   "cell_type": "markdown",
   "metadata": {},
   "source": [
    "## 4"
   ]
  },
  {
   "cell_type": "code",
   "execution_count": 53,
   "metadata": {},
   "outputs": [],
   "source": [
    "\n",
    "query0={\n",
    "    \"$match\" : { \"B_EU_FUNDS\":{\"$eq\":\"Y\"} }\n",
    "  }\n",
    "\n",
    "\n",
    "\n",
    "query1={\"$group\": {\"_id\":{\"ISO_COUNTRY_CODE\":\"$ISO_COUNTRY_CODE\"},\n",
    "                \"avgContractValue\":{\"$avg\":\"$VALUE_EURO\"}\n",
    "                 }\n",
    "       }\n",
    "\n",
    "query2={\"$group\": {\"_id\":{},\n",
    "                \"avgContractValues\":{\"$avg\":\"$avgContractValue\"}\n",
    "                 }\n",
    "       }\n",
    "\n",
    "\n",
    "\n",
    "result_10_4=list(db.eu.aggregate([query0,query1,query2]))"
   ]
  },
  {
   "cell_type": "code",
   "execution_count": 54,
   "metadata": {},
   "outputs": [
    {
     "data": {
      "text/plain": [
       "[{'_id': {'ISO_COUNTRY_CODE': 'PT'}, 'avgContractValue': 4018321.7538181813},\n",
       " {'_id': {'ISO_COUNTRY_CODE': 'AT'}, 'avgContractValue': 2514548.788678161},\n",
       " {'_id': {'ISO_COUNTRY_CODE': 'ES'}, 'avgContractValue': 6729511.653940457},\n",
       " {'_id': {'ISO_COUNTRY_CODE': 'RO'}, 'avgContractValue': 3580452.4946644786},\n",
       " {'_id': {'ISO_COUNTRY_CODE': 'LV'}, 'avgContractValue': 4051336.867293899},\n",
       " {'_id': {'ISO_COUNTRY_CODE': 'PL'}, 'avgContractValue': 1421186.9020061456},\n",
       " {'_id': {'ISO_COUNTRY_CODE': 'FI'}, 'avgContractValue': 2312854.2187929433},\n",
       " {'_id': {'ISO_COUNTRY_CODE': 'LT'}, 'avgContractValue': 944870.1620786854},\n",
       " {'_id': {'ISO_COUNTRY_CODE': 'SE'}, 'avgContractValue': 3922714.8203070173},\n",
       " {'_id': {'ISO_COUNTRY_CODE': 'HR'}, 'avgContractValue': 1476395.0179081631},\n",
       " {'_id': {'ISO_COUNTRY_CODE': 'DK'}, 'avgContractValue': 18497125.556284916},\n",
       " {'_id': {'ISO_COUNTRY_CODE': 'BG'}, 'avgContractValue': 1429627.2865899636},\n",
       " {'_id': {'ISO_COUNTRY_CODE': 'SI'}, 'avgContractValue': 2691244.958610287},\n",
       " {'_id': {'ISO_COUNTRY_CODE': 'NL'}, 'avgContractValue': 6828984.180959595},\n",
       " {'_id': {'ISO_COUNTRY_CODE': 'MK'}, 'avgContractValue': 64620705.76571429},\n",
       " {'_id': {'ISO_COUNTRY_CODE': 'CH'}, 'avgContractValue': None},\n",
       " {'_id': {'ISO_COUNTRY_CODE': 'SK'}, 'avgContractValue': 6756279.90362908},\n",
       " {'_id': {'ISO_COUNTRY_CODE': 'NO'}, 'avgContractValue': 2467466.19},\n",
       " {'_id': {'ISO_COUNTRY_CODE': 'GR'}, 'avgContractValue': 3987535.645600509},\n",
       " {'_id': {'ISO_COUNTRY_CODE': 'DE'}, 'avgContractValue': 1374526.9249953246},\n",
       " {'_id': {'ISO_COUNTRY_CODE': 'FR'}, 'avgContractValue': 10675211.478858119},\n",
       " {'_id': {'ISO_COUNTRY_CODE': 'HU'},\n",
       "  'avgContractValue': 1.1856694676062395e+23},\n",
       " {'_id': {'ISO_COUNTRY_CODE': 'BE'}, 'avgContractValue': 264762555617291.16},\n",
       " {'_id': {'ISO_COUNTRY_CODE': 'IT'}, 'avgContractValue': 18020596.786811203},\n",
       " {'_id': {'ISO_COUNTRY_CODE': 'EE'}, 'avgContractValue': 1037820.3244108615},\n",
       " {'_id': {'ISO_COUNTRY_CODE': 'CY'}, 'avgContractValue': 1423008.8891156462},\n",
       " {'_id': {'ISO_COUNTRY_CODE': 'LU'},\n",
       "  'avgContractValue': 3.822519380446686e+16},\n",
       " {'_id': {'ISO_COUNTRY_CODE': 'MT'}, 'avgContractValue': 1259244.3134662237},\n",
       " {'_id': {'ISO_COUNTRY_CODE': 'IE'}, 'avgContractValue': 5358577.970545746},\n",
       " {'_id': {'ISO_COUNTRY_CODE': 'UK'}, 'avgContractValue': 134753479.12980118},\n",
       " {'_id': {'ISO_COUNTRY_CODE': 'CZ'}, 'avgContractValue': 1598417.9544766967}]"
      ]
     },
     "execution_count": 54,
     "metadata": {},
     "output_type": "execute_result"
    }
   ],
   "source": [
    "list(db.eu.aggregate([query0,query1]))"
   ]
  },
  {
   "cell_type": "code",
   "execution_count": 55,
   "metadata": {},
   "outputs": [
    {
     "data": {
      "text/plain": [
       "[{'_id': {}, 'avgContractValues': 3.952232841686021e+21}]"
      ]
     },
     "execution_count": 55,
     "metadata": {},
     "output_type": "execute_result"
    }
   ],
   "source": [
    "result_10_4"
   ]
  },
  {
   "cell_type": "markdown",
   "metadata": {},
   "source": [
    "## 5"
   ]
  },
  {
   "cell_type": "code",
   "execution_count": 58,
   "metadata": {},
   "outputs": [],
   "source": [
    "\n",
    "query0={\n",
    "    \"$match\" : { \"B_EU_FUNDS\":\"N\"} #{\"$eq\":\"N\"} }\n",
    "  }\n",
    "\n",
    "\n",
    "\n",
    "query1={\"$group\": {\"_id\":{\"ISO_COUNTRY_CODE\":\"$ISO_COUNTRY_CODE\"},\n",
    "                \"avgContractValue\":{\"$avg\":\"$VALUE_EURO\"}\n",
    "                 }\n",
    "       }\n",
    "\n",
    "query2={\"$group\": {\"_id\":{},\n",
    "                \"avgContractValues\":{\"$avg\":\"$avgContractValue\"}\n",
    "                 }\n",
    "       }\n",
    "\n",
    "\n",
    "\n",
    "result_10_5=list(db.eu.aggregate([query0,query1,query2]))"
   ]
  },
  {
   "cell_type": "code",
   "execution_count": 59,
   "metadata": {},
   "outputs": [
    {
     "data": {
      "text/plain": [
       "[{'_id': {}, 'avgContractValues': 5.439355769457974e+18}]"
      ]
     },
     "execution_count": 59,
     "metadata": {},
     "output_type": "execute_result"
    }
   ],
   "source": [
    "result_10_5"
   ]
  },
  {
   "cell_type": "code",
   "execution_count": null,
   "metadata": {},
   "outputs": [],
   "source": [
    "list(db.eu.aggregate([query0,query1]))"
   ]
  },
  {
   "cell_type": "markdown",
   "metadata": {},
   "source": [
    "# 11. The count of contracts per country (‘ISO_COUNTRY_CODE’)"
   ]
  },
  {
   "cell_type": "code",
   "execution_count": 63,
   "metadata": {},
   "outputs": [],
   "source": [
    "\n",
    "query1={\"$group\": {\"_id\":{\"ISO_COUNTRY_CODE\":\"$ISO_COUNTRY_CODE\"},\n",
    "                \"count\":{\"$sum\":1}\n",
    "                 }\n",
    "       }\n",
    "\n",
    "query2={\"$group\": {\"_id\":{},\n",
    "                \"SumContracts\":{\"$sum\":\"$count\"}\n",
    "                 }\n",
    "       }\n",
    "\n",
    "\n",
    "\n",
    "result_11=list(db.eu.aggregate([query1,query2]))"
   ]
  },
  {
   "cell_type": "code",
   "execution_count": 64,
   "metadata": {},
   "outputs": [
    {
     "data": {
      "text/plain": [
       "[{'_id': {'ISO_COUNTRY_CODE': 'PT'}, 'count': 35912},\n",
       " {'_id': {'ISO_COUNTRY_CODE': 'AT'}, 'count': 37616},\n",
       " {'_id': {'ISO_COUNTRY_CODE': 'LI'}, 'count': 346},\n",
       " {'_id': {'ISO_COUNTRY_CODE': 'LV'}, 'count': 123398},\n",
       " {'_id': {'ISO_COUNTRY_CODE': 'ES'}, 'count': 251927},\n",
       " {'_id': {'ISO_COUNTRY_CODE': 'RO'}, 'count': 297141},\n",
       " {'_id': {'ISO_COUNTRY_CODE': 'FI'}, 'count': 70955},\n",
       " {'_id': {'ISO_COUNTRY_CODE': 'PL'}, 'count': 1238186},\n",
       " {'_id': {'ISO_COUNTRY_CODE': 'LT'}, 'count': 117109},\n",
       " {'_id': {'ISO_COUNTRY_CODE': 'SE'}, 'count': 112423},\n",
       " {'_id': {'ISO_COUNTRY_CODE': 'HR'}, 'count': 40462},\n",
       " {'_id': {'ISO_COUNTRY_CODE': 'DK'}, 'count': 64496},\n",
       " {'_id': {'ISO_COUNTRY_CODE': 'BG'}, 'count': 140977},\n",
       " {'_id': {'ISO_COUNTRY_CODE': 'SI'}, 'count': 150639},\n",
       " {'_id': {'ISO_COUNTRY_CODE': 'NL'}, 'count': 79061},\n",
       " {'_id': {'ISO_COUNTRY_CODE': 'MK'}, 'count': 9678},\n",
       " {'_id': {'ISO_COUNTRY_CODE': 'CH'}, 'count': 25209},\n",
       " {'_id': {'ISO_COUNTRY_CODE': 'SK'}, 'count': 40809},\n",
       " {'_id': {'ISO_COUNTRY_CODE': 'NO'}, 'count': 39049},\n",
       " {'_id': {'ISO_COUNTRY_CODE': 'GR'}, 'count': 48069},\n",
       " {'_id': {'ISO_COUNTRY_CODE': 'IS'}, 'count': 1950},\n",
       " {'_id': {'ISO_COUNTRY_CODE': 'DE'}, 'count': 421613},\n",
       " {'_id': {'ISO_COUNTRY_CODE': 'FR'}, 'count': 1263013},\n",
       " {'_id': {'ISO_COUNTRY_CODE': 'HU'}, 'count': 72794},\n",
       " {'_id': {'ISO_COUNTRY_CODE': 'BE'}, 'count': 77642},\n",
       " {'_id': {'ISO_COUNTRY_CODE': 'IT'}, 'count': 204976},\n",
       " {'_id': {'ISO_COUNTRY_CODE': 'EE'}, 'count': 26992},\n",
       " {'_id': {'ISO_COUNTRY_CODE': 'CY'}, 'count': 8865},\n",
       " {'_id': {'ISO_COUNTRY_CODE': 'LU'}, 'count': 9961},\n",
       " {'_id': {'ISO_COUNTRY_CODE': 'MT'}, 'count': 4548},\n",
       " {'_id': {'ISO_COUNTRY_CODE': 'IE'}, 'count': 32686},\n",
       " {'_id': {'ISO_COUNTRY_CODE': 'UK'}, 'count': 386501},\n",
       " {'_id': {'ISO_COUNTRY_CODE': 'CZ'}, 'count': 128369}]"
      ]
     },
     "execution_count": 64,
     "metadata": {},
     "output_type": "execute_result"
    }
   ],
   "source": [
    "list(db.eu.aggregate([query1]))"
   ]
  },
  {
   "cell_type": "code",
   "execution_count": 65,
   "metadata": {},
   "outputs": [
    {
     "data": {
      "text/plain": [
       "[{'_id': {}, 'SumContracts': 5563372}]"
      ]
     },
     "execution_count": 65,
     "metadata": {},
     "output_type": "execute_result"
    }
   ],
   "source": [
    "result_11"
   ]
  },
  {
   "cell_type": "markdown",
   "metadata": {},
   "source": [
    "# 12. Returns the average ‘VALUE_EURO’ for each country, return the highest 5 countries"
   ]
  },
  {
   "cell_type": "code",
   "execution_count": 66,
   "metadata": {},
   "outputs": [],
   "source": [
    "\n",
    "query1={\"$group\": {\"_id\":{\"ISO_COUNTRY_CODE\":\"$ISO_COUNTRY_CODE\"},\n",
    "                \"avgEuro\":{\"$avg\":\"$VALUE_EURO\"}\n",
    "                 }\n",
    "       }\n",
    "\n",
    "query2={\"$sort\":{\"avgEuro\":-1}}\n",
    "\n",
    "query3={\"$limit\":5}\n",
    "\n",
    "\n",
    "\n",
    "result_12=list(db.eu.aggregate([query1,query2,query3]))"
   ]
  },
  {
   "cell_type": "code",
   "execution_count": 67,
   "metadata": {},
   "outputs": [
    {
     "data": {
      "text/plain": [
       "[{'_id': {'ISO_COUNTRY_CODE': 'HU'}, 'avgEuro': 2.3457793956061657e+22},\n",
       " {'_id': {'ISO_COUNTRY_CODE': 'DE'}, 'avgEuro': 1.565263668670854e+20},\n",
       " {'_id': {'ISO_COUNTRY_CODE': 'BE'}, 'avgEuro': 2.796330886808232e+18},\n",
       " {'_id': {'ISO_COUNTRY_CODE': 'LU'}, 'avgEuro': 4798276236001678.0},\n",
       " {'_id': {'ISO_COUNTRY_CODE': 'GR'}, 'avgEuro': 3433382284308.2563}]"
      ]
     },
     "execution_count": 67,
     "metadata": {},
     "output_type": "execute_result"
    }
   ],
   "source": [
    "result_12"
   ]
  },
  {
   "cell_type": "markdown",
   "metadata": {},
   "source": [
    "# 13. Returns the average ‘VALUE_EURO’ for each country, return the lowest 5 countries"
   ]
  },
  {
   "cell_type": "code",
   "execution_count": 68,
   "metadata": {},
   "outputs": [],
   "source": [
    "\n",
    "query1={\"$group\": {\"_id\":{\"ISO_COUNTRY_CODE\":\"$ISO_COUNTRY_CODE\"},\n",
    "                \"avgEuro\":{\"$avg\":\"$VALUE_EURO\"}\n",
    "                 }\n",
    "       }\n",
    "\n",
    "query2={\"$sort\":{\"avgEuro\":1}}\n",
    "\n",
    "query3={\"$limit\":5}\n",
    "\n",
    "\n",
    "\n",
    "result_13=list(db.eu.aggregate([query1,query2,query3]))"
   ]
  },
  {
   "cell_type": "code",
   "execution_count": 69,
   "metadata": {},
   "outputs": [
    {
     "data": {
      "text/plain": [
       "[{'_id': {'ISO_COUNTRY_CODE': 'MK'}, 'avgEuro': 876557.29},\n",
       " {'_id': {'ISO_COUNTRY_CODE': 'BG'}, 'avgEuro': 1209211.7481247569},\n",
       " {'_id': {'ISO_COUNTRY_CODE': 'SI'}, 'avgEuro': 1212932.4157451054},\n",
       " {'_id': {'ISO_COUNTRY_CODE': 'CY'}, 'avgEuro': 1363493.8052469224},\n",
       " {'_id': {'ISO_COUNTRY_CODE': 'MT'}, 'avgEuro': 1533678.4470194138}]"
      ]
     },
     "execution_count": 69,
     "metadata": {},
     "output_type": "execute_result"
    }
   ],
   "source": [
    "result_13"
   ]
  },
  {
   "cell_type": "markdown",
   "metadata": {},
   "source": [
    "# 14. For each country get the sum of the respective contracts ‘VALUE_EURO’ which recieved european funds (‘B_EU_FUNDS’)"
   ]
  },
  {
   "cell_type": "code",
   "execution_count": 77,
   "metadata": {},
   "outputs": [],
   "source": [
    "\n",
    "query0={\n",
    "    \"$match\" : { \"B_EU_FUNDS\":\"Y\"} #{\"$eq\":\"N\"} }\n",
    "  }\n",
    "\n",
    "\n",
    "query1={\"$group\": {\"sum\":{\"$sum\":\"$VALUE_EURO\"},\n",
    "                   \"_id\":{\"ISO_COUNTRY_CODE\":\"$ISO_COUNTRY_CODE\"}\n",
    "                \n",
    "                 }\n",
    "       }\n",
    "\n",
    "\n",
    "\n",
    "\n",
    "result_14=list(db.eu.aggregate([query0,query1]))"
   ]
  },
  {
   "cell_type": "code",
   "execution_count": 78,
   "metadata": {},
   "outputs": [
    {
     "data": {
      "text/plain": [
       "[{'_id': {'ISO_COUNTRY_CODE': 'LT'}, 'sum': 9486496427.27},\n",
       " {'_id': {'ISO_COUNTRY_CODE': 'SE'}, 'sum': 894378979.03},\n",
       " {'_id': {'ISO_COUNTRY_CODE': 'LU'}, 'sum': 1.708666163059669e+19},\n",
       " {'_id': {'ISO_COUNTRY_CODE': 'HR'}, 'sum': 1157493694.04},\n",
       " {'_id': {'ISO_COUNTRY_CODE': 'DK'}, 'sum': 6621970949.15},\n",
       " {'_id': {'ISO_COUNTRY_CODE': 'BG'}, 'sum': 10996693088.45},\n",
       " {'_id': {'ISO_COUNTRY_CODE': 'SI'}, 'sum': 5441697306.31},\n",
       " {'_id': {'ISO_COUNTRY_CODE': 'NL'}, 'sum': 2704277735.66},\n",
       " {'_id': {'ISO_COUNTRY_CODE': 'MK'}, 'sum': 452344940.36},\n",
       " {'_id': {'ISO_COUNTRY_CODE': 'AT'}, 'sum': 875062978.46},\n",
       " {'_id': {'ISO_COUNTRY_CODE': 'ES'}, 'sum': 70976159414.11},\n",
       " {'_id': {'ISO_COUNTRY_CODE': 'RO'}, 'sum': 29452802221.11},\n",
       " {'_id': {'ISO_COUNTRY_CODE': 'LV'}, 'sum': 56710613468.38},\n",
       " {'_id': {'ISO_COUNTRY_CODE': 'PL'}, 'sum': 133664049320.58},\n",
       " {'_id': {'ISO_COUNTRY_CODE': 'FI'}, 'sum': 2490943993.64},\n",
       " {'_id': {'ISO_COUNTRY_CODE': 'GR'}, 'sum': 50167185957.3},\n",
       " {'_id': {'ISO_COUNTRY_CODE': 'CH'}, 'sum': 0},\n",
       " {'_id': {'ISO_COUNTRY_CODE': 'SK'}, 'sum': 33734105558.82},\n",
       " {'_id': {'ISO_COUNTRY_CODE': 'NO'}, 'sum': 27142128.09},\n",
       " {'_id': {'ISO_COUNTRY_CODE': 'FR'}, 'sum': 109474293715.69},\n",
       " {'_id': {'ISO_COUNTRY_CODE': 'HU'}, 'sum': 1.3471576490942093e+27},\n",
       " {'_id': {'ISO_COUNTRY_CODE': 'BE'}, 'sum': 8.181162968574296e+17},\n",
       " {'_id': {'ISO_COUNTRY_CODE': 'IT'}, 'sum': 72731128631.57},\n",
       " {'_id': {'ISO_COUNTRY_CODE': 'EE'}, 'sum': 6420994347.13},\n",
       " {'_id': {'ISO_COUNTRY_CODE': 'DE'}, 'sum': 13229821653.08},\n",
       " {'_id': {'ISO_COUNTRY_CODE': 'MT'}, 'sum': 1137097615.06},\n",
       " {'_id': {'ISO_COUNTRY_CODE': 'IE'}, 'sum': 3338394075.65},\n",
       " {'_id': {'ISO_COUNTRY_CODE': 'UK'}, 'sum': 1335272224697.2},\n",
       " {'_id': {'ISO_COUNTRY_CODE': 'CZ'}, 'sum': 43007033483.15},\n",
       " {'_id': {'ISO_COUNTRY_CODE': 'PT'}, 'sum': 10829377126.539999},\n",
       " {'_id': {'ISO_COUNTRY_CODE': 'CY'}, 'sum': 627546920.1}]"
      ]
     },
     "execution_count": 78,
     "metadata": {},
     "output_type": "execute_result"
    }
   ],
   "source": [
    "result_14"
   ]
  },
  {
   "cell_type": "code",
   "execution_count": 80,
   "metadata": {},
   "outputs": [],
   "source": [
    "list_documents=[]\n",
    "for document in result_14:\n",
    "    list_documents.append({\"company\": document['_id']['ISO_COUNTRY_CODE'], \"sum\": document['sum']})"
   ]
  },
  {
   "cell_type": "code",
   "execution_count": 82,
   "metadata": {},
   "outputs": [
    {
     "data": {
      "text/plain": [
       "[{'company': 'LT', 'sum': 9486496427.27},\n",
       " {'company': 'SE', 'sum': 894378979.03},\n",
       " {'company': 'LU', 'sum': 1.708666163059669e+19},\n",
       " {'company': 'HR', 'sum': 1157493694.04},\n",
       " {'company': 'DK', 'sum': 6621970949.15},\n",
       " {'company': 'BG', 'sum': 10996693088.45},\n",
       " {'company': 'SI', 'sum': 5441697306.31},\n",
       " {'company': 'NL', 'sum': 2704277735.66},\n",
       " {'company': 'MK', 'sum': 452344940.36},\n",
       " {'company': 'AT', 'sum': 875062978.46},\n",
       " {'company': 'ES', 'sum': 70976159414.11},\n",
       " {'company': 'RO', 'sum': 29452802221.11},\n",
       " {'company': 'LV', 'sum': 56710613468.38},\n",
       " {'company': 'PL', 'sum': 133664049320.58},\n",
       " {'company': 'FI', 'sum': 2490943993.64},\n",
       " {'company': 'GR', 'sum': 50167185957.3},\n",
       " {'company': 'CH', 'sum': 0},\n",
       " {'company': 'SK', 'sum': 33734105558.82},\n",
       " {'company': 'NO', 'sum': 27142128.09},\n",
       " {'company': 'FR', 'sum': 109474293715.69},\n",
       " {'company': 'HU', 'sum': 1.3471576490942093e+27},\n",
       " {'company': 'BE', 'sum': 8.181162968574296e+17},\n",
       " {'company': 'IT', 'sum': 72731128631.57},\n",
       " {'company': 'EE', 'sum': 6420994347.13},\n",
       " {'company': 'DE', 'sum': 13229821653.08},\n",
       " {'company': 'MT', 'sum': 1137097615.06},\n",
       " {'company': 'IE', 'sum': 3338394075.65},\n",
       " {'company': 'UK', 'sum': 1335272224697.2},\n",
       " {'company': 'CZ', 'sum': 43007033483.15},\n",
       " {'company': 'PT', 'sum': 10829377126.539999},\n",
       " {'company': 'CY', 'sum': 627546920.1}]"
      ]
     },
     "execution_count": 82,
     "metadata": {},
     "output_type": "execute_result"
    }
   ],
   "source": [
    "list_documents"
   ]
  },
  {
   "cell_type": "code",
   "execution_count": null,
   "metadata": {},
   "outputs": [],
   "source": []
  },
  {
   "cell_type": "code",
   "execution_count": null,
   "metadata": {},
   "outputs": [],
   "source": []
  },
  {
   "cell_type": "code",
   "execution_count": null,
   "metadata": {},
   "outputs": [],
   "source": []
  },
  {
   "cell_type": "code",
   "execution_count": 371,
   "metadata": {},
   "outputs": [],
   "source": [
    "pipeline_companies_10_to_14 = [\n",
    "                # CAE_NAME must be string, the others must be not null\n",
    "                {\"$match\": {\"ISO_COUNTRY_CODE\": {\"$ne\":\"null\"} ,\n",
    "                            \"VALUE_EURO\": {\"$ne\":\"null\"},\n",
    "                            \"YEAR\": {\"$ne\":\"null\"},\n",
    "                            'VALUE_EURO': {'$gte': 1000, '$lte' : 100000000}\n",
    "                            }\n",
    "                },\n",
    "                # project only the necessary fields\n",
    "                {\"$project\": {\n",
    "                                \"VALUE_EURO\": 1,\n",
    "                                \"ISO_COUNTRY_CODE\": 1,\n",
    "                                \"YEAR\": 1,\n",
    "                                \"NUMBER_OFFERS\": 1,\n",
    "                                \"bEuFundsYes\": {\n",
    "                                                # Set to VALUE_EURO if B_EU_FUNDS = Y\n",
    "                                            \"$cond\": [ { \"$eq\": [ \"$B_EU_FUNDS\", \"Y\" ] }, \"$VALUE_EURO\", \"null\"]\n",
    "                                                },\n",
    "                                \"bEuFundsNo\":  {\n",
    "                                                # Set to VALUE_EURO if B_EU_FUNDS = N\n",
    "                                                \"$cond\": [ { \"$eq\": [ \"$B_EU_FUNDS\", \"N\" ] }, \"$VALUE_EURO\", \"null\"]\n",
    "                                                }\n",
    "                                }\n",
    "                },\n",
    "                {\"$group\": {\"_id\": {\n",
    "                                \"year\": \"$YEAR\",\n",
    "                                \"country\": \"$ISO_COUNTRY_CODE\"\n",
    "                                    },\n",
    "                                \"avg\": {\"$avg\": \"$VALUE_EURO\"},\n",
    "                                \"sum\": {\"$sum\": \"$VALUE_EURO\"},\n",
    "                                \"count\":{\"$sum\":1},\n",
    "                                \"sum_no\": {\"$sum\": \"$NUMBER_OFFERS\"},\n",
    "                                \"sumValueBEuFundsYes\": { \"$sum\": \"$bEuFundsYes\" },\n",
    "                                \"sumValueBEuFundsNo\": { \"$sum\": \"$bEuFundsNo\" },\n",
    "                            }\n",
    "                    },\n",
    "                    # $merge to write the results out to another collection\n",
    "                    { \"$merge\": { \"into\": \"country_euro_avg\" } } ]\n",
    "\n"
   ]
  },
  {
   "cell_type": "code",
   "execution_count": 372,
   "metadata": {},
   "outputs": [],
   "source": [
    "def year_country_filter(bot_year, top_year, country_list):\n",
    "    filter_ = {\n",
    "        '$match': {\n",
    "            '$and': [{\"_id.year\": {'$gte': bot_year}}, {\"_id.year\": {'$lte': top_year}}],\n",
    "            \"_id.country\": { '$in': country_list },\n",
    "          #  'avg': {'$gte': 1000, '$lte' : 100000000}\n",
    "                  }\n",
    "              }\n",
    "\n",
    "    return filter_"
   ]
  },
  {
   "cell_type": "code",
   "execution_count": 373,
   "metadata": {},
   "outputs": [
    {
     "name": "stdout",
     "output_type": "stream",
     "text": [
      "CPU times: user 6.79 ms, sys: 3.68 ms, total: 10.5 ms\n",
      "Wall time: 24.5 s\n"
     ]
    },
    {
     "data": {
      "text/plain": [
       "<pymongo.command_cursor.CommandCursor at 0x107088e50>"
      ]
     },
     "execution_count": 373,
     "metadata": {},
     "output_type": "execute_result"
    }
   ],
   "source": [
    "%%time\n",
    "db.eu.aggregate(pipeline_companies_10_to_14, allowDiskUse = True)"
   ]
  },
  {
   "cell_type": "code",
   "execution_count": 374,
   "metadata": {},
   "outputs": [],
   "source": [
    "countries = ['NO', 'HR', 'HU', 'CH', 'CZ', 'RO', 'LV', 'GR', 'UK', 'SI', 'LT',\n",
    "             'ES', 'FR', 'IE', 'SE', 'NL', 'PT', 'PL', 'DK', 'MK', 'DE', 'IT',\n",
    "             'BG', 'CY', 'AT', 'LU', 'BE', 'FI', 'EE', 'SK', 'MT', 'LI', 'IS']"
   ]
  },
  {
   "cell_type": "code",
   "execution_count": 416,
   "metadata": {},
   "outputs": [],
   "source": [
    "countriesl = ['FR','DE',\"ES\"]"
   ]
  },
  {
   "cell_type": "code",
   "execution_count": 376,
   "metadata": {},
   "outputs": [
    {
     "data": {
      "text/plain": [
       "<pymongo.command_cursor.CommandCursor at 0x107165a90>"
      ]
     },
     "execution_count": 376,
     "metadata": {},
     "output_type": "execute_result"
    }
   ],
   "source": [
    "avg_country_euro_avg = 0\n",
    "avg_country_count = 0\n",
    "avg_country_offer_avg = 0\n",
    "avg_country_euro_avg_y_eu = 0\n",
    "avg_country_euro_avg_n_eu = 0\n",
    "\n",
    "\n",
    "filter_match = year_country_filter(2008, 2020, countriesl)\n",
    "\n",
    "temp_filtered = { \"$out\" : \"temp_filtered\" }\n",
    "\n",
    "db.country_euro_avg.aggregate([filter_match, temp_filtered])"
   ]
  },
  {
   "cell_type": "code",
   "execution_count": 377,
   "metadata": {},
   "outputs": [
    {
     "data": {
      "text/plain": [
       "{'_id': {'year': 2014, 'country': 'FR'},\n",
       " 'avg': 3618623.091451483,\n",
       " 'avgValueBEuFundsNo': 17032014.613716405,\n",
       " 'avgValueBEuFundsYes': 4645299.046601308,\n",
       " 'avg_no': 6.521554308862918,\n",
       " 'count': 21137,\n",
       " 'sum': 76486836284.01,\n",
       " 'sumValueBEuFundsNo': 54767804469.55,\n",
       " 'sumValueBEuFundsYes': 1834353477.39,\n",
       " 'sum_no': 90591,\n",
       " 'summ': 76486836284.01}"
      ]
     },
     "execution_count": 377,
     "metadata": {},
     "output_type": "execute_result"
    }
   ],
   "source": [
    "db.temp_filtered.find_one()"
   ]
  },
  {
   "cell_type": "code",
   "execution_count": 378,
   "metadata": {},
   "outputs": [
    {
     "data": {
      "text/plain": [
       "1834353477.39"
      ]
     },
     "execution_count": 378,
     "metadata": {},
     "output_type": "execute_result"
    }
   ],
   "source": [
    "272444305830.35\n",
    "54767804469.55\n",
    "1834353477.39"
   ]
  },
  {
   "cell_type": "code",
   "execution_count": 383,
   "metadata": {},
   "outputs": [
    {
     "name": "stdout",
     "output_type": "stream",
     "text": [
      "4231894.069804172\n",
      "2338202.2192644905\n"
     ]
    }
   ],
   "source": [
    "countryAvg_1 = {\"$group\": {\"_id\": {\"country\": \"$country\"}, \"averageAmount\": {\"$sum\": \"$sum\"}, \"count\": {\"$sum\": \"$count\"}}}\n",
    "countryAvg_2 = {\"$group\": {\"_id\": {}, \"averageAmount\": {\"$sum\": \"$averageAmount\"}, \"count\": {\"$sum\": \"$count\"}}}\n",
    "\n",
    "# resulting pipeline\n",
    "#pipeline_15_1 = [year_country_filter(bot_year, top_year, country_list), businessAvg_1]\n",
    "pipeline_10_1 = [pre,countryAvg_1]\n",
    "\n",
    "# cursor from the pipeline above\n",
    "# it assumes the existence of a pre-calculated collection (defined in insert_operation)\n",
    "#myCursor = db.business_euro_avg.aggregate(pipeline_15_1)\n",
    "myCursor = db.temp_filtered.aggregate(pipeline_10_1)\n",
    "avg_country_euro_avg=0\n",
    "for document in myCursor:\n",
    "   # print(document)\n",
    "    avg_country_euro_avg += document['averageAmount']/document['count']\n",
    "    \n",
    "print(avg_country_euro_avg)\n",
    "    \n",
    "    \n",
    "    \n",
    "pipeline_10_1 = [pre,countryAvg_1,countryAvg_2]\n",
    "\n",
    "# cursor from the pipeline above\n",
    "# it assumes the existence of a pre-calculated collection (defined in insert_operation)\n",
    "#myCursor = db.business_euro_avg.aggregate(pipeline_15_1)\n",
    "myCursor = db.temp_filtered.aggregate(pipeline_10_1)\n",
    "avg_country_euro_avg=0\n",
    "for document in myCursor:\n",
    "    #print(document)\n",
    "    avg_country_euro_avg = document['averageAmount']/document['count']\n",
    "    \n",
    "print(avg_country_euro_avg)\n",
    "    \n",
    "    "
   ]
  },
  {
   "cell_type": "code",
   "execution_count": 370,
   "metadata": {},
   "outputs": [
    {
     "name": "stdout",
     "output_type": "stream",
     "text": [
      "{'_id': {}, 'count': 351260.0}\n",
      "351260.0\n"
     ]
    }
   ],
   "source": [
    "\n",
    "countryAvg_1 = { \"$group\": { \"_id\":{\"country\": \"$country\"},\"count\": {\"$sum\":\"$count\"} } }\n",
    "\n",
    "\n",
    "countryAvg_2 = {\"$group\": {\"_id\":{}, \"count\": {\"$avg\": \"$count\"}}}\n",
    "\n",
    "\n",
    "pre = {\"$project\": {\n",
    "    \"sum_no\": 1,\n",
    "    \"count\": 1,\n",
    "    \"sum\": 1,\n",
    "    \"sumValueBEuFundsNo\": 1,\n",
    "    \"sumValueBEuFundsYes\": 1,\n",
    "    \"country\": \"$_id.country\",\n",
    "    \"year\": \"$_id.year\"\n",
    "\n",
    "}\n",
    "}\n",
    "\n",
    "#countryAvg_2 = { \"$group\": { \"_id\":{}, \"averageAmount\": {\"$sum\": \"$averageAmount\"}, \"count\": {\"$sum\":\"$count\"} } }\n",
    "\n",
    "\n",
    "\n",
    "# resulting pipeline\n",
    "#pipeline_15_1 = [year_country_filter(bot_year, top_year, country_list), businessAvg_1]\n",
    "pipeline_10_1 = [pre,countryAvg_1,countryAvg_2]\n",
    "\n",
    "# cursor from the pipeline above\n",
    "# it assumes the existence of a pre-calculated collection (defined in insert_operation)\n",
    "#myCursor = db.business_euro_avg.aggregate(pipeline_15_1)\n",
    "myCursor = db.temp_filtered.aggregate(pipeline_10_1)\n",
    "final=0.0\n",
    "for document in myCursor:\n",
    "    print(document)\n",
    "    print(document['count'])\n",
    "\n"
   ]
  },
  {
   "cell_type": "code",
   "execution_count": 353,
   "metadata": {},
   "outputs": [
    {
     "name": "stdout",
     "output_type": "stream",
     "text": [
      "{'_id': {}, 'count': 2116465.0}\n"
     ]
    }
   ],
   "source": [
    "\n",
    "countryAvg_1 = { \"$group\": { \"_id\":{\"country\": \"$country\"},\"count\": {\"$sum\":\"$sum_no\"} } }\n",
    "\n",
    "\n",
    "countryAvg_2 = {\"$group\": {\"_id\":{}, \"count\": {\"$avg\": \"$count\"}}}\n",
    "\n",
    "\n",
    "pre = {\"$project\": {\n",
    "    \"sum_no\": 1,\n",
    "    \"count\": 1,\n",
    "    \"sum\": 1,\n",
    "    \"sumValueBEuFundsNo\": 1,\n",
    "    \"sumValueBEuFundsYes\": 1,\n",
    "    \"country\": \"$_id.country\",\n",
    "    \"year\": \"$_id.year\"\n",
    "\n",
    "}\n",
    "}\n",
    "\n",
    "#countryAvg_2 = { \"$group\": { \"_id\":{}, \"averageAmount\": {\"$sum\": \"$averageAmount\"}, \"count\": {\"$sum\":\"$count\"} } }\n",
    "\n",
    "\n",
    "\n",
    "# resulting pipeline\n",
    "#pipeline_15_1 = [year_country_filter(bot_year, top_year, country_list), businessAvg_1]\n",
    "pipeline_10_1 = [pre,countryAvg_1,countryAvg_2]\n",
    "\n",
    "# cursor from the pipeline above\n",
    "# it assumes the existence of a pre-calculated collection (defined in insert_operation)\n",
    "#myCursor = db.business_euro_avg.aggregate(pipeline_15_1)\n",
    "myCursor = db.temp_filtered.aggregate(pipeline_10_1)\n",
    "final=0.0\n",
    "for document in myCursor:\n",
    "    print(document)\n",
    "    #print(document['count'])\n",
    "\n",
    "\n"
   ]
  },
  {
   "cell_type": "code",
   "execution_count": 387,
   "metadata": {},
   "outputs": [
    {
     "data": {
      "text/plain": [
       "217076.74750580202"
      ]
     },
     "execution_count": 387,
     "metadata": {},
     "output_type": "execute_result"
    }
   ],
   "source": [
    "\n",
    "countryAvg_1 = { \"$group\": { \"_id\":{\"country\": \"$country\"},\"sum\": {\"$sum\":\"$sumValueBEuFundsYes\"},\"count\": {\"$sum\":\"$count\"} } }\n",
    "\n",
    "pre = {\"$project\": {\n",
    "    \"sum_no\": 1,\n",
    "    \"count\": 1,\n",
    "    \"sum\": 1,\n",
    "    \"sumValueBEuFundsNo\": 1,\n",
    "    \"sumValueBEuFundsYes\": 1,\n",
    "    \"country\": \"$_id.country\",\n",
    "    \"year\": \"$_id.year\"\n",
    "\n",
    "}\n",
    "}\n",
    "\n",
    "#countryAvg_2 = { \"$group\": { \"_id\":{}, \"averageAmount\": {\"$sum\": \"$averageAmount\"}, \"count\": {\"$sum\":\"$count\"} } }\n",
    "\n",
    "\n",
    "\n",
    "# resulting pipeline\n",
    "#pipeline_15_1 = [year_country_filter(bot_year, top_year, country_list), businessAvg_1]\n",
    "pipeline_10_1 = [pre,countryAvg_1]\n",
    "\n",
    "# cursor from the pipeline above\n",
    "# it assumes the existence of a pre-calculated collection (defined in insert_operation)\n",
    "#myCursor = db.business_euro_avg.aggregate(pipeline_15_1)\n",
    "myCursor = db.temp_filtered.aggregate(pipeline_10_1)\n",
    "avg_country_euro_avg=0.0\n",
    "for document in myCursor:\n",
    "    avg_country_euro_avg += document['sum'] / document['count']\n",
    "avg_country_euro_avg\n",
    "\n",
    "\n"
   ]
  },
  {
   "cell_type": "code",
   "execution_count": null,
   "metadata": {},
   "outputs": [],
   "source": []
  },
  {
   "cell_type": "code",
   "execution_count": null,
   "metadata": {},
   "outputs": [],
   "source": []
  },
  {
   "cell_type": "code",
   "execution_count": 417,
   "metadata": {},
   "outputs": [
    {
     "data": {
      "text/plain": [
       "[{'country': 'FI', 'count': 59537},\n",
       " {'country': 'IE', 'count': 17837},\n",
       " {'country': 'MT', 'count': 3070},\n",
       " {'country': 'UK', 'count': 227602},\n",
       " {'country': 'CZ', 'count': 93308},\n",
       " {'country': 'PT', 'count': 18562},\n",
       " {'country': 'CY', 'count': 7608},\n",
       " {'country': 'LU', 'count': 3806},\n",
       " {'country': 'FR', 'count': 462179},\n",
       " {'country': 'HU', 'count': 59281},\n",
       " {'country': 'BE', 'count': 47528},\n",
       " {'country': 'IT', 'count': 154200},\n",
       " {'country': 'EE', 'count': 21060},\n",
       " {'country': 'IS', 'count': 1014},\n",
       " {'country': 'DE', 'count': 217005},\n",
       " {'country': 'GR', 'count': 35691},\n",
       " {'country': 'CH', 'count': 3539},\n",
       " {'country': 'SK', 'count': 33454},\n",
       " {'country': 'NO', 'count': 23057},\n",
       " {'country': 'LT', 'count': 82789},\n",
       " {'country': 'SE', 'count': 36063},\n",
       " {'country': 'HR', 'count': 27384},\n",
       " {'country': 'DK', 'count': 39685},\n",
       " {'country': 'BG', 'count': 99339},\n",
       " {'country': 'MK', 'count': 4314},\n",
       " {'country': 'NL', 'count': 29140},\n",
       " {'country': 'SI', 'count': 84255},\n",
       " {'country': 'AT', 'count': 21711},\n",
       " {'country': 'LI', 'count': 88},\n",
       " {'country': 'ES', 'count': 168627},\n",
       " {'country': 'RO', 'count': 230041},\n",
       " {'country': 'LV', 'count': 87283},\n",
       " {'country': 'PL', 'count': 1045250}]"
      ]
     },
     "execution_count": 417,
     "metadata": {},
     "output_type": "execute_result"
    }
   ],
   "source": [
    "\n",
    "countryAvg_1 = { \"$group\": { \"_id\":{\"country\": \"$country\"},\"count\": {\"$sum\":\"$count\"} } }\n",
    "\n",
    "pre = {\"$project\": {\n",
    "    \"sum_no\": 1,\n",
    "    \"count\": 1,\n",
    "    \"sum\": 1,\n",
    "    \"sumValueBEuFundsNo\": 1,\n",
    "    \"sumValueBEuFundsYes\": 1,\n",
    "    \"country\": \"$_id.country\",\n",
    "    \"year\": \"$_id.year\"\n",
    "\n",
    "}\n",
    "}\n",
    "\n",
    "#countryAvg_2 = { \"$group\": { \"_id\":{}, \"averageAmount\": {\"$sum\": \"$averageAmount\"}, \"count\": {\"$sum\":\"$count\"} } }\n",
    "\n",
    "\n",
    "\n",
    "# resulting pipeline\n",
    "#pipeline_15_1 = [year_country_filter(bot_year, top_year, country_list), businessAvg_1]\n",
    "pipeline_10_1 = [pre,countryAvg_1]\n",
    "\n",
    "# cursor from the pipeline above\n",
    "# it assumes the existence of a pre-calculated collection (defined in insert_operation)\n",
    "#myCursor = db.business_euro_avg.aggregate(pipeline_15_1)\n",
    "myCursor = db.temp_filtered.aggregate(pipeline_10_1)\n",
    "\n",
    "list_documents=[]\n",
    "for document in myCursor:\n",
    "    list_documents.append({\"country\": document['_id']['country'], \"count\": document['count']})\n",
    "\n",
    "list_documents\n",
    "\n",
    "\n",
    "\n"
   ]
  },
  {
   "cell_type": "code",
   "execution_count": null,
   "metadata": {},
   "outputs": [],
   "source": []
  },
  {
   "cell_type": "code",
   "execution_count": null,
   "metadata": {},
   "outputs": [],
   "source": []
  },
  {
   "cell_type": "code",
   "execution_count": 420,
   "metadata": {},
   "outputs": [
    {
     "data": {
      "text/plain": [
       "[{'country': 'FR', 'avgEuro': 3090435.353662369},\n",
       " {'country': 'ES', 'avgEuro': 2849095.562460875},\n",
       " {'country': 'DE', 'avgEuro': 1645962.1247162968}]"
      ]
     },
     "execution_count": 420,
     "metadata": {},
     "output_type": "execute_result"
    }
   ],
   "source": [
    "pre = {\"$project\": {\n",
    "\n",
    "    \"count\": 1,\n",
    "    \"sum\": 1,\n",
    "\n",
    "    \"country\": \"$_id.country\",\n",
    "    \"year\": \"$_id.year\"\n",
    "\n",
    "}\n",
    "}\n",
    "\n",
    "countryAvg_1 = {\"$group\": {\"_id\": {\"country\": \"$country\"}, \"sum\": {\"$sum\": \"$sum\"}, \"count\": {\"$sum\": \"$count\"}}}\n",
    "countryAvg_2 = { \"$project\": { \"country\": 1, \"avgEuro\": { \"$divide\": [ \"$sum\", \"$count\" ] } } }\n",
    "query2 = {\"$sort\": {\"avgEuro\": -1}}\n",
    "\n",
    "query3 = {\"$limit\": 5}\n",
    "\n",
    "# resulting pipeline\n",
    "#pipeline_15_1 = [year_country_filter(bot_year, top_year, country_list), businessAvg_1]\n",
    "pipeline_10_1 = [year_country_filter(2008, 2020, countriesl), pre,countryAvg_1, countryAvg_2,query2,query3]\n",
    "\n",
    "# cursor from the pipeline above\n",
    "# it assumes the existence of a pre-calculated collection (defined in insert_operation)\n",
    "#myCursor = db.business_euro_avg.aggregate(pipeline_15_1)\n",
    "myCursor = db.temp_filtered.aggregate(pipeline_10_1)\n",
    "\n",
    "list_documents=[]\n",
    "for document in myCursor:\n",
    "    #print(document)\n",
    "    list_documents.append({\"country\": document['_id']['country'], \"avgEuro\": document['avgEuro']})\n",
    "\n",
    "list_documents\n",
    "\n"
   ]
  },
  {
   "cell_type": "code",
   "execution_count": null,
   "metadata": {},
   "outputs": [],
   "source": []
  },
  {
   "cell_type": "code",
   "execution_count": null,
   "metadata": {},
   "outputs": [],
   "source": []
  },
  {
   "cell_type": "code",
   "execution_count": null,
   "metadata": {},
   "outputs": [],
   "source": []
  },
  {
   "cell_type": "code",
   "execution_count": 424,
   "metadata": {},
   "outputs": [
    {
     "data": {
      "text/plain": [
       "[{'sum': 86978009672.32, 'country': 'FR'},\n",
       " {'sum': 59777915695.24, 'country': 'ES'},\n",
       " {'sum': 12016564436.59, 'country': 'DE'}]"
      ]
     },
     "execution_count": 424,
     "metadata": {},
     "output_type": "execute_result"
    }
   ],
   "source": [
    "pre = {\"$project\": {\n",
    "    \"sumValueBEuFundsYes\": 1,\n",
    "    \"country\": \"$_id.country\",\n",
    "    \"year\": \"$_id.year\"\n",
    "\n",
    "}\n",
    "}\n",
    "\n",
    "countryAvg_1 = {\"$group\": {\"_id\": {\"country\": \"$country\"}, \"sum\": {\"$sum\": \"$sumValueBEuFundsYes\"}}}\n",
    "\n",
    "pipeline_10_1 = [year_country_filter(2008, 2020, countriesl), pre,countryAvg_1]\n",
    "\n",
    "\n",
    "myCursor = db.temp_filtered.aggregate(pipeline_10_1)\n",
    "\n",
    "list_documents=[]\n",
    "for document in myCursor:\n",
    "    #print(document)\n",
    "    list_documents.append({\"sum\": document['sum'],\"country\": document['_id']['country']})\n",
    "\n",
    "list_documents\n",
    "\n",
    "\n"
   ]
  },
  {
   "cell_type": "code",
   "execution_count": null,
   "metadata": {},
   "outputs": [],
   "source": []
  },
  {
   "cell_type": "code",
   "execution_count": null,
   "metadata": {},
   "outputs": [],
   "source": []
  },
  {
   "cell_type": "code",
   "execution_count": null,
   "metadata": {},
   "outputs": [],
   "source": []
  },
  {
   "cell_type": "code",
   "execution_count": null,
   "metadata": {},
   "outputs": [],
   "source": []
  },
  {
   "cell_type": "code",
   "execution_count": null,
   "metadata": {},
   "outputs": [],
   "source": []
  },
  {
   "cell_type": "code",
   "execution_count": 159,
   "metadata": {},
   "outputs": [],
   "source": [
    "countryAvg_2 = {\"$group\": {\"_id\": \"avg_country_count\", \"averageCount\": {\"$avg\": \"$count\"}}}\n",
    "\n",
    "# resulting pipeline\n",
    "pipeline_10_2 = [countryAvg_2]\n",
    "\n",
    "# cursor from the pipeline above\n",
    "# it assumes the existence of a pre-calculated collection (defined in insert_operation)\n",
    "myCursor = db.temp_filtered.aggregate(pipeline_10_2)\n",
    "\n",
    "for document in myCursor:\n",
    "    print(document['averageCount'])"
   ]
  },
  {
   "cell_type": "code",
   "execution_count": null,
   "metadata": {},
   "outputs": [],
   "source": []
  },
  {
   "cell_type": "code",
   "execution_count": null,
   "metadata": {},
   "outputs": [],
   "source": []
  },
  {
   "cell_type": "code",
   "execution_count": null,
   "metadata": {},
   "outputs": [],
   "source": []
  },
  {
   "cell_type": "code",
   "execution_count": 132,
   "metadata": {},
   "outputs": [],
   "source": [
    "sortedCount = { \"$sort\" : { \"count\" : -1} }\n",
    "limitSorted = { \"$limit\" : 15 }"
   ]
  },
  {
   "cell_type": "code",
   "execution_count": 160,
   "metadata": {},
   "outputs": [
    {
     "name": "stdout",
     "output_type": "stream",
     "text": [
      "{'_id': {'year': 2018, 'country': 'PL'}, 'avg': None, 'avgValueBEuFundsNo': None, 'avgValueBEuFundsYes': None, 'avg_no': 2.1294883285290958, 'count': 163779, 'sum': 0}\n",
      "{'_id': {'year': 2017, 'country': 'PL'}, 'avg': 1839214.8729516, 'avgValueBEuFundsNo': 1871796.9327231247, 'avgValueBEuFundsYes': 1824945.7440407674, 'avg_no': 2.267377174457875, 'count': 153489, 'sum': 263114401294.71}\n",
      "{'_id': {'year': 2011, 'country': 'FR'}, 'avg': 4898806.966672049, 'avgValueBEuFundsNo': 5556767.250803824, 'avgValueBEuFundsYes': 8804398.483847925, 'avg_no': 7.110088433791017, 'count': 136635, 'sum': 130465027136.41}\n",
      "{'_id': {'year': 2010, 'country': 'FR'}, 'avg': 7722491.130870885, 'avgValueBEuFundsNo': 9716707.37940341, 'avgValueBEuFundsYes': 4566760.080186199, 'avg_no': 7.568157330922511, 'count': 132698, 'sum': 190737808441.38}\n",
      "{'_id': {'year': 2014, 'country': 'PL'}, 'avg': 1282496.433237929, 'avgValueBEuFundsNo': 1355659.27012988, 'avgValueBEuFundsYes': 715949.9858448877, 'avg_no': 2.480615119737048, 'count': 132633, 'sum': 146032738867.07}\n",
      "{'_id': {'year': 2012, 'country': 'FR'}, 'avg': 5720745.6286297925, 'avgValueBEuFundsNo': 6742477.221513894, 'avgValueBEuFundsYes': 10814102.15, 'avg_no': 6.83701589184647, 'count': 131189, 'sum': 143247470540.89}\n",
      "{'_id': {'year': 2013, 'country': 'PL'}, 'avg': 1552983.8017537855, 'avgValueBEuFundsNo': 1612747.9497599143, 'avgValueBEuFundsYes': 1274389.653339942, 'avg_no': 2.472897196261682, 'count': 130273, 'sum': 169733364612.68}\n",
      "{'_id': {'year': 2015, 'country': 'PL'}, 'avg': 3212745.095953459, 'avgValueBEuFundsNo': 3448029.1982462816, 'avgValueBEuFundsYes': 1544638.665390617, 'avg_no': 2.8376095093819385, 'count': 129319, 'sum': 351917672320.55}\n",
      "{'_id': {'year': 2009, 'country': 'FR'}, 'avg': 5626917.127606454, 'avgValueBEuFundsNo': 5129853.689863326, 'avgValueBEuFundsYes': 10484889.371993704, 'avg_no': 8.786602404696593, 'count': 129249, 'sum': 122762450972.99}\n",
      "{'_id': {'year': 2013, 'country': 'FR'}, 'avg': 32682844.248352922, 'avgValueBEuFundsNo': 48088229.5768169, 'avgValueBEuFundsYes': 10760861.50982301, 'avg_no': 6.863476799090257, 'count': 129121, 'sum': 748077622000.55}\n",
      "{'_id': {'year': 2017, 'country': 'FR'}, 'avg': 117029518.56133385, 'avgValueBEuFundsNo': 127753678.73595598, 'avgValueBEuFundsYes': 13438051.365235182, 'avg_no': 8.531736179244339, 'count': 128650, 'sum': 13874083484483.25}\n",
      "{'_id': {'year': 2018, 'country': 'FR'}, 'avg': None, 'avgValueBEuFundsNo': None, 'avgValueBEuFundsYes': None, 'avg_no': 6.360205322968282, 'count': 124257, 'sum': 0}\n",
      "{'_id': {'year': 2012, 'country': 'PL'}, 'avg': 1258405.188264337, 'avgValueBEuFundsNo': 1396289.3374121399, 'avgValueBEuFundsYes': 674529.6841658195, 'avg_no': 2.3935560337581117, 'count': 122407, 'sum': 135544081233.14}\n",
      "{'_id': {'year': 2014, 'country': 'FR'}, 'avg': 12745336.163470715, 'avgValueBEuFundsNo': 17032014.613716405, 'avgValueBEuFundsYes': 4645299.046601308, 'avg_no': 6.521554308862918, 'count': 122197, 'sum': 272444305830.35}\n",
      "{'_id': {'year': 2015, 'country': 'FR'}, 'avg': 8515733.579507302, 'avgValueBEuFundsNo': 10374609.354606442, 'avgValueBEuFundsYes': 14975633.014807198, 'avg_no': 6.574013645802433, 'count': 120761, 'sum': 173184473806.44}\n"
     ]
    }
   ],
   "source": [
    "\n",
    "\n",
    "# resulting pipeline\n",
    "pipeline_10_2 = [year_country_filter(2008, 2020, countries), sortedCount, limitSorted]\n",
    "\n",
    "# cursor from the pipeline above\n",
    "# it assumes the existence of a pre-calculated collection (defined in insert_operation)\n",
    "myCursor = db.country_euro_avg.aggregate(pipeline_10_2)\n",
    "\n",
    "list_documents = []\n",
    "for document in myCursor:\n",
    "    print(document)\n",
    "    list_documents.append({\"country\": document['_id']['country'], \"count\": document['count']})"
   ]
  },
  {
   "cell_type": "code",
   "execution_count": 161,
   "metadata": {},
   "outputs": [
    {
     "data": {
      "text/plain": [
       "[{'country': 'PL', 'count': 163779},\n",
       " {'country': 'PL', 'count': 153489},\n",
       " {'country': 'FR', 'count': 136635},\n",
       " {'country': 'FR', 'count': 132698},\n",
       " {'country': 'PL', 'count': 132633},\n",
       " {'country': 'FR', 'count': 131189},\n",
       " {'country': 'PL', 'count': 130273},\n",
       " {'country': 'PL', 'count': 129319},\n",
       " {'country': 'FR', 'count': 129249},\n",
       " {'country': 'FR', 'count': 129121},\n",
       " {'country': 'FR', 'count': 128650},\n",
       " {'country': 'FR', 'count': 124257},\n",
       " {'country': 'PL', 'count': 122407},\n",
       " {'country': 'FR', 'count': 122197},\n",
       " {'country': 'FR', 'count': 120761}]"
      ]
     },
     "execution_count": 161,
     "metadata": {},
     "output_type": "execute_result"
    }
   ],
   "source": [
    "list_documents"
   ]
  },
  {
   "cell_type": "code",
   "execution_count": null,
   "metadata": {},
   "outputs": [],
   "source": []
  },
  {
   "cell_type": "code",
   "execution_count": null,
   "metadata": {},
   "outputs": [],
   "source": []
  },
  {
   "cell_type": "code",
   "execution_count": null,
   "metadata": {},
   "outputs": [],
   "source": []
  },
  {
   "cell_type": "markdown",
   "metadata": {},
   "source": [
    "# 14"
   ]
  },
  {
   "cell_type": "code",
   "execution_count": 35,
   "metadata": {},
   "outputs": [],
   "source": [
    "def year_country_filter(bot_year, top_year, country_list):\n",
    "    filter_ = {\n",
    "        '$match': {\n",
    "            '$and': [{\"_id.year\": {'$gte': bot_year}}, {\"_id.year\": {'$lte': top_year}}],\n",
    "            \"_id.country\": { '$in': country_list }\n",
    "                  }\n",
    "              }\n",
    "\n",
    "    return filter_"
   ]
  },
  {
   "cell_type": "code",
   "execution_count": 36,
   "metadata": {},
   "outputs": [],
   "source": [
    "countriesl = ['FR','DE',\"ES\",\"UK\"]"
   ]
  },
  {
   "cell_type": "code",
   "execution_count": 37,
   "metadata": {},
   "outputs": [],
   "source": [
    "filter_match = year_country_filter(2008, 2020, countriesl)"
   ]
  },
  {
   "cell_type": "code",
   "execution_count": 38,
   "metadata": {},
   "outputs": [],
   "source": [
    "temp_filtered_country = { \"$out\" : \"temp_filtered_country\" }"
   ]
  },
  {
   "cell_type": "code",
   "execution_count": null,
   "metadata": {},
   "outputs": [],
   "source": []
  },
  {
   "cell_type": "code",
   "execution_count": 44,
   "metadata": {},
   "outputs": [],
   "source": [
    "pipeline_companies_15_to_19 = [\n",
    "                # CAE_NAME must be string, the others must be not null\n",
    "                {\"$match\": {\"CAE_NAME\": {\"$type\":2},\n",
    "                            'CAE_ADDRESS': {\"$type\":2},\n",
    "                            'CAE_TOWN': {\"$type\":2},\n",
    "                            \"VALUE_EURO\": {\"$gte\":1000, \"$lte\":100000000},\n",
    "                            \"YEAR\": {\"$ne\":\"null\"},\n",
    "                            \"ISO_COUNTRY_CODE\": {\"$ne\":\"null\"} }\n",
    "                },\n",
    "                # project only the necessary fields\n",
    "                {\"$project\": {\"CAE_NAME\": 1,\n",
    "                                \"ADDRESS\": { \"$concat\": [ \"$CAE_ADDRESS\", \" \", \"$CAE_TOWN\" ] },\n",
    "                                \"CAE_ADDRESS\": 1,\n",
    "                                \"CAE_TOWN\": 1,\n",
    "                                \"VALUE_EURO\": 1,\n",
    "                                \"ISO_COUNTRY_CODE\": 1,\n",
    "                                \"YEAR\": 1,\n",
    "                                \"NUMBER_OFFERS\": 1,\n",
    "                                \"bEuFundsYes\": {\n",
    "                                                # Set to VALUE_EURO if B_EU_FUNDS = Y\n",
    "                                            \"$cond\": [ { \"$eq\": [ \"$B_EU_FUNDS\", \"Y\" ] }, \"$VALUE_EURO\", \"null\"]\n",
    "                                                },\n",
    "                                \"bEuFundsNo\":  {\n",
    "                                                # Set to VALUE_EURO if B_EU_FUNDS = N\n",
    "                                                \"$cond\": [ { \"$eq\": [ \"$B_EU_FUNDS\", \"N\" ] }, \"$VALUE_EURO\", \"null\"]\n",
    "                                                },\n",
    "                                \n",
    "                                \"countyes\": {\n",
    "                                                # Set to VALUE_EURO if B_EU_FUNDS = Y\n",
    "                                            \"$cond\": [ { \"$eq\": [ \"$B_EU_FUNDS\", \"Y\" ] }, 1, 0]\n",
    "                                                },\n",
    "                                \"countno\":  {\n",
    "                                                # Set to VALUE_EURO if B_EU_FUNDS = N\n",
    "                                                \"$cond\": [ { \"$eq\": [ \"$B_EU_FUNDS\", \"N\" ] }, 1, 0]\n",
    "                                                }\n",
    "\n",
    "                             }\n",
    "\n",
    "                },\n",
    "                {\"$group\": {\"_id\": {\n",
    "                                \"business\": \"$CAE_NAME\",\n",
    "                                \"address\": \"$ADDRESS\",\n",
    "                                \"year\": \"$YEAR\",\n",
    "                                \"country\": \"$ISO_COUNTRY_CODE\"\n",
    "                                    },\n",
    "                                \"avg\": {\"$avg\": \"$VALUE_EURO\"},\n",
    "                                \"sum\": {\"$sum\": \"$VALUE_EURO\"},\n",
    "                                \"count\":{\"$sum\":1},\n",
    "                                \"sum_no\": {\"$sum\": \"$NUMBER_OFFERS\"},\n",
    "                                \"sumValueBEuFundsYes\": { \"$sum\": \"$bEuFundsYes\" },\n",
    "                                \"sumValueBEuFundsNo\": { \"$sum\": \"$bEuFundsNo\" },\n",
    "                                \"count_yes\": {\"$sum\":\"$countyes\"},\n",
    "                                \"count_no\": {\"$sum\":\"$countno\"}\n",
    "                            }\n",
    "                    },\n",
    "                    # $merge to write the results out to another collection\n",
    "                    { \"$merge\": { \"into\": \"business_euro_sum\" } } ]\n"
   ]
  },
  {
   "cell_type": "code",
   "execution_count": 45,
   "metadata": {},
   "outputs": [
    {
     "data": {
      "text/plain": [
       "<pymongo.command_cursor.CommandCursor at 0x109f4ffd0>"
      ]
     },
     "execution_count": 45,
     "metadata": {},
     "output_type": "execute_result"
    }
   ],
   "source": [
    "db.eu.aggregate(pipeline_companies_15_to_19, allowDiskUse = True)"
   ]
  },
  {
   "cell_type": "code",
   "execution_count": 46,
   "metadata": {},
   "outputs": [
    {
     "data": {
      "text/plain": [
       "<pymongo.command_cursor.CommandCursor at 0x109f4fe10>"
      ]
     },
     "execution_count": 46,
     "metadata": {},
     "output_type": "execute_result"
    }
   ],
   "source": [
    "db.business_euro_sum.aggregate([filter_match, temp_filtered_country])"
   ]
  },
  {
   "cell_type": "code",
   "execution_count": null,
   "metadata": {},
   "outputs": [],
   "source": []
  },
  {
   "cell_type": "code",
   "execution_count": 47,
   "metadata": {},
   "outputs": [
    {
     "name": "stdout",
     "output_type": "stream",
     "text": [
      "FR\n",
      "UK\n",
      "DE\n",
      "ES\n"
     ]
    },
    {
     "data": {
      "text/plain": [
       "[{'sum': 76553087426.95, 'country': 'France'},\n",
       " {'sum': 155173531962.88,\n",
       "  'country': 'United Kingdom of Great Britain and Northern Ireland'},\n",
       " {'sum': 11812803887.82, 'country': 'Germany'},\n",
       " {'sum': 56845235589.049995, 'country': 'Spain'}]"
      ]
     },
     "execution_count": 47,
     "metadata": {},
     "output_type": "execute_result"
    }
   ],
   "source": [
    "\n",
    "\n",
    "pre = {\"$project\": {\n",
    "    \"sumValueBEuFundsYes\": 1,\n",
    "    \"country\": \"$_id.country\",\n",
    "    \"year\": \"$_id.year\",\n",
    "    \"address\": \"$_id.address\",\n",
    "    \"business\": \"$_id.business\"\n",
    "\n",
    "}\n",
    "}\n",
    "\n",
    "lookupCountry = { \"$lookup\": {\n",
    "                             \"from\": \"iso_codes\",\n",
    "                             \"localField\": \"_id.country\",\n",
    "                             \"foreignField\": \"alpha-2\",\n",
    "                             \"as\": \"country_iso\"\n",
    "                             }\n",
    "                }\n",
    "\n",
    "countryAvg_1 = {\"$group\": {\"_id\": {\"country\": \"$country\"}, \"sum\": {\"$sum\": \"$sumValueBEuFundsYes\"}}}\n",
    "\n",
    "pipeline_10_1 = [year_country_filter(2008, 2020, countriesl), pre, countryAvg_1, lookupCountry]\n",
    "\n",
    "#pipeline_10_1 = [pre, countryAvg_1, lookupCountry]\n",
    "\n",
    "myCursor = db.business_euro_sum.aggregate(pipeline_10_1)\n",
    "\n",
    "list_documents = []\n",
    "\n",
    "for document in myCursor:\n",
    "    print(document[\"_id\"][\"country\"])\n",
    " \n",
    "    if document[\"_id\"][\"country\"]!=\"UK\":\n",
    "        list_documents.append({\n",
    "            \"sum\": document['sum'],\n",
    "            \"country\": document['country_iso'][0]['name'],\n",
    "            })\n",
    "    else:\n",
    "        list_documents.append({\n",
    "            \"sum\": document['sum'],\n",
    "            \"country\": \"United Kingdom of Great Britain and Northern Ireland\",\n",
    "            })\n",
    "\n",
    "\n",
    "\n",
    "list_documents"
   ]
  },
  {
   "cell_type": "code",
   "execution_count": null,
   "metadata": {},
   "outputs": [],
   "source": []
  }
 ],
 "metadata": {
  "kernelspec": {
   "display_name": "Python 3",
   "language": "python",
   "name": "python3"
  },
  "language_info": {
   "codemirror_mode": {
    "name": "ipython",
    "version": 3
   },
   "file_extension": ".py",
   "mimetype": "text/x-python",
   "name": "python",
   "nbconvert_exporter": "python",
   "pygments_lexer": "ipython3",
   "version": "3.8.8"
  }
 },
 "nbformat": 4,
 "nbformat_minor": 4
}
